{
 "cells": [
  {
   "cell_type": "code",
   "execution_count": 2,
   "metadata": {},
   "outputs": [],
   "source": [
    "# Import all libraries\n",
    "import pandas as pd\n",
    "import matplotlib.pyplot as plt\n",
    "import seaborn as sns\n",
    "import numpy as np\n",
    "\n",
    "# importing libraries for model use for XGB:\n",
    "from imblearn.over_sampling import SMOTE\n",
    "from sklearn.model_selection import train_test_split\n",
    "from sklearn.preprocessing import StandardScaler, RobustScaler\n",
    "import xgboost as xgb\n",
    "from sklearn.metrics import roc_auc_score,roc_curve, classification_report, recall_score\n",
    "import matplotlib.pyplot as plt\n",
    "from sklearn.model_selection import RandomizedSearchCV\n",
    "from sklearn.model_selection import StratifiedKFold\n"
   ]
  },
  {
   "cell_type": "markdown",
   "metadata": {},
   "source": [
    "# Load all data"
   ]
  },
  {
   "cell_type": "code",
   "execution_count": 3,
   "metadata": {},
   "outputs": [],
   "source": [
    "POS_CASH_balance = pd.read_csv('POS_CASH_balance.csv')\n",
    "bureau = pd.read_csv('bureau.csv')\n",
    "credit_card_balance = pd.read_csv('credit_card_balance.csv')\n",
    "previous_application = pd.read_csv('previous_application.csv')\n",
    "installments_payments = pd.read_csv('installments_payments.csv')\n",
    "bureau_balance = pd.read_csv('bureau_balance.csv')"
   ]
  },
  {
   "cell_type": "code",
   "execution_count": 4,
   "metadata": {},
   "outputs": [
    {
     "data": {
      "text/html": [
       "<div>\n",
       "<style scoped>\n",
       "    .dataframe tbody tr th:only-of-type {\n",
       "        vertical-align: middle;\n",
       "    }\n",
       "\n",
       "    .dataframe tbody tr th {\n",
       "        vertical-align: top;\n",
       "    }\n",
       "\n",
       "    .dataframe thead th {\n",
       "        text-align: right;\n",
       "    }\n",
       "</style>\n",
       "<table border=\"1\" class=\"dataframe\">\n",
       "  <thead>\n",
       "    <tr style=\"text-align: right;\">\n",
       "      <th></th>\n",
       "      <th>SK_ID_CURR</th>\n",
       "      <th>TARGET</th>\n",
       "      <th>NAME_CONTRACT_TYPE</th>\n",
       "      <th>CODE_GENDER</th>\n",
       "      <th>FLAG_OWN_CAR</th>\n",
       "      <th>FLAG_OWN_REALTY</th>\n",
       "      <th>CNT_CHILDREN</th>\n",
       "      <th>AMT_INCOME_TOTAL</th>\n",
       "      <th>AMT_CREDIT</th>\n",
       "      <th>AMT_ANNUITY</th>\n",
       "      <th>...</th>\n",
       "      <th>FLAG_DOCUMENT_18</th>\n",
       "      <th>FLAG_DOCUMENT_19</th>\n",
       "      <th>FLAG_DOCUMENT_20</th>\n",
       "      <th>FLAG_DOCUMENT_21</th>\n",
       "      <th>AMT_REQ_CREDIT_BUREAU_HOUR</th>\n",
       "      <th>AMT_REQ_CREDIT_BUREAU_DAY</th>\n",
       "      <th>AMT_REQ_CREDIT_BUREAU_WEEK</th>\n",
       "      <th>AMT_REQ_CREDIT_BUREAU_MON</th>\n",
       "      <th>AMT_REQ_CREDIT_BUREAU_QRT</th>\n",
       "      <th>AMT_REQ_CREDIT_BUREAU_YEAR</th>\n",
       "    </tr>\n",
       "  </thead>\n",
       "  <tbody>\n",
       "    <tr>\n",
       "      <th>0</th>\n",
       "      <td>100002</td>\n",
       "      <td>1</td>\n",
       "      <td>Cash loans</td>\n",
       "      <td>M</td>\n",
       "      <td>N</td>\n",
       "      <td>Y</td>\n",
       "      <td>0</td>\n",
       "      <td>202500.0</td>\n",
       "      <td>406597.5</td>\n",
       "      <td>24700.5</td>\n",
       "      <td>...</td>\n",
       "      <td>0</td>\n",
       "      <td>0</td>\n",
       "      <td>0</td>\n",
       "      <td>0</td>\n",
       "      <td>0.0</td>\n",
       "      <td>0.0</td>\n",
       "      <td>0.0</td>\n",
       "      <td>0.0</td>\n",
       "      <td>0.0</td>\n",
       "      <td>1.0</td>\n",
       "    </tr>\n",
       "    <tr>\n",
       "      <th>1</th>\n",
       "      <td>100003</td>\n",
       "      <td>0</td>\n",
       "      <td>Cash loans</td>\n",
       "      <td>F</td>\n",
       "      <td>N</td>\n",
       "      <td>N</td>\n",
       "      <td>0</td>\n",
       "      <td>270000.0</td>\n",
       "      <td>1293502.5</td>\n",
       "      <td>35698.5</td>\n",
       "      <td>...</td>\n",
       "      <td>0</td>\n",
       "      <td>0</td>\n",
       "      <td>0</td>\n",
       "      <td>0</td>\n",
       "      <td>0.0</td>\n",
       "      <td>0.0</td>\n",
       "      <td>0.0</td>\n",
       "      <td>0.0</td>\n",
       "      <td>0.0</td>\n",
       "      <td>0.0</td>\n",
       "    </tr>\n",
       "    <tr>\n",
       "      <th>2</th>\n",
       "      <td>100004</td>\n",
       "      <td>0</td>\n",
       "      <td>Revolving loans</td>\n",
       "      <td>M</td>\n",
       "      <td>Y</td>\n",
       "      <td>Y</td>\n",
       "      <td>0</td>\n",
       "      <td>67500.0</td>\n",
       "      <td>135000.0</td>\n",
       "      <td>6750.0</td>\n",
       "      <td>...</td>\n",
       "      <td>0</td>\n",
       "      <td>0</td>\n",
       "      <td>0</td>\n",
       "      <td>0</td>\n",
       "      <td>0.0</td>\n",
       "      <td>0.0</td>\n",
       "      <td>0.0</td>\n",
       "      <td>0.0</td>\n",
       "      <td>0.0</td>\n",
       "      <td>0.0</td>\n",
       "    </tr>\n",
       "    <tr>\n",
       "      <th>3</th>\n",
       "      <td>100006</td>\n",
       "      <td>0</td>\n",
       "      <td>Cash loans</td>\n",
       "      <td>F</td>\n",
       "      <td>N</td>\n",
       "      <td>Y</td>\n",
       "      <td>0</td>\n",
       "      <td>135000.0</td>\n",
       "      <td>312682.5</td>\n",
       "      <td>29686.5</td>\n",
       "      <td>...</td>\n",
       "      <td>0</td>\n",
       "      <td>0</td>\n",
       "      <td>0</td>\n",
       "      <td>0</td>\n",
       "      <td>NaN</td>\n",
       "      <td>NaN</td>\n",
       "      <td>NaN</td>\n",
       "      <td>NaN</td>\n",
       "      <td>NaN</td>\n",
       "      <td>NaN</td>\n",
       "    </tr>\n",
       "    <tr>\n",
       "      <th>4</th>\n",
       "      <td>100007</td>\n",
       "      <td>0</td>\n",
       "      <td>Cash loans</td>\n",
       "      <td>M</td>\n",
       "      <td>N</td>\n",
       "      <td>Y</td>\n",
       "      <td>0</td>\n",
       "      <td>121500.0</td>\n",
       "      <td>513000.0</td>\n",
       "      <td>21865.5</td>\n",
       "      <td>...</td>\n",
       "      <td>0</td>\n",
       "      <td>0</td>\n",
       "      <td>0</td>\n",
       "      <td>0</td>\n",
       "      <td>0.0</td>\n",
       "      <td>0.0</td>\n",
       "      <td>0.0</td>\n",
       "      <td>0.0</td>\n",
       "      <td>0.0</td>\n",
       "      <td>0.0</td>\n",
       "    </tr>\n",
       "    <tr>\n",
       "      <th>...</th>\n",
       "      <td>...</td>\n",
       "      <td>...</td>\n",
       "      <td>...</td>\n",
       "      <td>...</td>\n",
       "      <td>...</td>\n",
       "      <td>...</td>\n",
       "      <td>...</td>\n",
       "      <td>...</td>\n",
       "      <td>...</td>\n",
       "      <td>...</td>\n",
       "      <td>...</td>\n",
       "      <td>...</td>\n",
       "      <td>...</td>\n",
       "      <td>...</td>\n",
       "      <td>...</td>\n",
       "      <td>...</td>\n",
       "      <td>...</td>\n",
       "      <td>...</td>\n",
       "      <td>...</td>\n",
       "      <td>...</td>\n",
       "      <td>...</td>\n",
       "    </tr>\n",
       "    <tr>\n",
       "      <th>307506</th>\n",
       "      <td>456251</td>\n",
       "      <td>0</td>\n",
       "      <td>Cash loans</td>\n",
       "      <td>M</td>\n",
       "      <td>N</td>\n",
       "      <td>N</td>\n",
       "      <td>0</td>\n",
       "      <td>157500.0</td>\n",
       "      <td>254700.0</td>\n",
       "      <td>27558.0</td>\n",
       "      <td>...</td>\n",
       "      <td>0</td>\n",
       "      <td>0</td>\n",
       "      <td>0</td>\n",
       "      <td>0</td>\n",
       "      <td>NaN</td>\n",
       "      <td>NaN</td>\n",
       "      <td>NaN</td>\n",
       "      <td>NaN</td>\n",
       "      <td>NaN</td>\n",
       "      <td>NaN</td>\n",
       "    </tr>\n",
       "    <tr>\n",
       "      <th>307507</th>\n",
       "      <td>456252</td>\n",
       "      <td>0</td>\n",
       "      <td>Cash loans</td>\n",
       "      <td>F</td>\n",
       "      <td>N</td>\n",
       "      <td>Y</td>\n",
       "      <td>0</td>\n",
       "      <td>72000.0</td>\n",
       "      <td>269550.0</td>\n",
       "      <td>12001.5</td>\n",
       "      <td>...</td>\n",
       "      <td>0</td>\n",
       "      <td>0</td>\n",
       "      <td>0</td>\n",
       "      <td>0</td>\n",
       "      <td>NaN</td>\n",
       "      <td>NaN</td>\n",
       "      <td>NaN</td>\n",
       "      <td>NaN</td>\n",
       "      <td>NaN</td>\n",
       "      <td>NaN</td>\n",
       "    </tr>\n",
       "    <tr>\n",
       "      <th>307508</th>\n",
       "      <td>456253</td>\n",
       "      <td>0</td>\n",
       "      <td>Cash loans</td>\n",
       "      <td>F</td>\n",
       "      <td>N</td>\n",
       "      <td>Y</td>\n",
       "      <td>0</td>\n",
       "      <td>153000.0</td>\n",
       "      <td>677664.0</td>\n",
       "      <td>29979.0</td>\n",
       "      <td>...</td>\n",
       "      <td>0</td>\n",
       "      <td>0</td>\n",
       "      <td>0</td>\n",
       "      <td>0</td>\n",
       "      <td>1.0</td>\n",
       "      <td>0.0</td>\n",
       "      <td>0.0</td>\n",
       "      <td>1.0</td>\n",
       "      <td>0.0</td>\n",
       "      <td>1.0</td>\n",
       "    </tr>\n",
       "    <tr>\n",
       "      <th>307509</th>\n",
       "      <td>456254</td>\n",
       "      <td>1</td>\n",
       "      <td>Cash loans</td>\n",
       "      <td>F</td>\n",
       "      <td>N</td>\n",
       "      <td>Y</td>\n",
       "      <td>0</td>\n",
       "      <td>171000.0</td>\n",
       "      <td>370107.0</td>\n",
       "      <td>20205.0</td>\n",
       "      <td>...</td>\n",
       "      <td>0</td>\n",
       "      <td>0</td>\n",
       "      <td>0</td>\n",
       "      <td>0</td>\n",
       "      <td>0.0</td>\n",
       "      <td>0.0</td>\n",
       "      <td>0.0</td>\n",
       "      <td>0.0</td>\n",
       "      <td>0.0</td>\n",
       "      <td>0.0</td>\n",
       "    </tr>\n",
       "    <tr>\n",
       "      <th>307510</th>\n",
       "      <td>456255</td>\n",
       "      <td>0</td>\n",
       "      <td>Cash loans</td>\n",
       "      <td>F</td>\n",
       "      <td>N</td>\n",
       "      <td>N</td>\n",
       "      <td>0</td>\n",
       "      <td>157500.0</td>\n",
       "      <td>675000.0</td>\n",
       "      <td>49117.5</td>\n",
       "      <td>...</td>\n",
       "      <td>0</td>\n",
       "      <td>0</td>\n",
       "      <td>0</td>\n",
       "      <td>0</td>\n",
       "      <td>0.0</td>\n",
       "      <td>0.0</td>\n",
       "      <td>0.0</td>\n",
       "      <td>2.0</td>\n",
       "      <td>0.0</td>\n",
       "      <td>1.0</td>\n",
       "    </tr>\n",
       "  </tbody>\n",
       "</table>\n",
       "<p>307511 rows × 122 columns</p>\n",
       "</div>"
      ],
      "text/plain": [
       "        SK_ID_CURR  TARGET NAME_CONTRACT_TYPE CODE_GENDER FLAG_OWN_CAR  \\\n",
       "0           100002       1         Cash loans           M            N   \n",
       "1           100003       0         Cash loans           F            N   \n",
       "2           100004       0    Revolving loans           M            Y   \n",
       "3           100006       0         Cash loans           F            N   \n",
       "4           100007       0         Cash loans           M            N   \n",
       "...            ...     ...                ...         ...          ...   \n",
       "307506      456251       0         Cash loans           M            N   \n",
       "307507      456252       0         Cash loans           F            N   \n",
       "307508      456253       0         Cash loans           F            N   \n",
       "307509      456254       1         Cash loans           F            N   \n",
       "307510      456255       0         Cash loans           F            N   \n",
       "\n",
       "       FLAG_OWN_REALTY  CNT_CHILDREN  AMT_INCOME_TOTAL  AMT_CREDIT  \\\n",
       "0                    Y             0          202500.0    406597.5   \n",
       "1                    N             0          270000.0   1293502.5   \n",
       "2                    Y             0           67500.0    135000.0   \n",
       "3                    Y             0          135000.0    312682.5   \n",
       "4                    Y             0          121500.0    513000.0   \n",
       "...                ...           ...               ...         ...   \n",
       "307506               N             0          157500.0    254700.0   \n",
       "307507               Y             0           72000.0    269550.0   \n",
       "307508               Y             0          153000.0    677664.0   \n",
       "307509               Y             0          171000.0    370107.0   \n",
       "307510               N             0          157500.0    675000.0   \n",
       "\n",
       "        AMT_ANNUITY  ...  FLAG_DOCUMENT_18 FLAG_DOCUMENT_19 FLAG_DOCUMENT_20  \\\n",
       "0           24700.5  ...                 0                0                0   \n",
       "1           35698.5  ...                 0                0                0   \n",
       "2            6750.0  ...                 0                0                0   \n",
       "3           29686.5  ...                 0                0                0   \n",
       "4           21865.5  ...                 0                0                0   \n",
       "...             ...  ...               ...              ...              ...   \n",
       "307506      27558.0  ...                 0                0                0   \n",
       "307507      12001.5  ...                 0                0                0   \n",
       "307508      29979.0  ...                 0                0                0   \n",
       "307509      20205.0  ...                 0                0                0   \n",
       "307510      49117.5  ...                 0                0                0   \n",
       "\n",
       "       FLAG_DOCUMENT_21 AMT_REQ_CREDIT_BUREAU_HOUR AMT_REQ_CREDIT_BUREAU_DAY  \\\n",
       "0                     0                        0.0                       0.0   \n",
       "1                     0                        0.0                       0.0   \n",
       "2                     0                        0.0                       0.0   \n",
       "3                     0                        NaN                       NaN   \n",
       "4                     0                        0.0                       0.0   \n",
       "...                 ...                        ...                       ...   \n",
       "307506                0                        NaN                       NaN   \n",
       "307507                0                        NaN                       NaN   \n",
       "307508                0                        1.0                       0.0   \n",
       "307509                0                        0.0                       0.0   \n",
       "307510                0                        0.0                       0.0   \n",
       "\n",
       "        AMT_REQ_CREDIT_BUREAU_WEEK  AMT_REQ_CREDIT_BUREAU_MON  \\\n",
       "0                              0.0                        0.0   \n",
       "1                              0.0                        0.0   \n",
       "2                              0.0                        0.0   \n",
       "3                              NaN                        NaN   \n",
       "4                              0.0                        0.0   \n",
       "...                            ...                        ...   \n",
       "307506                         NaN                        NaN   \n",
       "307507                         NaN                        NaN   \n",
       "307508                         0.0                        1.0   \n",
       "307509                         0.0                        0.0   \n",
       "307510                         0.0                        2.0   \n",
       "\n",
       "        AMT_REQ_CREDIT_BUREAU_QRT  AMT_REQ_CREDIT_BUREAU_YEAR  \n",
       "0                             0.0                         1.0  \n",
       "1                             0.0                         0.0  \n",
       "2                             0.0                         0.0  \n",
       "3                             NaN                         NaN  \n",
       "4                             0.0                         0.0  \n",
       "...                           ...                         ...  \n",
       "307506                        NaN                         NaN  \n",
       "307507                        NaN                         NaN  \n",
       "307508                        0.0                         1.0  \n",
       "307509                        0.0                         0.0  \n",
       "307510                        0.0                         1.0  \n",
       "\n",
       "[307511 rows x 122 columns]"
      ]
     },
     "execution_count": 4,
     "metadata": {},
     "output_type": "execute_result"
    }
   ],
   "source": [
    "df_application_train = pd.read_csv('application_train.csv')\n",
    "df_application_train"
   ]
  },
  {
   "cell_type": "code",
   "execution_count": 5,
   "metadata": {},
   "outputs": [
    {
     "data": {
      "text/html": [
       "<div>\n",
       "<style scoped>\n",
       "    .dataframe tbody tr th:only-of-type {\n",
       "        vertical-align: middle;\n",
       "    }\n",
       "\n",
       "    .dataframe tbody tr th {\n",
       "        vertical-align: top;\n",
       "    }\n",
       "\n",
       "    .dataframe thead th {\n",
       "        text-align: right;\n",
       "    }\n",
       "</style>\n",
       "<table border=\"1\" class=\"dataframe\">\n",
       "  <thead>\n",
       "    <tr style=\"text-align: right;\">\n",
       "      <th></th>\n",
       "      <th>SK_ID_CURR</th>\n",
       "      <th>NAME_CONTRACT_TYPE</th>\n",
       "      <th>CODE_GENDER</th>\n",
       "      <th>FLAG_OWN_CAR</th>\n",
       "      <th>FLAG_OWN_REALTY</th>\n",
       "      <th>CNT_CHILDREN</th>\n",
       "      <th>AMT_INCOME_TOTAL</th>\n",
       "      <th>AMT_CREDIT</th>\n",
       "      <th>AMT_ANNUITY</th>\n",
       "      <th>AMT_GOODS_PRICE</th>\n",
       "      <th>...</th>\n",
       "      <th>FLAG_DOCUMENT_18</th>\n",
       "      <th>FLAG_DOCUMENT_19</th>\n",
       "      <th>FLAG_DOCUMENT_20</th>\n",
       "      <th>FLAG_DOCUMENT_21</th>\n",
       "      <th>AMT_REQ_CREDIT_BUREAU_HOUR</th>\n",
       "      <th>AMT_REQ_CREDIT_BUREAU_DAY</th>\n",
       "      <th>AMT_REQ_CREDIT_BUREAU_WEEK</th>\n",
       "      <th>AMT_REQ_CREDIT_BUREAU_MON</th>\n",
       "      <th>AMT_REQ_CREDIT_BUREAU_QRT</th>\n",
       "      <th>AMT_REQ_CREDIT_BUREAU_YEAR</th>\n",
       "    </tr>\n",
       "  </thead>\n",
       "  <tbody>\n",
       "    <tr>\n",
       "      <th>0</th>\n",
       "      <td>100001</td>\n",
       "      <td>Cash loans</td>\n",
       "      <td>F</td>\n",
       "      <td>N</td>\n",
       "      <td>Y</td>\n",
       "      <td>0</td>\n",
       "      <td>135000.0</td>\n",
       "      <td>568800.0</td>\n",
       "      <td>20560.5</td>\n",
       "      <td>450000.0</td>\n",
       "      <td>...</td>\n",
       "      <td>0</td>\n",
       "      <td>0</td>\n",
       "      <td>0</td>\n",
       "      <td>0</td>\n",
       "      <td>0.0</td>\n",
       "      <td>0.0</td>\n",
       "      <td>0.0</td>\n",
       "      <td>0.0</td>\n",
       "      <td>0.0</td>\n",
       "      <td>0.0</td>\n",
       "    </tr>\n",
       "    <tr>\n",
       "      <th>1</th>\n",
       "      <td>100005</td>\n",
       "      <td>Cash loans</td>\n",
       "      <td>M</td>\n",
       "      <td>N</td>\n",
       "      <td>Y</td>\n",
       "      <td>0</td>\n",
       "      <td>99000.0</td>\n",
       "      <td>222768.0</td>\n",
       "      <td>17370.0</td>\n",
       "      <td>180000.0</td>\n",
       "      <td>...</td>\n",
       "      <td>0</td>\n",
       "      <td>0</td>\n",
       "      <td>0</td>\n",
       "      <td>0</td>\n",
       "      <td>0.0</td>\n",
       "      <td>0.0</td>\n",
       "      <td>0.0</td>\n",
       "      <td>0.0</td>\n",
       "      <td>0.0</td>\n",
       "      <td>3.0</td>\n",
       "    </tr>\n",
       "    <tr>\n",
       "      <th>2</th>\n",
       "      <td>100013</td>\n",
       "      <td>Cash loans</td>\n",
       "      <td>M</td>\n",
       "      <td>Y</td>\n",
       "      <td>Y</td>\n",
       "      <td>0</td>\n",
       "      <td>202500.0</td>\n",
       "      <td>663264.0</td>\n",
       "      <td>69777.0</td>\n",
       "      <td>630000.0</td>\n",
       "      <td>...</td>\n",
       "      <td>0</td>\n",
       "      <td>0</td>\n",
       "      <td>0</td>\n",
       "      <td>0</td>\n",
       "      <td>0.0</td>\n",
       "      <td>0.0</td>\n",
       "      <td>0.0</td>\n",
       "      <td>0.0</td>\n",
       "      <td>1.0</td>\n",
       "      <td>4.0</td>\n",
       "    </tr>\n",
       "    <tr>\n",
       "      <th>3</th>\n",
       "      <td>100028</td>\n",
       "      <td>Cash loans</td>\n",
       "      <td>F</td>\n",
       "      <td>N</td>\n",
       "      <td>Y</td>\n",
       "      <td>2</td>\n",
       "      <td>315000.0</td>\n",
       "      <td>1575000.0</td>\n",
       "      <td>49018.5</td>\n",
       "      <td>1575000.0</td>\n",
       "      <td>...</td>\n",
       "      <td>0</td>\n",
       "      <td>0</td>\n",
       "      <td>0</td>\n",
       "      <td>0</td>\n",
       "      <td>0.0</td>\n",
       "      <td>0.0</td>\n",
       "      <td>0.0</td>\n",
       "      <td>0.0</td>\n",
       "      <td>0.0</td>\n",
       "      <td>3.0</td>\n",
       "    </tr>\n",
       "    <tr>\n",
       "      <th>4</th>\n",
       "      <td>100038</td>\n",
       "      <td>Cash loans</td>\n",
       "      <td>M</td>\n",
       "      <td>Y</td>\n",
       "      <td>N</td>\n",
       "      <td>1</td>\n",
       "      <td>180000.0</td>\n",
       "      <td>625500.0</td>\n",
       "      <td>32067.0</td>\n",
       "      <td>625500.0</td>\n",
       "      <td>...</td>\n",
       "      <td>0</td>\n",
       "      <td>0</td>\n",
       "      <td>0</td>\n",
       "      <td>0</td>\n",
       "      <td>NaN</td>\n",
       "      <td>NaN</td>\n",
       "      <td>NaN</td>\n",
       "      <td>NaN</td>\n",
       "      <td>NaN</td>\n",
       "      <td>NaN</td>\n",
       "    </tr>\n",
       "    <tr>\n",
       "      <th>...</th>\n",
       "      <td>...</td>\n",
       "      <td>...</td>\n",
       "      <td>...</td>\n",
       "      <td>...</td>\n",
       "      <td>...</td>\n",
       "      <td>...</td>\n",
       "      <td>...</td>\n",
       "      <td>...</td>\n",
       "      <td>...</td>\n",
       "      <td>...</td>\n",
       "      <td>...</td>\n",
       "      <td>...</td>\n",
       "      <td>...</td>\n",
       "      <td>...</td>\n",
       "      <td>...</td>\n",
       "      <td>...</td>\n",
       "      <td>...</td>\n",
       "      <td>...</td>\n",
       "      <td>...</td>\n",
       "      <td>...</td>\n",
       "      <td>...</td>\n",
       "    </tr>\n",
       "    <tr>\n",
       "      <th>48739</th>\n",
       "      <td>456221</td>\n",
       "      <td>Cash loans</td>\n",
       "      <td>F</td>\n",
       "      <td>N</td>\n",
       "      <td>Y</td>\n",
       "      <td>0</td>\n",
       "      <td>121500.0</td>\n",
       "      <td>412560.0</td>\n",
       "      <td>17473.5</td>\n",
       "      <td>270000.0</td>\n",
       "      <td>...</td>\n",
       "      <td>0</td>\n",
       "      <td>0</td>\n",
       "      <td>0</td>\n",
       "      <td>0</td>\n",
       "      <td>0.0</td>\n",
       "      <td>0.0</td>\n",
       "      <td>0.0</td>\n",
       "      <td>0.0</td>\n",
       "      <td>0.0</td>\n",
       "      <td>1.0</td>\n",
       "    </tr>\n",
       "    <tr>\n",
       "      <th>48740</th>\n",
       "      <td>456222</td>\n",
       "      <td>Cash loans</td>\n",
       "      <td>F</td>\n",
       "      <td>N</td>\n",
       "      <td>N</td>\n",
       "      <td>2</td>\n",
       "      <td>157500.0</td>\n",
       "      <td>622413.0</td>\n",
       "      <td>31909.5</td>\n",
       "      <td>495000.0</td>\n",
       "      <td>...</td>\n",
       "      <td>0</td>\n",
       "      <td>0</td>\n",
       "      <td>0</td>\n",
       "      <td>0</td>\n",
       "      <td>NaN</td>\n",
       "      <td>NaN</td>\n",
       "      <td>NaN</td>\n",
       "      <td>NaN</td>\n",
       "      <td>NaN</td>\n",
       "      <td>NaN</td>\n",
       "    </tr>\n",
       "    <tr>\n",
       "      <th>48741</th>\n",
       "      <td>456223</td>\n",
       "      <td>Cash loans</td>\n",
       "      <td>F</td>\n",
       "      <td>Y</td>\n",
       "      <td>Y</td>\n",
       "      <td>1</td>\n",
       "      <td>202500.0</td>\n",
       "      <td>315000.0</td>\n",
       "      <td>33205.5</td>\n",
       "      <td>315000.0</td>\n",
       "      <td>...</td>\n",
       "      <td>0</td>\n",
       "      <td>0</td>\n",
       "      <td>0</td>\n",
       "      <td>0</td>\n",
       "      <td>0.0</td>\n",
       "      <td>0.0</td>\n",
       "      <td>0.0</td>\n",
       "      <td>0.0</td>\n",
       "      <td>3.0</td>\n",
       "      <td>1.0</td>\n",
       "    </tr>\n",
       "    <tr>\n",
       "      <th>48742</th>\n",
       "      <td>456224</td>\n",
       "      <td>Cash loans</td>\n",
       "      <td>M</td>\n",
       "      <td>N</td>\n",
       "      <td>N</td>\n",
       "      <td>0</td>\n",
       "      <td>225000.0</td>\n",
       "      <td>450000.0</td>\n",
       "      <td>25128.0</td>\n",
       "      <td>450000.0</td>\n",
       "      <td>...</td>\n",
       "      <td>0</td>\n",
       "      <td>0</td>\n",
       "      <td>0</td>\n",
       "      <td>0</td>\n",
       "      <td>0.0</td>\n",
       "      <td>0.0</td>\n",
       "      <td>0.0</td>\n",
       "      <td>0.0</td>\n",
       "      <td>0.0</td>\n",
       "      <td>2.0</td>\n",
       "    </tr>\n",
       "    <tr>\n",
       "      <th>48743</th>\n",
       "      <td>456250</td>\n",
       "      <td>Cash loans</td>\n",
       "      <td>F</td>\n",
       "      <td>Y</td>\n",
       "      <td>N</td>\n",
       "      <td>0</td>\n",
       "      <td>135000.0</td>\n",
       "      <td>312768.0</td>\n",
       "      <td>24709.5</td>\n",
       "      <td>270000.0</td>\n",
       "      <td>...</td>\n",
       "      <td>0</td>\n",
       "      <td>0</td>\n",
       "      <td>0</td>\n",
       "      <td>0</td>\n",
       "      <td>0.0</td>\n",
       "      <td>0.0</td>\n",
       "      <td>0.0</td>\n",
       "      <td>0.0</td>\n",
       "      <td>1.0</td>\n",
       "      <td>4.0</td>\n",
       "    </tr>\n",
       "  </tbody>\n",
       "</table>\n",
       "<p>48744 rows × 121 columns</p>\n",
       "</div>"
      ],
      "text/plain": [
       "       SK_ID_CURR NAME_CONTRACT_TYPE CODE_GENDER FLAG_OWN_CAR FLAG_OWN_REALTY  \\\n",
       "0          100001         Cash loans           F            N               Y   \n",
       "1          100005         Cash loans           M            N               Y   \n",
       "2          100013         Cash loans           M            Y               Y   \n",
       "3          100028         Cash loans           F            N               Y   \n",
       "4          100038         Cash loans           M            Y               N   \n",
       "...           ...                ...         ...          ...             ...   \n",
       "48739      456221         Cash loans           F            N               Y   \n",
       "48740      456222         Cash loans           F            N               N   \n",
       "48741      456223         Cash loans           F            Y               Y   \n",
       "48742      456224         Cash loans           M            N               N   \n",
       "48743      456250         Cash loans           F            Y               N   \n",
       "\n",
       "       CNT_CHILDREN  AMT_INCOME_TOTAL  AMT_CREDIT  AMT_ANNUITY  \\\n",
       "0                 0          135000.0    568800.0      20560.5   \n",
       "1                 0           99000.0    222768.0      17370.0   \n",
       "2                 0          202500.0    663264.0      69777.0   \n",
       "3                 2          315000.0   1575000.0      49018.5   \n",
       "4                 1          180000.0    625500.0      32067.0   \n",
       "...             ...               ...         ...          ...   \n",
       "48739             0          121500.0    412560.0      17473.5   \n",
       "48740             2          157500.0    622413.0      31909.5   \n",
       "48741             1          202500.0    315000.0      33205.5   \n",
       "48742             0          225000.0    450000.0      25128.0   \n",
       "48743             0          135000.0    312768.0      24709.5   \n",
       "\n",
       "       AMT_GOODS_PRICE  ... FLAG_DOCUMENT_18 FLAG_DOCUMENT_19  \\\n",
       "0             450000.0  ...                0                0   \n",
       "1             180000.0  ...                0                0   \n",
       "2             630000.0  ...                0                0   \n",
       "3            1575000.0  ...                0                0   \n",
       "4             625500.0  ...                0                0   \n",
       "...                ...  ...              ...              ...   \n",
       "48739         270000.0  ...                0                0   \n",
       "48740         495000.0  ...                0                0   \n",
       "48741         315000.0  ...                0                0   \n",
       "48742         450000.0  ...                0                0   \n",
       "48743         270000.0  ...                0                0   \n",
       "\n",
       "      FLAG_DOCUMENT_20 FLAG_DOCUMENT_21 AMT_REQ_CREDIT_BUREAU_HOUR  \\\n",
       "0                    0                0                        0.0   \n",
       "1                    0                0                        0.0   \n",
       "2                    0                0                        0.0   \n",
       "3                    0                0                        0.0   \n",
       "4                    0                0                        NaN   \n",
       "...                ...              ...                        ...   \n",
       "48739                0                0                        0.0   \n",
       "48740                0                0                        NaN   \n",
       "48741                0                0                        0.0   \n",
       "48742                0                0                        0.0   \n",
       "48743                0                0                        0.0   \n",
       "\n",
       "       AMT_REQ_CREDIT_BUREAU_DAY  AMT_REQ_CREDIT_BUREAU_WEEK  \\\n",
       "0                            0.0                         0.0   \n",
       "1                            0.0                         0.0   \n",
       "2                            0.0                         0.0   \n",
       "3                            0.0                         0.0   \n",
       "4                            NaN                         NaN   \n",
       "...                          ...                         ...   \n",
       "48739                        0.0                         0.0   \n",
       "48740                        NaN                         NaN   \n",
       "48741                        0.0                         0.0   \n",
       "48742                        0.0                         0.0   \n",
       "48743                        0.0                         0.0   \n",
       "\n",
       "       AMT_REQ_CREDIT_BUREAU_MON  AMT_REQ_CREDIT_BUREAU_QRT  \\\n",
       "0                            0.0                        0.0   \n",
       "1                            0.0                        0.0   \n",
       "2                            0.0                        1.0   \n",
       "3                            0.0                        0.0   \n",
       "4                            NaN                        NaN   \n",
       "...                          ...                        ...   \n",
       "48739                        0.0                        0.0   \n",
       "48740                        NaN                        NaN   \n",
       "48741                        0.0                        3.0   \n",
       "48742                        0.0                        0.0   \n",
       "48743                        0.0                        1.0   \n",
       "\n",
       "       AMT_REQ_CREDIT_BUREAU_YEAR  \n",
       "0                             0.0  \n",
       "1                             3.0  \n",
       "2                             4.0  \n",
       "3                             3.0  \n",
       "4                             NaN  \n",
       "...                           ...  \n",
       "48739                         1.0  \n",
       "48740                         NaN  \n",
       "48741                         1.0  \n",
       "48742                         2.0  \n",
       "48743                         4.0  \n",
       "\n",
       "[48744 rows x 121 columns]"
      ]
     },
     "execution_count": 5,
     "metadata": {},
     "output_type": "execute_result"
    }
   ],
   "source": [
    "df_application_test = pd.read_csv('application_test.csv')\n",
    "df_application_test"
   ]
  },
  {
   "cell_type": "code",
   "execution_count": 6,
   "metadata": {},
   "outputs": [
    {
     "name": "stdout",
     "output_type": "stream",
     "text": [
      "<class 'pandas.core.frame.DataFrame'>\n",
      "RangeIndex: 307511 entries, 0 to 307510\n",
      "Data columns (total 122 columns):\n",
      " #    Column                        Dtype  \n",
      "---   ------                        -----  \n",
      " 0    SK_ID_CURR                    int64  \n",
      " 1    TARGET                        int64  \n",
      " 2    NAME_CONTRACT_TYPE            object \n",
      " 3    CODE_GENDER                   object \n",
      " 4    FLAG_OWN_CAR                  object \n",
      " 5    FLAG_OWN_REALTY               object \n",
      " 6    CNT_CHILDREN                  int64  \n",
      " 7    AMT_INCOME_TOTAL              float64\n",
      " 8    AMT_CREDIT                    float64\n",
      " 9    AMT_ANNUITY                   float64\n",
      " 10   AMT_GOODS_PRICE               float64\n",
      " 11   NAME_TYPE_SUITE               object \n",
      " 12   NAME_INCOME_TYPE              object \n",
      " 13   NAME_EDUCATION_TYPE           object \n",
      " 14   NAME_FAMILY_STATUS            object \n",
      " 15   NAME_HOUSING_TYPE             object \n",
      " 16   REGION_POPULATION_RELATIVE    float64\n",
      " 17   DAYS_BIRTH                    int64  \n",
      " 18   DAYS_EMPLOYED                 int64  \n",
      " 19   DAYS_REGISTRATION             float64\n",
      " 20   DAYS_ID_PUBLISH               int64  \n",
      " 21   OWN_CAR_AGE                   float64\n",
      " 22   FLAG_MOBIL                    int64  \n",
      " 23   FLAG_EMP_PHONE                int64  \n",
      " 24   FLAG_WORK_PHONE               int64  \n",
      " 25   FLAG_CONT_MOBILE              int64  \n",
      " 26   FLAG_PHONE                    int64  \n",
      " 27   FLAG_EMAIL                    int64  \n",
      " 28   OCCUPATION_TYPE               object \n",
      " 29   CNT_FAM_MEMBERS               float64\n",
      " 30   REGION_RATING_CLIENT          int64  \n",
      " 31   REGION_RATING_CLIENT_W_CITY   int64  \n",
      " 32   WEEKDAY_APPR_PROCESS_START    object \n",
      " 33   HOUR_APPR_PROCESS_START       int64  \n",
      " 34   REG_REGION_NOT_LIVE_REGION    int64  \n",
      " 35   REG_REGION_NOT_WORK_REGION    int64  \n",
      " 36   LIVE_REGION_NOT_WORK_REGION   int64  \n",
      " 37   REG_CITY_NOT_LIVE_CITY        int64  \n",
      " 38   REG_CITY_NOT_WORK_CITY        int64  \n",
      " 39   LIVE_CITY_NOT_WORK_CITY       int64  \n",
      " 40   ORGANIZATION_TYPE             object \n",
      " 41   EXT_SOURCE_1                  float64\n",
      " 42   EXT_SOURCE_2                  float64\n",
      " 43   EXT_SOURCE_3                  float64\n",
      " 44   APARTMENTS_AVG                float64\n",
      " 45   BASEMENTAREA_AVG              float64\n",
      " 46   YEARS_BEGINEXPLUATATION_AVG   float64\n",
      " 47   YEARS_BUILD_AVG               float64\n",
      " 48   COMMONAREA_AVG                float64\n",
      " 49   ELEVATORS_AVG                 float64\n",
      " 50   ENTRANCES_AVG                 float64\n",
      " 51   FLOORSMAX_AVG                 float64\n",
      " 52   FLOORSMIN_AVG                 float64\n",
      " 53   LANDAREA_AVG                  float64\n",
      " 54   LIVINGAPARTMENTS_AVG          float64\n",
      " 55   LIVINGAREA_AVG                float64\n",
      " 56   NONLIVINGAPARTMENTS_AVG       float64\n",
      " 57   NONLIVINGAREA_AVG             float64\n",
      " 58   APARTMENTS_MODE               float64\n",
      " 59   BASEMENTAREA_MODE             float64\n",
      " 60   YEARS_BEGINEXPLUATATION_MODE  float64\n",
      " 61   YEARS_BUILD_MODE              float64\n",
      " 62   COMMONAREA_MODE               float64\n",
      " 63   ELEVATORS_MODE                float64\n",
      " 64   ENTRANCES_MODE                float64\n",
      " 65   FLOORSMAX_MODE                float64\n",
      " 66   FLOORSMIN_MODE                float64\n",
      " 67   LANDAREA_MODE                 float64\n",
      " 68   LIVINGAPARTMENTS_MODE         float64\n",
      " 69   LIVINGAREA_MODE               float64\n",
      " 70   NONLIVINGAPARTMENTS_MODE      float64\n",
      " 71   NONLIVINGAREA_MODE            float64\n",
      " 72   APARTMENTS_MEDI               float64\n",
      " 73   BASEMENTAREA_MEDI             float64\n",
      " 74   YEARS_BEGINEXPLUATATION_MEDI  float64\n",
      " 75   YEARS_BUILD_MEDI              float64\n",
      " 76   COMMONAREA_MEDI               float64\n",
      " 77   ELEVATORS_MEDI                float64\n",
      " 78   ENTRANCES_MEDI                float64\n",
      " 79   FLOORSMAX_MEDI                float64\n",
      " 80   FLOORSMIN_MEDI                float64\n",
      " 81   LANDAREA_MEDI                 float64\n",
      " 82   LIVINGAPARTMENTS_MEDI         float64\n",
      " 83   LIVINGAREA_MEDI               float64\n",
      " 84   NONLIVINGAPARTMENTS_MEDI      float64\n",
      " 85   NONLIVINGAREA_MEDI            float64\n",
      " 86   FONDKAPREMONT_MODE            object \n",
      " 87   HOUSETYPE_MODE                object \n",
      " 88   TOTALAREA_MODE                float64\n",
      " 89   WALLSMATERIAL_MODE            object \n",
      " 90   EMERGENCYSTATE_MODE           object \n",
      " 91   OBS_30_CNT_SOCIAL_CIRCLE      float64\n",
      " 92   DEF_30_CNT_SOCIAL_CIRCLE      float64\n",
      " 93   OBS_60_CNT_SOCIAL_CIRCLE      float64\n",
      " 94   DEF_60_CNT_SOCIAL_CIRCLE      float64\n",
      " 95   DAYS_LAST_PHONE_CHANGE        float64\n",
      " 96   FLAG_DOCUMENT_2               int64  \n",
      " 97   FLAG_DOCUMENT_3               int64  \n",
      " 98   FLAG_DOCUMENT_4               int64  \n",
      " 99   FLAG_DOCUMENT_5               int64  \n",
      " 100  FLAG_DOCUMENT_6               int64  \n",
      " 101  FLAG_DOCUMENT_7               int64  \n",
      " 102  FLAG_DOCUMENT_8               int64  \n",
      " 103  FLAG_DOCUMENT_9               int64  \n",
      " 104  FLAG_DOCUMENT_10              int64  \n",
      " 105  FLAG_DOCUMENT_11              int64  \n",
      " 106  FLAG_DOCUMENT_12              int64  \n",
      " 107  FLAG_DOCUMENT_13              int64  \n",
      " 108  FLAG_DOCUMENT_14              int64  \n",
      " 109  FLAG_DOCUMENT_15              int64  \n",
      " 110  FLAG_DOCUMENT_16              int64  \n",
      " 111  FLAG_DOCUMENT_17              int64  \n",
      " 112  FLAG_DOCUMENT_18              int64  \n",
      " 113  FLAG_DOCUMENT_19              int64  \n",
      " 114  FLAG_DOCUMENT_20              int64  \n",
      " 115  FLAG_DOCUMENT_21              int64  \n",
      " 116  AMT_REQ_CREDIT_BUREAU_HOUR    float64\n",
      " 117  AMT_REQ_CREDIT_BUREAU_DAY     float64\n",
      " 118  AMT_REQ_CREDIT_BUREAU_WEEK    float64\n",
      " 119  AMT_REQ_CREDIT_BUREAU_MON     float64\n",
      " 120  AMT_REQ_CREDIT_BUREAU_QRT     float64\n",
      " 121  AMT_REQ_CREDIT_BUREAU_YEAR    float64\n",
      "dtypes: float64(65), int64(41), object(16)\n",
      "memory usage: 286.2+ MB\n"
     ]
    }
   ],
   "source": [
    "df_application_train.info(verbose=True)"
   ]
  },
  {
   "cell_type": "markdown",
   "metadata": {},
   "source": [
    "# df_application_train"
   ]
  },
  {
   "cell_type": "code",
   "execution_count": 7,
   "metadata": {},
   "outputs": [
    {
     "name": "stdout",
     "output_type": "stream",
     "text": [
      "<class 'pandas.core.frame.DataFrame'>\n",
      "RangeIndex: 307511 entries, 0 to 307510\n",
      "Data columns (total 122 columns):\n",
      " #    Column                        Dtype  \n",
      "---   ------                        -----  \n",
      " 0    SK_ID_CURR                    int64  \n",
      " 1    TARGET                        int64  \n",
      " 2    NAME_CONTRACT_TYPE            object \n",
      " 3    CODE_GENDER                   object \n",
      " 4    FLAG_OWN_CAR                  object \n",
      " 5    FLAG_OWN_REALTY               object \n",
      " 6    CNT_CHILDREN                  int64  \n",
      " 7    AMT_INCOME_TOTAL              float64\n",
      " 8    AMT_CREDIT                    float64\n",
      " 9    AMT_ANNUITY                   float64\n",
      " 10   AMT_GOODS_PRICE               float64\n",
      " 11   NAME_TYPE_SUITE               object \n",
      " 12   NAME_INCOME_TYPE              object \n",
      " 13   NAME_EDUCATION_TYPE           object \n",
      " 14   NAME_FAMILY_STATUS            object \n",
      " 15   NAME_HOUSING_TYPE             object \n",
      " 16   REGION_POPULATION_RELATIVE    float64\n",
      " 17   DAYS_BIRTH                    int64  \n",
      " 18   DAYS_EMPLOYED                 int64  \n",
      " 19   DAYS_REGISTRATION             float64\n",
      " 20   DAYS_ID_PUBLISH               int64  \n",
      " 21   OWN_CAR_AGE                   float64\n",
      " 22   FLAG_MOBIL                    int64  \n",
      " 23   FLAG_EMP_PHONE                int64  \n",
      " 24   FLAG_WORK_PHONE               int64  \n",
      " 25   FLAG_CONT_MOBILE              int64  \n",
      " 26   FLAG_PHONE                    int64  \n",
      " 27   FLAG_EMAIL                    int64  \n",
      " 28   OCCUPATION_TYPE               object \n",
      " 29   CNT_FAM_MEMBERS               float64\n",
      " 30   REGION_RATING_CLIENT          int64  \n",
      " 31   REGION_RATING_CLIENT_W_CITY   int64  \n",
      " 32   WEEKDAY_APPR_PROCESS_START    object \n",
      " 33   HOUR_APPR_PROCESS_START       int64  \n",
      " 34   REG_REGION_NOT_LIVE_REGION    int64  \n",
      " 35   REG_REGION_NOT_WORK_REGION    int64  \n",
      " 36   LIVE_REGION_NOT_WORK_REGION   int64  \n",
      " 37   REG_CITY_NOT_LIVE_CITY        int64  \n",
      " 38   REG_CITY_NOT_WORK_CITY        int64  \n",
      " 39   LIVE_CITY_NOT_WORK_CITY       int64  \n",
      " 40   ORGANIZATION_TYPE             object \n",
      " 41   EXT_SOURCE_1                  float64\n",
      " 42   EXT_SOURCE_2                  float64\n",
      " 43   EXT_SOURCE_3                  float64\n",
      " 44   APARTMENTS_AVG                float64\n",
      " 45   BASEMENTAREA_AVG              float64\n",
      " 46   YEARS_BEGINEXPLUATATION_AVG   float64\n",
      " 47   YEARS_BUILD_AVG               float64\n",
      " 48   COMMONAREA_AVG                float64\n",
      " 49   ELEVATORS_AVG                 float64\n",
      " 50   ENTRANCES_AVG                 float64\n",
      " 51   FLOORSMAX_AVG                 float64\n",
      " 52   FLOORSMIN_AVG                 float64\n",
      " 53   LANDAREA_AVG                  float64\n",
      " 54   LIVINGAPARTMENTS_AVG          float64\n",
      " 55   LIVINGAREA_AVG                float64\n",
      " 56   NONLIVINGAPARTMENTS_AVG       float64\n",
      " 57   NONLIVINGAREA_AVG             float64\n",
      " 58   APARTMENTS_MODE               float64\n",
      " 59   BASEMENTAREA_MODE             float64\n",
      " 60   YEARS_BEGINEXPLUATATION_MODE  float64\n",
      " 61   YEARS_BUILD_MODE              float64\n",
      " 62   COMMONAREA_MODE               float64\n",
      " 63   ELEVATORS_MODE                float64\n",
      " 64   ENTRANCES_MODE                float64\n",
      " 65   FLOORSMAX_MODE                float64\n",
      " 66   FLOORSMIN_MODE                float64\n",
      " 67   LANDAREA_MODE                 float64\n",
      " 68   LIVINGAPARTMENTS_MODE         float64\n",
      " 69   LIVINGAREA_MODE               float64\n",
      " 70   NONLIVINGAPARTMENTS_MODE      float64\n",
      " 71   NONLIVINGAREA_MODE            float64\n",
      " 72   APARTMENTS_MEDI               float64\n",
      " 73   BASEMENTAREA_MEDI             float64\n",
      " 74   YEARS_BEGINEXPLUATATION_MEDI  float64\n",
      " 75   YEARS_BUILD_MEDI              float64\n",
      " 76   COMMONAREA_MEDI               float64\n",
      " 77   ELEVATORS_MEDI                float64\n",
      " 78   ENTRANCES_MEDI                float64\n",
      " 79   FLOORSMAX_MEDI                float64\n",
      " 80   FLOORSMIN_MEDI                float64\n",
      " 81   LANDAREA_MEDI                 float64\n",
      " 82   LIVINGAPARTMENTS_MEDI         float64\n",
      " 83   LIVINGAREA_MEDI               float64\n",
      " 84   NONLIVINGAPARTMENTS_MEDI      float64\n",
      " 85   NONLIVINGAREA_MEDI            float64\n",
      " 86   FONDKAPREMONT_MODE            object \n",
      " 87   HOUSETYPE_MODE                object \n",
      " 88   TOTALAREA_MODE                float64\n",
      " 89   WALLSMATERIAL_MODE            object \n",
      " 90   EMERGENCYSTATE_MODE           object \n",
      " 91   OBS_30_CNT_SOCIAL_CIRCLE      float64\n",
      " 92   DEF_30_CNT_SOCIAL_CIRCLE      float64\n",
      " 93   OBS_60_CNT_SOCIAL_CIRCLE      float64\n",
      " 94   DEF_60_CNT_SOCIAL_CIRCLE      float64\n",
      " 95   DAYS_LAST_PHONE_CHANGE        float64\n",
      " 96   FLAG_DOCUMENT_2               int64  \n",
      " 97   FLAG_DOCUMENT_3               int64  \n",
      " 98   FLAG_DOCUMENT_4               int64  \n",
      " 99   FLAG_DOCUMENT_5               int64  \n",
      " 100  FLAG_DOCUMENT_6               int64  \n",
      " 101  FLAG_DOCUMENT_7               int64  \n",
      " 102  FLAG_DOCUMENT_8               int64  \n",
      " 103  FLAG_DOCUMENT_9               int64  \n",
      " 104  FLAG_DOCUMENT_10              int64  \n",
      " 105  FLAG_DOCUMENT_11              int64  \n",
      " 106  FLAG_DOCUMENT_12              int64  \n",
      " 107  FLAG_DOCUMENT_13              int64  \n",
      " 108  FLAG_DOCUMENT_14              int64  \n",
      " 109  FLAG_DOCUMENT_15              int64  \n",
      " 110  FLAG_DOCUMENT_16              int64  \n",
      " 111  FLAG_DOCUMENT_17              int64  \n",
      " 112  FLAG_DOCUMENT_18              int64  \n",
      " 113  FLAG_DOCUMENT_19              int64  \n",
      " 114  FLAG_DOCUMENT_20              int64  \n",
      " 115  FLAG_DOCUMENT_21              int64  \n",
      " 116  AMT_REQ_CREDIT_BUREAU_HOUR    float64\n",
      " 117  AMT_REQ_CREDIT_BUREAU_DAY     float64\n",
      " 118  AMT_REQ_CREDIT_BUREAU_WEEK    float64\n",
      " 119  AMT_REQ_CREDIT_BUREAU_MON     float64\n",
      " 120  AMT_REQ_CREDIT_BUREAU_QRT     float64\n",
      " 121  AMT_REQ_CREDIT_BUREAU_YEAR    float64\n",
      "dtypes: float64(65), int64(41), object(16)\n",
      "memory usage: 286.2+ MB\n"
     ]
    }
   ],
   "source": [
    "df_application_train.info(verbose=True)"
   ]
  },
  {
   "cell_type": "code",
   "execution_count": null,
   "metadata": {},
   "outputs": [
    {
     "name": "stderr",
     "output_type": "stream",
     "text": [
      "/var/folders/6j/3l6q9l4515sdmfyg8znhblxr0000gn/T/ipykernel_10917/1005147158.py:2: FutureWarning: The default value of numeric_only in DataFrame.corr is deprecated. In a future version, it will default to False. Select only valid columns or specify the value of numeric_only to silence this warning.\n",
      "  corr_matrix = df_application_train.corr().abs() # Getting the correlated values\n"
     ]
    }
   ],
   "source": [
    "# Leaving out high correlated values:\n",
    "corr_matrix = df_application_train.corr(numeric_only=True).abs() # Getting the correlated values\n",
    "upper_tri = corr_matrix.where(np.triu(np.ones(corr_matrix.shape), k=1).astype(bool)) # Getting the upper traingular matrix\n",
    "to_drop = [column for column in upper_tri.columns if any(upper_tri[column] > 0.9)]\n",
    "df_application_train.drop(columns=to_drop, inplace=True) # Dropping the columns that have a high correlated value of 0.9."
   ]
  },
  {
   "cell_type": "code",
   "execution_count": 9,
   "metadata": {},
   "outputs": [
    {
     "name": "stdout",
     "output_type": "stream",
     "text": [
      "<class 'pandas.core.frame.DataFrame'>\n",
      "RangeIndex: 307511 entries, 0 to 307510\n",
      "Data columns (total 87 columns):\n",
      " #   Column                       Non-Null Count   Dtype  \n",
      "---  ------                       --------------   -----  \n",
      " 0   SK_ID_CURR                   307511 non-null  int64  \n",
      " 1   TARGET                       307511 non-null  int64  \n",
      " 2   NAME_CONTRACT_TYPE           307511 non-null  object \n",
      " 3   CODE_GENDER                  307511 non-null  object \n",
      " 4   FLAG_OWN_CAR                 307511 non-null  object \n",
      " 5   FLAG_OWN_REALTY              307511 non-null  object \n",
      " 6   CNT_CHILDREN                 307511 non-null  int64  \n",
      " 7   AMT_INCOME_TOTAL             307511 non-null  float64\n",
      " 8   AMT_CREDIT                   307511 non-null  float64\n",
      " 9   AMT_ANNUITY                  307499 non-null  float64\n",
      " 10  NAME_TYPE_SUITE              306219 non-null  object \n",
      " 11  NAME_INCOME_TYPE             307511 non-null  object \n",
      " 12  NAME_EDUCATION_TYPE          307511 non-null  object \n",
      " 13  NAME_FAMILY_STATUS           307511 non-null  object \n",
      " 14  NAME_HOUSING_TYPE            307511 non-null  object \n",
      " 15  REGION_POPULATION_RELATIVE   307511 non-null  float64\n",
      " 16  DAYS_BIRTH                   307511 non-null  int64  \n",
      " 17  DAYS_EMPLOYED                307511 non-null  int64  \n",
      " 18  DAYS_REGISTRATION            307511 non-null  float64\n",
      " 19  DAYS_ID_PUBLISH              307511 non-null  int64  \n",
      " 20  OWN_CAR_AGE                  104582 non-null  float64\n",
      " 21  FLAG_MOBIL                   307511 non-null  int64  \n",
      " 22  FLAG_WORK_PHONE              307511 non-null  int64  \n",
      " 23  FLAG_CONT_MOBILE             307511 non-null  int64  \n",
      " 24  FLAG_PHONE                   307511 non-null  int64  \n",
      " 25  FLAG_EMAIL                   307511 non-null  int64  \n",
      " 26  OCCUPATION_TYPE              211120 non-null  object \n",
      " 27  CNT_FAM_MEMBERS              307509 non-null  float64\n",
      " 28  REGION_RATING_CLIENT         307511 non-null  int64  \n",
      " 29  WEEKDAY_APPR_PROCESS_START   307511 non-null  object \n",
      " 30  HOUR_APPR_PROCESS_START      307511 non-null  int64  \n",
      " 31  REG_REGION_NOT_LIVE_REGION   307511 non-null  int64  \n",
      " 32  REG_REGION_NOT_WORK_REGION   307511 non-null  int64  \n",
      " 33  LIVE_REGION_NOT_WORK_REGION  307511 non-null  int64  \n",
      " 34  REG_CITY_NOT_LIVE_CITY       307511 non-null  int64  \n",
      " 35  REG_CITY_NOT_WORK_CITY       307511 non-null  int64  \n",
      " 36  LIVE_CITY_NOT_WORK_CITY      307511 non-null  int64  \n",
      " 37  ORGANIZATION_TYPE            307511 non-null  object \n",
      " 38  EXT_SOURCE_1                 134133 non-null  float64\n",
      " 39  EXT_SOURCE_2                 306851 non-null  float64\n",
      " 40  EXT_SOURCE_3                 246546 non-null  float64\n",
      " 41  APARTMENTS_AVG               151450 non-null  float64\n",
      " 42  BASEMENTAREA_AVG             127568 non-null  float64\n",
      " 43  YEARS_BEGINEXPLUATATION_AVG  157504 non-null  float64\n",
      " 44  YEARS_BUILD_AVG              103023 non-null  float64\n",
      " 45  COMMONAREA_AVG               92646 non-null   float64\n",
      " 46  ELEVATORS_AVG                143620 non-null  float64\n",
      " 47  ENTRANCES_AVG                152683 non-null  float64\n",
      " 48  FLOORSMAX_AVG                154491 non-null  float64\n",
      " 49  FLOORSMIN_AVG                98869 non-null   float64\n",
      " 50  LANDAREA_AVG                 124921 non-null  float64\n",
      " 51  NONLIVINGAPARTMENTS_AVG      93997 non-null   float64\n",
      " 52  NONLIVINGAREA_AVG            137829 non-null  float64\n",
      " 53  FONDKAPREMONT_MODE           97216 non-null   object \n",
      " 54  HOUSETYPE_MODE               153214 non-null  object \n",
      " 55  WALLSMATERIAL_MODE           151170 non-null  object \n",
      " 56  EMERGENCYSTATE_MODE          161756 non-null  object \n",
      " 57  OBS_30_CNT_SOCIAL_CIRCLE     306490 non-null  float64\n",
      " 58  DEF_30_CNT_SOCIAL_CIRCLE     306490 non-null  float64\n",
      " 59  DEF_60_CNT_SOCIAL_CIRCLE     306490 non-null  float64\n",
      " 60  DAYS_LAST_PHONE_CHANGE       307510 non-null  float64\n",
      " 61  FLAG_DOCUMENT_2              307511 non-null  int64  \n",
      " 62  FLAG_DOCUMENT_3              307511 non-null  int64  \n",
      " 63  FLAG_DOCUMENT_4              307511 non-null  int64  \n",
      " 64  FLAG_DOCUMENT_5              307511 non-null  int64  \n",
      " 65  FLAG_DOCUMENT_6              307511 non-null  int64  \n",
      " 66  FLAG_DOCUMENT_7              307511 non-null  int64  \n",
      " 67  FLAG_DOCUMENT_8              307511 non-null  int64  \n",
      " 68  FLAG_DOCUMENT_9              307511 non-null  int64  \n",
      " 69  FLAG_DOCUMENT_10             307511 non-null  int64  \n",
      " 70  FLAG_DOCUMENT_11             307511 non-null  int64  \n",
      " 71  FLAG_DOCUMENT_12             307511 non-null  int64  \n",
      " 72  FLAG_DOCUMENT_13             307511 non-null  int64  \n",
      " 73  FLAG_DOCUMENT_14             307511 non-null  int64  \n",
      " 74  FLAG_DOCUMENT_15             307511 non-null  int64  \n",
      " 75  FLAG_DOCUMENT_16             307511 non-null  int64  \n",
      " 76  FLAG_DOCUMENT_17             307511 non-null  int64  \n",
      " 77  FLAG_DOCUMENT_18             307511 non-null  int64  \n",
      " 78  FLAG_DOCUMENT_19             307511 non-null  int64  \n",
      " 79  FLAG_DOCUMENT_20             307511 non-null  int64  \n",
      " 80  FLAG_DOCUMENT_21             307511 non-null  int64  \n",
      " 81  AMT_REQ_CREDIT_BUREAU_HOUR   265992 non-null  float64\n",
      " 82  AMT_REQ_CREDIT_BUREAU_DAY    265992 non-null  float64\n",
      " 83  AMT_REQ_CREDIT_BUREAU_WEEK   265992 non-null  float64\n",
      " 84  AMT_REQ_CREDIT_BUREAU_MON    265992 non-null  float64\n",
      " 85  AMT_REQ_CREDIT_BUREAU_QRT    265992 non-null  float64\n",
      " 86  AMT_REQ_CREDIT_BUREAU_YEAR   265992 non-null  float64\n",
      "dtypes: float64(32), int64(39), object(16)\n",
      "memory usage: 204.1+ MB\n"
     ]
    }
   ],
   "source": [
    "df_application_train.info(verbose=True)"
   ]
  },
  {
   "cell_type": "markdown",
   "metadata": {},
   "source": [
    "dropped 'EXT_SOURCE_1' let see if there is a difference haven't run it yet"
   ]
  },
  {
   "cell_type": "code",
   "execution_count": 10,
   "metadata": {},
   "outputs": [
    {
     "name": "stdout",
     "output_type": "stream",
     "text": [
      "<class 'pandas.core.frame.DataFrame'>\n",
      "RangeIndex: 307511 entries, 0 to 307510\n",
      "Data columns (total 17 columns):\n",
      " #   Column               Non-Null Count   Dtype  \n",
      "---  ------               --------------   -----  \n",
      " 0   NAME_CONTRACT_TYPE   307511 non-null  object \n",
      " 1   NAME_EDUCATION_TYPE  307511 non-null  object \n",
      " 2   NAME_FAMILY_STATUS   307511 non-null  object \n",
      " 3   AMT_INCOME_TOTAL     307511 non-null  float64\n",
      " 4   EXT_SOURCE_2         306851 non-null  float64\n",
      " 5   OCCUPATION_TYPE      211120 non-null  object \n",
      " 6   SK_ID_CURR           307511 non-null  int64  \n",
      " 7   DAYS_BIRTH           307511 non-null  int64  \n",
      " 8   AMT_ANNUITY          307499 non-null  float64\n",
      " 9   EXT_SOURCE_1         134133 non-null  float64\n",
      " 10  TARGET               307511 non-null  int64  \n",
      " 11  AMT_CREDIT           307511 non-null  float64\n",
      " 12  DAYS_EMPLOYED        307511 non-null  int64  \n",
      " 13  NAME_HOUSING_TYPE    307511 non-null  object \n",
      " 14  NAME_INCOME_TYPE     307511 non-null  object \n",
      " 15  ORGANIZATION_TYPE    307511 non-null  object \n",
      " 16  EXT_SOURCE_3         246546 non-null  float64\n",
      "dtypes: float64(6), int64(4), object(7)\n",
      "memory usage: 39.9+ MB\n"
     ]
    }
   ],
   "source": [
    "# Selected Cols:\n",
    "selected_features= ['SK_ID_CURR', 'DAYS_BIRTH', 'DAYS_EMPLOYED', \n",
    "                     'AMT_CREDIT','AMT_ANNUITY', 'AMT_INCOME_TOTAL', 'NAME_FAMILY_STATUS', \n",
    "                     'NAME_HOUSING_TYPE', 'NAME_INCOME_TYPE', 'OCCUPATION_TYPE', 'NAME_EDUCATION_TYPE', \n",
    "                     'NAME_CONTRACT_TYPE', 'ORGANIZATION_TYPE', 'EXT_SOURCE_1', 'EXT_SOURCE_2', 'EXT_SOURCE_3','TARGET']\n",
    "\n",
    "medi_columns = [col for col in df_application_train.columns if '_MEDI' in col] # Selecting the features that end with '_MEDI'\n",
    "\n",
    "final_features = list(set(selected_features + medi_columns))\n",
    "\n",
    "df_application_train = df_application_train[final_features] # Dropping both the selected features and medi_columns\n",
    "df_application_train.info()"
   ]
  },
  {
   "cell_type": "code",
   "execution_count": 11,
   "metadata": {},
   "outputs": [
    {
     "name": "stderr",
     "output_type": "stream",
     "text": [
      "/var/folders/6j/3l6q9l4515sdmfyg8znhblxr0000gn/T/ipykernel_10917/1492690994.py:2: SettingWithCopyWarning: \n",
      "A value is trying to be set on a copy of a slice from a DataFrame\n",
      "\n",
      "See the caveats in the documentation: https://pandas.pydata.org/pandas-docs/stable/user_guide/indexing.html#returning-a-view-versus-a-copy\n",
      "  df_application_train.drop_duplicates(inplace=True)\n",
      "/var/folders/6j/3l6q9l4515sdmfyg8znhblxr0000gn/T/ipykernel_10917/1492690994.py:3: SettingWithCopyWarning: \n",
      "A value is trying to be set on a copy of a slice from a DataFrame\n",
      "\n",
      "See the caveats in the documentation: https://pandas.pydata.org/pandas-docs/stable/user_guide/indexing.html#returning-a-view-versus-a-copy\n",
      "  df_application_train.dropna(subset=['TARGET'], inplace=True)  # Ensure no missing targets\n"
     ]
    }
   ],
   "source": [
    "# Dropping duplicates\n",
    "df_application_train.drop_duplicates(inplace=True)\n",
    "df_application_train.dropna(subset=['TARGET'], inplace=True)  # Ensure no missing targets\n"
   ]
  },
  {
   "cell_type": "code",
   "execution_count": 12,
   "metadata": {},
   "outputs": [
    {
     "data": {
      "text/plain": [
       "NAME_CONTRACT_TYPE          0\n",
       "NAME_EDUCATION_TYPE         0\n",
       "NAME_FAMILY_STATUS          0\n",
       "AMT_INCOME_TOTAL            0\n",
       "EXT_SOURCE_2              660\n",
       "OCCUPATION_TYPE         96391\n",
       "SK_ID_CURR                  0\n",
       "DAYS_BIRTH                  0\n",
       "AMT_ANNUITY                12\n",
       "EXT_SOURCE_1           173378\n",
       "TARGET                      0\n",
       "AMT_CREDIT                  0\n",
       "DAYS_EMPLOYED               0\n",
       "NAME_HOUSING_TYPE           0\n",
       "NAME_INCOME_TYPE            0\n",
       "ORGANIZATION_TYPE           0\n",
       "EXT_SOURCE_3            60965\n",
       "dtype: int64"
      ]
     },
     "execution_count": 12,
     "metadata": {},
     "output_type": "execute_result"
    }
   ],
   "source": [
    "df_application_train.isnull().sum()"
   ]
  },
  {
   "cell_type": "code",
   "execution_count": 13,
   "metadata": {},
   "outputs": [
    {
     "data": {
      "text/plain": [
       "0"
      ]
     },
     "execution_count": 13,
     "metadata": {},
     "output_type": "execute_result"
    }
   ],
   "source": [
    "df_application_train.duplicated().sum()"
   ]
  },
  {
   "cell_type": "code",
   "execution_count": null,
   "metadata": {},
   "outputs": [
    {
     "name": "stderr",
     "output_type": "stream",
     "text": [
      "/Users/yanellyhernandez/Library/Mobile Documents/com~apple~CloudDocs/Desktop/Learning Fuze/mod2/week 9/Data_class_proj/preprocessed_DataClass.py:21: SettingWithCopyWarning: \n",
      "A value is trying to be set on a copy of a slice from a DataFrame.\n",
      "Try using .loc[row_indexer,col_indexer] = value instead\n",
      "\n",
      "See the caveats in the documentation: https://pandas.pydata.org/pandas-docs/stable/user_guide/indexing.html#returning-a-view-versus-a-copy\n",
      "  df[column] = df[column].fillna(df[column].mode()[0])\n",
      "/Users/yanellyhernandez/Library/Mobile Documents/com~apple~CloudDocs/Desktop/Learning Fuze/mod2/week 9/Data_class_proj/preprocessed_DataClass.py:21: SettingWithCopyWarning: \n",
      "A value is trying to be set on a copy of a slice from a DataFrame.\n",
      "Try using .loc[row_indexer,col_indexer] = value instead\n",
      "\n",
      "See the caveats in the documentation: https://pandas.pydata.org/pandas-docs/stable/user_guide/indexing.html#returning-a-view-versus-a-copy\n",
      "  df[column] = df[column].fillna(df[column].mode()[0])\n",
      "/Users/yanellyhernandez/Library/Mobile Documents/com~apple~CloudDocs/Desktop/Learning Fuze/mod2/week 9/Data_class_proj/preprocessed_DataClass.py:21: SettingWithCopyWarning: \n",
      "A value is trying to be set on a copy of a slice from a DataFrame.\n",
      "Try using .loc[row_indexer,col_indexer] = value instead\n",
      "\n",
      "See the caveats in the documentation: https://pandas.pydata.org/pandas-docs/stable/user_guide/indexing.html#returning-a-view-versus-a-copy\n",
      "  df[column] = df[column].fillna(df[column].mode()[0])\n",
      "/Users/yanellyhernandez/Library/Mobile Documents/com~apple~CloudDocs/Desktop/Learning Fuze/mod2/week 9/Data_class_proj/preprocessed_DataClass.py:28: SettingWithCopyWarning: \n",
      "A value is trying to be set on a copy of a slice from a DataFrame.\n",
      "Try using .loc[row_indexer,col_indexer] = value instead\n",
      "\n",
      "See the caveats in the documentation: https://pandas.pydata.org/pandas-docs/stable/user_guide/indexing.html#returning-a-view-versus-a-copy\n",
      "  df[column] = df[column].fillna(df[column].mean())\n",
      "/Users/yanellyhernandez/Library/Mobile Documents/com~apple~CloudDocs/Desktop/Learning Fuze/mod2/week 9/Data_class_proj/preprocessed_DataClass.py:21: SettingWithCopyWarning: \n",
      "A value is trying to be set on a copy of a slice from a DataFrame.\n",
      "Try using .loc[row_indexer,col_indexer] = value instead\n",
      "\n",
      "See the caveats in the documentation: https://pandas.pydata.org/pandas-docs/stable/user_guide/indexing.html#returning-a-view-versus-a-copy\n",
      "  df[column] = df[column].fillna(df[column].mode()[0])\n",
      "/Users/yanellyhernandez/Library/Mobile Documents/com~apple~CloudDocs/Desktop/Learning Fuze/mod2/week 9/Data_class_proj/preprocessed_DataClass.py:31: SettingWithCopyWarning: \n",
      "A value is trying to be set on a copy of a slice from a DataFrame.\n",
      "Try using .loc[row_indexer,col_indexer] = value instead\n",
      "\n",
      "See the caveats in the documentation: https://pandas.pydata.org/pandas-docs/stable/user_guide/indexing.html#returning-a-view-versus-a-copy\n",
      "  df[column] = df[column].fillna(df[column].median())\n"
     ]
    }
   ],
   "source": [
    "# Handling nulls:\n",
    "from preprocessed_DataClass import handle_missing_values\n",
    "df_application_train = handle_missing_values(df_application_train)"
   ]
  },
  {
   "cell_type": "code",
   "execution_count": 15,
   "metadata": {},
   "outputs": [
    {
     "data": {
      "text/plain": [
       "0"
      ]
     },
     "execution_count": 15,
     "metadata": {},
     "output_type": "execute_result"
    }
   ],
   "source": [
    "df_application_train.isnull().sum().sum()"
   ]
  },
  {
   "cell_type": "code",
   "execution_count": 16,
   "metadata": {},
   "outputs": [
    {
     "data": {
      "text/plain": [
       "NAME_CONTRACT_TYPE     0\n",
       "NAME_EDUCATION_TYPE    0\n",
       "NAME_FAMILY_STATUS     0\n",
       "AMT_INCOME_TOTAL       0\n",
       "EXT_SOURCE_2           0\n",
       "OCCUPATION_TYPE        0\n",
       "SK_ID_CURR             0\n",
       "DAYS_BIRTH             0\n",
       "AMT_ANNUITY            0\n",
       "TARGET                 0\n",
       "AMT_CREDIT             0\n",
       "DAYS_EMPLOYED          0\n",
       "NAME_HOUSING_TYPE      0\n",
       "NAME_INCOME_TYPE       0\n",
       "ORGANIZATION_TYPE      0\n",
       "EXT_SOURCE_3           0\n",
       "dtype: int64"
      ]
     },
     "execution_count": 16,
     "metadata": {},
     "output_type": "execute_result"
    }
   ],
   "source": [
    "df_application_train.isnull().sum()"
   ]
  },
  {
   "cell_type": "code",
   "execution_count": null,
   "metadata": {},
   "outputs": [
    {
     "name": "stdout",
     "output_type": "stream",
     "text": [
      "Memory usage of this df is:  39.88408660888672 MB\n",
      "--------------------------------\n",
      "column:  AMT_INCOME_TOTAL\n",
      "data type before:  float64\n",
      "data type after:  float32\n",
      "--------------------------------\n",
      "--------------------------------\n",
      "column:  EXT_SOURCE_2\n",
      "data type before:  float64\n",
      "data type after:  float32\n",
      "--------------------------------\n",
      "--------------------------------\n",
      "column:  SK_ID_CURR\n",
      "data type before:  int64\n",
      "data type after:  uint32\n",
      "--------------------------------\n",
      "--------------------------------\n",
      "column:  DAYS_BIRTH\n",
      "data type before:  int64\n",
      "data type after:  int16\n",
      "--------------------------------\n",
      "--------------------------------\n",
      "column:  AMT_ANNUITY\n",
      "data type before:  float64\n",
      "data type after:  float32\n",
      "--------------------------------\n",
      "--------------------------------\n",
      "column:  TARGET\n",
      "data type before:  int64\n",
      "data type after:  uint8\n",
      "--------------------------------\n",
      "--------------------------------\n",
      "column:  AMT_CREDIT\n",
      "data type before:  float64\n",
      "data type after:  float32\n",
      "--------------------------------\n",
      "--------------------------------\n",
      "column:  DAYS_EMPLOYED\n",
      "data type before:  int64\n",
      "data type after:  int32\n",
      "--------------------------------\n",
      "--------------------------------\n",
      "column:  EXT_SOURCE_3\n",
      "data type before:  float64\n",
      "data type after:  float32\n",
      "--------------------------------\n",
      "___ memory usage after: __\n",
      "Memory usage is: 27.860207557678223 MB\n"
     ]
    }
   ],
   "source": [
    "# reducing the size of df_application_train \n",
    "from preprocessed_DataClass import red_mem_usage\n",
    "df_application_train, _ = red_mem_usage(df_application_train)"
   ]
  },
  {
   "cell_type": "code",
   "execution_count": 18,
   "metadata": {},
   "outputs": [
    {
     "name": "stdout",
     "output_type": "stream",
     "text": [
      "<class 'pandas.core.frame.DataFrame'>\n",
      "Int64Index: 307511 entries, 0 to 307510\n",
      "Data columns (total 16 columns):\n",
      " #   Column               Non-Null Count   Dtype  \n",
      "---  ------               --------------   -----  \n",
      " 0   NAME_CONTRACT_TYPE   307511 non-null  object \n",
      " 1   NAME_EDUCATION_TYPE  307511 non-null  object \n",
      " 2   NAME_FAMILY_STATUS   307511 non-null  object \n",
      " 3   AMT_INCOME_TOTAL     307511 non-null  float32\n",
      " 4   EXT_SOURCE_2         307511 non-null  float32\n",
      " 5   OCCUPATION_TYPE      307511 non-null  object \n",
      " 6   SK_ID_CURR           307511 non-null  uint32 \n",
      " 7   DAYS_BIRTH           307511 non-null  int16  \n",
      " 8   AMT_ANNUITY          307511 non-null  float32\n",
      " 9   TARGET               307511 non-null  uint8  \n",
      " 10  AMT_CREDIT           307511 non-null  float32\n",
      " 11  DAYS_EMPLOYED        307511 non-null  int32  \n",
      " 12  NAME_HOUSING_TYPE    307511 non-null  object \n",
      " 13  NAME_INCOME_TYPE     307511 non-null  object \n",
      " 14  ORGANIZATION_TYPE    307511 non-null  object \n",
      " 15  EXT_SOURCE_3         307511 non-null  float32\n",
      "dtypes: float32(5), int16(1), int32(1), object(7), uint32(1), uint8(1)\n",
      "memory usage: 27.9+ MB\n"
     ]
    }
   ],
   "source": [
    "df_application_train.info(verbose=True)"
   ]
  },
  {
   "cell_type": "markdown",
   "metadata": {},
   "source": [
    "# POS_CASH_balance"
   ]
  },
  {
   "cell_type": "code",
   "execution_count": 19,
   "metadata": {},
   "outputs": [
    {
     "name": "stdout",
     "output_type": "stream",
     "text": [
      "<class 'pandas.core.frame.DataFrame'>\n",
      "RangeIndex: 10001358 entries, 0 to 10001357\n",
      "Data columns (total 8 columns):\n",
      " #   Column                 Dtype  \n",
      "---  ------                 -----  \n",
      " 0   SK_ID_PREV             int64  \n",
      " 1   SK_ID_CURR             int64  \n",
      " 2   MONTHS_BALANCE         int64  \n",
      " 3   CNT_INSTALMENT         float64\n",
      " 4   CNT_INSTALMENT_FUTURE  float64\n",
      " 5   NAME_CONTRACT_STATUS   object \n",
      " 6   SK_DPD                 int64  \n",
      " 7   SK_DPD_DEF             int64  \n",
      "dtypes: float64(2), int64(5), object(1)\n",
      "memory usage: 610.4+ MB\n"
     ]
    }
   ],
   "source": [
    "# POS_CASH_balance\n",
    "POS_CASH_balance.info()"
   ]
  },
  {
   "cell_type": "code",
   "execution_count": 20,
   "metadata": {},
   "outputs": [
    {
     "name": "stdout",
     "output_type": "stream",
     "text": [
      "<class 'pandas.core.frame.DataFrame'>\n",
      "RangeIndex: 10001358 entries, 0 to 10001357\n",
      "Data columns (total 6 columns):\n",
      " #   Column                 Dtype  \n",
      "---  ------                 -----  \n",
      " 0   SK_ID_CURR             int64  \n",
      " 1   MONTHS_BALANCE         int64  \n",
      " 2   CNT_INSTALMENT         float64\n",
      " 3   CNT_INSTALMENT_FUTURE  float64\n",
      " 4   SK_DPD_DEF             int64  \n",
      " 5   NAME_CONTRACT_STATUS   object \n",
      "dtypes: float64(2), int64(3), object(1)\n",
      "memory usage: 457.8+ MB\n"
     ]
    }
   ],
   "source": [
    "# Selecting features:\n",
    "POS_CASH_balance = POS_CASH_balance[['SK_ID_CURR', 'MONTHS_BALANCE', 'CNT_INSTALMENT', 'CNT_INSTALMENT_FUTURE', 'SK_DPD_DEF', 'NAME_CONTRACT_STATUS']]\n",
    "POS_CASH_balance.info()"
   ]
  },
  {
   "cell_type": "code",
   "execution_count": 21,
   "metadata": {},
   "outputs": [
    {
     "data": {
      "text/plain": [
       "SK_ID_CURR                   0\n",
       "MONTHS_BALANCE               0\n",
       "CNT_INSTALMENT           26071\n",
       "CNT_INSTALMENT_FUTURE    26087\n",
       "SK_DPD_DEF                   0\n",
       "NAME_CONTRACT_STATUS         0\n",
       "dtype: int64"
      ]
     },
     "execution_count": 21,
     "metadata": {},
     "output_type": "execute_result"
    }
   ],
   "source": [
    "POS_CASH_balance.isnull().sum()"
   ]
  },
  {
   "cell_type": "code",
   "execution_count": 22,
   "metadata": {},
   "outputs": [
    {
     "data": {
      "text/plain": [
       "29479"
      ]
     },
     "execution_count": 22,
     "metadata": {},
     "output_type": "execute_result"
    }
   ],
   "source": [
    "# checking for any duplicates:\n",
    "POS_CASH_balance.duplicated().sum()"
   ]
  },
  {
   "cell_type": "code",
   "execution_count": 23,
   "metadata": {},
   "outputs": [
    {
     "data": {
      "text/plain": [
       "0"
      ]
     },
     "execution_count": 23,
     "metadata": {},
     "output_type": "execute_result"
    }
   ],
   "source": [
    "# dropping the dupilcates:\n",
    "POS_CASH_balance.drop_duplicates(inplace=True)\n",
    "POS_CASH_balance.duplicated().sum()"
   ]
  },
  {
   "cell_type": "code",
   "execution_count": null,
   "metadata": {},
   "outputs": [
    {
     "data": {
      "text/plain": [
       "0"
      ]
     },
     "execution_count": 24,
     "metadata": {},
     "output_type": "execute_result"
    }
   ],
   "source": [
    "# Handling nulls:\n",
    "from preprocessed_DataClass import handle_missing_values\n",
    "POS_CASH_balance = handle_missing_values(POS_CASH_balance)\n",
    "POS_CASH_balance.isnull().sum().sum()"
   ]
  },
  {
   "cell_type": "code",
   "execution_count": 25,
   "metadata": {},
   "outputs": [],
   "source": [
    "# Feature engineering\n",
    "POS_CASH_balance['INSTALMENT_RATIO'] = POS_CASH_balance['CNT_INSTALMENT'] / (POS_CASH_balance['CNT_INSTALMENT_FUTURE'] + 1e-5)\n"
   ]
  },
  {
   "cell_type": "code",
   "execution_count": null,
   "metadata": {},
   "outputs": [
    {
     "name": "stdout",
     "output_type": "stream",
     "text": [
      "Memory usage of this df is:  608.6351928710938 MB\n",
      "--------------------------------\n",
      "column:  SK_ID_CURR\n",
      "data type before:  int64\n",
      "data type after:  uint32\n",
      "--------------------------------\n",
      "--------------------------------\n",
      "column:  MONTHS_BALANCE\n",
      "data type before:  int64\n",
      "data type after:  int8\n",
      "--------------------------------\n",
      "--------------------------------\n",
      "column:  CNT_INSTALMENT\n",
      "data type before:  float64\n",
      "data type after:  uint8\n",
      "--------------------------------\n",
      "--------------------------------\n",
      "column:  CNT_INSTALMENT_FUTURE\n",
      "data type before:  float64\n",
      "data type after:  uint8\n",
      "--------------------------------\n",
      "--------------------------------\n",
      "column:  SK_DPD_DEF\n",
      "data type before:  int64\n",
      "data type after:  uint16\n",
      "--------------------------------\n",
      "--------------------------------\n",
      "column:  INSTALMENT_RATIO\n",
      "data type before:  float64\n",
      "data type after:  float32\n",
      "--------------------------------\n",
      "___ memory usage after: __\n",
      "Memory usage is: 275.78782176971436 MB\n"
     ]
    }
   ],
   "source": [
    "# reducing the size of POS_CASH_balance\n",
    "from preprocessed_DataClass import red_mem_usage\n",
    "POS_CASH_balance, _ = red_mem_usage(POS_CASH_balance)"
   ]
  },
  {
   "cell_type": "code",
   "execution_count": 27,
   "metadata": {},
   "outputs": [
    {
     "name": "stdout",
     "output_type": "stream",
     "text": [
      "<class 'pandas.core.frame.DataFrame'>\n",
      "Int64Index: 9971879 entries, 0 to 10001357\n",
      "Data columns (total 7 columns):\n",
      " #   Column                 Dtype  \n",
      "---  ------                 -----  \n",
      " 0   SK_ID_CURR             uint32 \n",
      " 1   MONTHS_BALANCE         int8   \n",
      " 2   CNT_INSTALMENT         uint8  \n",
      " 3   CNT_INSTALMENT_FUTURE  uint8  \n",
      " 4   SK_DPD_DEF             uint16 \n",
      " 5   NAME_CONTRACT_STATUS   object \n",
      " 6   INSTALMENT_RATIO       float32\n",
      "dtypes: float32(1), int8(1), object(1), uint16(1), uint32(1), uint8(2)\n",
      "memory usage: 275.8+ MB\n"
     ]
    }
   ],
   "source": [
    "POS_CASH_balance.info()"
   ]
  },
  {
   "cell_type": "code",
   "execution_count": 28,
   "metadata": {},
   "outputs": [],
   "source": [
    "# Aggregated features that were selected\n",
    "POS_CASH_agg = POS_CASH_balance.groupby('SK_ID_CURR').agg({\n",
    "    'MONTHS_BALANCE': ['mean', 'min', 'max'],  \n",
    "    'CNT_INSTALMENT': ['mean', 'min', 'max'],  \n",
    "    'CNT_INSTALMENT_FUTURE': ['mean', 'min', 'max'], \n",
    "    'SK_DPD_DEF': ['mean','max'],\n",
    "    'NAME_CONTRACT_STATUS' : ['count'],\n",
    "    'INSTALMENT_RATIO': ['mean', 'max'] \n",
    "}).reset_index()\n",
    "\n",
    "# Flatten column names\n",
    "POS_CASH_agg.columns = ['_'.join(col).strip('_') for col in POS_CASH_agg.columns.values]\n",
    "\n",
    "\n"
   ]
  },
  {
   "cell_type": "markdown",
   "metadata": {},
   "source": [
    "# Bureau"
   ]
  },
  {
   "cell_type": "code",
   "execution_count": 29,
   "metadata": {},
   "outputs": [
    {
     "name": "stdout",
     "output_type": "stream",
     "text": [
      "<class 'pandas.core.frame.DataFrame'>\n",
      "RangeIndex: 1716428 entries, 0 to 1716427\n",
      "Data columns (total 17 columns):\n",
      " #   Column                  Dtype  \n",
      "---  ------                  -----  \n",
      " 0   SK_ID_CURR              int64  \n",
      " 1   SK_ID_BUREAU            int64  \n",
      " 2   CREDIT_ACTIVE           object \n",
      " 3   CREDIT_CURRENCY         object \n",
      " 4   DAYS_CREDIT             int64  \n",
      " 5   CREDIT_DAY_OVERDUE      int64  \n",
      " 6   DAYS_CREDIT_ENDDATE     float64\n",
      " 7   DAYS_ENDDATE_FACT       float64\n",
      " 8   AMT_CREDIT_MAX_OVERDUE  float64\n",
      " 9   CNT_CREDIT_PROLONG      int64  \n",
      " 10  AMT_CREDIT_SUM          float64\n",
      " 11  AMT_CREDIT_SUM_DEBT     float64\n",
      " 12  AMT_CREDIT_SUM_LIMIT    float64\n",
      " 13  AMT_CREDIT_SUM_OVERDUE  float64\n",
      " 14  CREDIT_TYPE             object \n",
      " 15  DAYS_CREDIT_UPDATE      int64  \n",
      " 16  AMT_ANNUITY             float64\n",
      "dtypes: float64(8), int64(6), object(3)\n",
      "memory usage: 222.6+ MB\n"
     ]
    }
   ],
   "source": [
    "bureau.info(verbose=True)"
   ]
  },
  {
   "cell_type": "code",
   "execution_count": 30,
   "metadata": {},
   "outputs": [
    {
     "name": "stdout",
     "output_type": "stream",
     "text": [
      "<class 'pandas.core.frame.DataFrame'>\n",
      "RangeIndex: 1716428 entries, 0 to 1716427\n",
      "Data columns (total 9 columns):\n",
      " #   Column               Dtype  \n",
      "---  ------               -----  \n",
      " 0   SK_ID_CURR           int64  \n",
      " 1   SK_ID_BUREAU         int64  \n",
      " 2   CREDIT_ACTIVE        object \n",
      " 3   DAYS_CREDIT          int64  \n",
      " 4   DAYS_CREDIT_ENDDATE  float64\n",
      " 5   AMT_CREDIT_SUM       float64\n",
      " 6   DAYS_CREDIT_UPDATE   int64  \n",
      " 7   CREDIT_DAY_OVERDUE   int64  \n",
      " 8   CREDIT_TYPE          object \n",
      "dtypes: float64(2), int64(5), object(2)\n",
      "memory usage: 117.9+ MB\n"
     ]
    }
   ],
   "source": [
    "# Selected features:\n",
    "bureau = bureau[['SK_ID_CURR','SK_ID_BUREAU', 'CREDIT_ACTIVE', \n",
    "                 'DAYS_CREDIT', 'DAYS_CREDIT_ENDDATE', \n",
    "                 'AMT_CREDIT_SUM','DAYS_CREDIT_UPDATE', \n",
    "                 'CREDIT_DAY_OVERDUE', 'CREDIT_TYPE']]\n",
    "\n",
    "bureau.info()"
   ]
  },
  {
   "cell_type": "code",
   "execution_count": 31,
   "metadata": {},
   "outputs": [
    {
     "data": {
      "text/plain": [
       "SK_ID_CURR                  0\n",
       "SK_ID_BUREAU                0\n",
       "CREDIT_ACTIVE               0\n",
       "DAYS_CREDIT                 0\n",
       "DAYS_CREDIT_ENDDATE    105553\n",
       "AMT_CREDIT_SUM             13\n",
       "DAYS_CREDIT_UPDATE          0\n",
       "CREDIT_DAY_OVERDUE          0\n",
       "CREDIT_TYPE                 0\n",
       "dtype: int64"
      ]
     },
     "execution_count": 31,
     "metadata": {},
     "output_type": "execute_result"
    }
   ],
   "source": [
    "bureau.isnull().sum()"
   ]
  },
  {
   "cell_type": "code",
   "execution_count": null,
   "metadata": {},
   "outputs": [
    {
     "data": {
      "text/plain": [
       "SK_ID_CURR             0\n",
       "SK_ID_BUREAU           0\n",
       "CREDIT_ACTIVE          0\n",
       "DAYS_CREDIT            0\n",
       "DAYS_CREDIT_ENDDATE    0\n",
       "AMT_CREDIT_SUM         0\n",
       "DAYS_CREDIT_UPDATE     0\n",
       "CREDIT_DAY_OVERDUE     0\n",
       "CREDIT_TYPE            0\n",
       "dtype: int64"
      ]
     },
     "execution_count": 32,
     "metadata": {},
     "output_type": "execute_result"
    }
   ],
   "source": [
    "# Handling Nulls:\n",
    "from preprocessed_DataClass import handle_missing_values\n",
    "bureau = handle_missing_values(bureau)\n",
    "bureau.isnull().sum()"
   ]
  },
  {
   "cell_type": "code",
   "execution_count": 33,
   "metadata": {},
   "outputs": [
    {
     "data": {
      "text/plain": [
       "0"
      ]
     },
     "execution_count": 33,
     "metadata": {},
     "output_type": "execute_result"
    }
   ],
   "source": [
    "# Checking for any duplicates:\n",
    "bureau.duplicated().sum()"
   ]
  },
  {
   "cell_type": "code",
   "execution_count": 34,
   "metadata": {},
   "outputs": [
    {
     "data": {
      "text/plain": [
       "0"
      ]
     },
     "execution_count": 34,
     "metadata": {},
     "output_type": "execute_result"
    }
   ],
   "source": [
    "# Dropping duplicates:\n",
    "bureau = bureau.drop_duplicates()\n",
    "# checking if all duplicates are dropped:\n",
    "bureau.duplicated().sum()"
   ]
  },
  {
   "cell_type": "code",
   "execution_count": 35,
   "metadata": {},
   "outputs": [],
   "source": [
    "# Feature Engineering:\n",
    "bureau['DEFAULT_RATE'] = bureau['CREDIT_DAY_OVERDUE'] / (bureau['AMT_CREDIT_SUM'] + 1e-5)"
   ]
  },
  {
   "cell_type": "code",
   "execution_count": null,
   "metadata": {},
   "outputs": [
    {
     "name": "stdout",
     "output_type": "stream",
     "text": [
      "Memory usage of this df is:  144.04837036132812 MB\n",
      "--------------------------------\n",
      "column:  SK_ID_CURR\n",
      "data type before:  int64\n",
      "data type after:  uint32\n",
      "--------------------------------\n",
      "--------------------------------\n",
      "column:  SK_ID_BUREAU\n",
      "data type before:  int64\n",
      "data type after:  uint32\n",
      "--------------------------------\n",
      "--------------------------------\n",
      "column:  DAYS_CREDIT\n",
      "data type before:  int64\n",
      "data type after:  int16\n",
      "--------------------------------\n",
      "--------------------------------\n",
      "column:  DAYS_CREDIT_ENDDATE\n",
      "data type before:  float64\n",
      "data type after:  int32\n",
      "--------------------------------\n",
      "--------------------------------\n",
      "column:  AMT_CREDIT_SUM\n",
      "data type before:  float64\n",
      "data type after:  float32\n",
      "--------------------------------\n",
      "--------------------------------\n",
      "column:  DAYS_CREDIT_UPDATE\n",
      "data type before:  int64\n",
      "data type after:  int32\n",
      "--------------------------------\n",
      "--------------------------------\n",
      "column:  CREDIT_DAY_OVERDUE\n",
      "data type before:  int64\n",
      "data type after:  uint16\n",
      "--------------------------------\n",
      "--------------------------------\n",
      "column:  DEFAULT_RATE\n",
      "data type before:  float64\n",
      "data type after:  float32\n",
      "--------------------------------\n",
      "___ memory usage after: __\n",
      "Memory usage is: 85.11949157714844 MB\n"
     ]
    }
   ],
   "source": [
    "# reducing the size of bureau\n",
    "from preprocessed_DataClass import red_mem_usage\n",
    "bureau, _ = red_mem_usage(bureau)"
   ]
  },
  {
   "cell_type": "code",
   "execution_count": 37,
   "metadata": {},
   "outputs": [
    {
     "name": "stdout",
     "output_type": "stream",
     "text": [
      "<class 'pandas.core.frame.DataFrame'>\n",
      "Int64Index: 1716428 entries, 0 to 1716427\n",
      "Data columns (total 10 columns):\n",
      " #   Column               Dtype  \n",
      "---  ------               -----  \n",
      " 0   SK_ID_CURR           uint32 \n",
      " 1   SK_ID_BUREAU         uint32 \n",
      " 2   CREDIT_ACTIVE        object \n",
      " 3   DAYS_CREDIT          int16  \n",
      " 4   DAYS_CREDIT_ENDDATE  int32  \n",
      " 5   AMT_CREDIT_SUM       float32\n",
      " 6   DAYS_CREDIT_UPDATE   int32  \n",
      " 7   CREDIT_DAY_OVERDUE   uint16 \n",
      " 8   CREDIT_TYPE          object \n",
      " 9   DEFAULT_RATE         float32\n",
      "dtypes: float32(2), int16(1), int32(2), object(2), uint16(1), uint32(2)\n",
      "memory usage: 85.1+ MB\n"
     ]
    }
   ],
   "source": [
    "bureau.info()"
   ]
  },
  {
   "cell_type": "code",
   "execution_count": 38,
   "metadata": {},
   "outputs": [],
   "source": [
    "# Selective aggregation for bureau data\n",
    "bureau_agg = bureau.groupby('SK_ID_CURR').agg({\n",
    "    'DAYS_CREDIT': ['mean', 'min', 'max'],\n",
    "    'DAYS_CREDIT_ENDDATE': ['mean'],\n",
    "    'AMT_CREDIT_SUM': ['mean', 'max'],\n",
    "    'DAYS_CREDIT_UPDATE': ['mean', 'max'],\n",
    "    'CREDIT_DAY_OVERDUE': ['mean', 'max'],\n",
    "    'CREDIT_TYPE': ['count'],\n",
    "    'DEFAULT_RATE': 'mean'\n",
    "}).reset_index()\n",
    "\n",
    "# Flatten multi-level column index if it exists (as in this case with multiple aggregations)\n",
    "bureau_agg.columns = ['_'.join(col).strip('_') for col in bureau_agg.columns.values]"
   ]
  },
  {
   "cell_type": "markdown",
   "metadata": {},
   "source": [
    "# credit_card_balance"
   ]
  },
  {
   "cell_type": "code",
   "execution_count": 39,
   "metadata": {},
   "outputs": [
    {
     "name": "stdout",
     "output_type": "stream",
     "text": [
      "<class 'pandas.core.frame.DataFrame'>\n",
      "RangeIndex: 3840312 entries, 0 to 3840311\n",
      "Data columns (total 23 columns):\n",
      " #   Column                      Dtype  \n",
      "---  ------                      -----  \n",
      " 0   SK_ID_PREV                  int64  \n",
      " 1   SK_ID_CURR                  int64  \n",
      " 2   MONTHS_BALANCE              int64  \n",
      " 3   AMT_BALANCE                 float64\n",
      " 4   AMT_CREDIT_LIMIT_ACTUAL     int64  \n",
      " 5   AMT_DRAWINGS_ATM_CURRENT    float64\n",
      " 6   AMT_DRAWINGS_CURRENT        float64\n",
      " 7   AMT_DRAWINGS_OTHER_CURRENT  float64\n",
      " 8   AMT_DRAWINGS_POS_CURRENT    float64\n",
      " 9   AMT_INST_MIN_REGULARITY     float64\n",
      " 10  AMT_PAYMENT_CURRENT         float64\n",
      " 11  AMT_PAYMENT_TOTAL_CURRENT   float64\n",
      " 12  AMT_RECEIVABLE_PRINCIPAL    float64\n",
      " 13  AMT_RECIVABLE               float64\n",
      " 14  AMT_TOTAL_RECEIVABLE        float64\n",
      " 15  CNT_DRAWINGS_ATM_CURRENT    float64\n",
      " 16  CNT_DRAWINGS_CURRENT        int64  \n",
      " 17  CNT_DRAWINGS_OTHER_CURRENT  float64\n",
      " 18  CNT_DRAWINGS_POS_CURRENT    float64\n",
      " 19  CNT_INSTALMENT_MATURE_CUM   float64\n",
      " 20  NAME_CONTRACT_STATUS        object \n",
      " 21  SK_DPD                      int64  \n",
      " 22  SK_DPD_DEF                  int64  \n",
      "dtypes: float64(15), int64(7), object(1)\n",
      "memory usage: 673.9+ MB\n"
     ]
    }
   ],
   "source": [
    "credit_card_balance.info()"
   ]
  },
  {
   "cell_type": "code",
   "execution_count": null,
   "metadata": {},
   "outputs": [
    {
     "name": "stderr",
     "output_type": "stream",
     "text": [
      "/var/folders/6j/3l6q9l4515sdmfyg8znhblxr0000gn/T/ipykernel_10917/3965434236.py:2: FutureWarning: The default value of numeric_only in DataFrame.corr is deprecated. In a future version, it will default to False. Select only valid columns or specify the value of numeric_only to silence this warning.\n",
      "  corr_matrix = credit_card_balance.corr().abs() # Getting the correlated values\n"
     ]
    }
   ],
   "source": [
    "# Leaving out high correlated values:\n",
    "corr_matrix = credit_card_balance.corr(numeric_only=True).abs() # Getting the correlated values\n",
    "upper_tri = corr_matrix.where(np.triu(np.ones(corr_matrix.shape), k=1).astype(bool)) # Getting the upper traingular matrix\n",
    "to_drop = [column for column in upper_tri.columns if any(upper_tri[column] > 0.9)]\n",
    "credit_card_balance.drop(columns=to_drop, inplace=True) # Dropping the columns that have a high correlated value of 0.9.\n"
   ]
  },
  {
   "cell_type": "code",
   "execution_count": null,
   "metadata": {},
   "outputs": [
    {
     "name": "stdout",
     "output_type": "stream",
     "text": [
      "<class 'pandas.core.frame.DataFrame'>\n",
      "RangeIndex: 3840312 entries, 0 to 3840311\n",
      "Data columns (total 8 columns):\n",
      " #   Column                    Dtype  \n",
      "---  ------                    -----  \n",
      " 0   SK_ID_CURR                int64  \n",
      " 1   AMT_BALANCE               float64\n",
      " 2   AMT_PAYMENT_CURRENT       float64\n",
      " 3   CNT_DRAWINGS_ATM_CURRENT  float64\n",
      " 4   NAME_CONTRACT_STATUS      object \n",
      " 5   SK_DPD                    int64  \n",
      " 6   AMT_INST_MIN_REGULARITY   float64\n",
      " 7   SK_DPD_DEF                int64  \n",
      "dtypes: float64(4), int64(3), object(1)\n",
      "memory usage: 234.4+ MB\n"
     ]
    }
   ],
   "source": [
    "# Selected features\n",
    "credit_card_balance = credit_card_balance[['SK_ID_CURR', 'AMT_BALANCE', 'AMT_PAYMENT_CURRENT',\n",
    "                                           'CNT_DRAWINGS_ATM_CURRENT', 'NAME_CONTRACT_STATUS', 'SK_DPD',\n",
    "                                           'AMT_INST_MIN_REGULARITY', 'SK_DPD_DEF']] # best auc\n",
    "credit_card_balance.info()\n",
    "\n"
   ]
  },
  {
   "cell_type": "code",
   "execution_count": 42,
   "metadata": {},
   "outputs": [
    {
     "data": {
      "text/plain": [
       "1931659"
      ]
     },
     "execution_count": 42,
     "metadata": {},
     "output_type": "execute_result"
    }
   ],
   "source": [
    "# Checking for duplicates\n",
    "credit_card_balance.duplicated().sum()"
   ]
  },
  {
   "cell_type": "code",
   "execution_count": 43,
   "metadata": {},
   "outputs": [
    {
     "data": {
      "text/plain": [
       "0"
      ]
     },
     "execution_count": 43,
     "metadata": {},
     "output_type": "execute_result"
    }
   ],
   "source": [
    "# Dropping the dupilcates:\n",
    "credit_card_balance = credit_card_balance.drop_duplicates()\n",
    "# Checking if all duplicates are dropped:\n",
    "credit_card_balance.duplicated().sum()"
   ]
  },
  {
   "cell_type": "code",
   "execution_count": 44,
   "metadata": {},
   "outputs": [
    {
     "data": {
      "text/plain": [
       "SK_ID_CURR                      0\n",
       "AMT_BALANCE                     0\n",
       "AMT_PAYMENT_CURRENT         98257\n",
       "CNT_DRAWINGS_ATM_CURRENT    72491\n",
       "NAME_CONTRACT_STATUS            0\n",
       "SK_DPD                          0\n",
       "AMT_INST_MIN_REGULARITY     56936\n",
       "SK_DPD_DEF                      0\n",
       "dtype: int64"
      ]
     },
     "execution_count": 44,
     "metadata": {},
     "output_type": "execute_result"
    }
   ],
   "source": [
    "credit_card_balance.isnull().sum()"
   ]
  },
  {
   "cell_type": "code",
   "execution_count": null,
   "metadata": {},
   "outputs": [],
   "source": [
    "# Handling nulls:\n",
    "from preprocessed_DataClass import handle_missing_values\n",
    "credit_card_balance = handle_missing_values(credit_card_balance)"
   ]
  },
  {
   "cell_type": "code",
   "execution_count": 46,
   "metadata": {},
   "outputs": [
    {
     "data": {
      "text/plain": [
       "SK_ID_CURR                  0\n",
       "AMT_BALANCE                 0\n",
       "AMT_PAYMENT_CURRENT         0\n",
       "CNT_DRAWINGS_ATM_CURRENT    0\n",
       "NAME_CONTRACT_STATUS        0\n",
       "SK_DPD                      0\n",
       "AMT_INST_MIN_REGULARITY     0\n",
       "SK_DPD_DEF                  0\n",
       "dtype: int64"
      ]
     },
     "execution_count": 46,
     "metadata": {},
     "output_type": "execute_result"
    }
   ],
   "source": [
    "credit_card_balance.isnull().sum()"
   ]
  },
  {
   "cell_type": "code",
   "execution_count": null,
   "metadata": {},
   "outputs": [
    {
     "name": "stdout",
     "output_type": "stream",
     "text": [
      "Memory usage of this df is:  131.05680084228516 MB\n",
      "--------------------------------\n",
      "column:  SK_ID_CURR\n",
      "data type before:  int64\n",
      "data type after:  uint32\n",
      "--------------------------------\n",
      "--------------------------------\n",
      "column:  AMT_BALANCE\n",
      "data type before:  float64\n",
      "data type after:  float32\n",
      "--------------------------------\n",
      "--------------------------------\n",
      "column:  AMT_PAYMENT_CURRENT\n",
      "data type before:  float64\n",
      "data type after:  float32\n",
      "--------------------------------\n",
      "--------------------------------\n",
      "column:  CNT_DRAWINGS_ATM_CURRENT\n",
      "data type before:  float64\n",
      "data type after:  uint8\n",
      "--------------------------------\n",
      "--------------------------------\n",
      "column:  SK_DPD\n",
      "data type before:  int64\n",
      "data type after:  uint16\n",
      "--------------------------------\n",
      "--------------------------------\n",
      "column:  AMT_INST_MIN_REGULARITY\n",
      "data type before:  float64\n",
      "data type after:  float32\n",
      "--------------------------------\n",
      "--------------------------------\n",
      "column:  SK_DPD_DEF\n",
      "data type before:  int64\n",
      "data type after:  uint16\n",
      "--------------------------------\n",
      "___ memory usage after: __\n",
      "Memory usage is: 67.34863376617432 MB\n"
     ]
    }
   ],
   "source": [
    "# reducing the size of creidt_card_balance\n",
    "from preprocessed_DataClass import red_mem_usage\n",
    "credit_card_balance, _ = red_mem_usage(credit_card_balance)"
   ]
  },
  {
   "cell_type": "code",
   "execution_count": 48,
   "metadata": {},
   "outputs": [
    {
     "name": "stdout",
     "output_type": "stream",
     "text": [
      "<class 'pandas.core.frame.DataFrame'>\n",
      "Int64Index: 1908653 entries, 0 to 3840309\n",
      "Data columns (total 8 columns):\n",
      " #   Column                    Dtype  \n",
      "---  ------                    -----  \n",
      " 0   SK_ID_CURR                uint32 \n",
      " 1   AMT_BALANCE               float32\n",
      " 2   AMT_PAYMENT_CURRENT       float32\n",
      " 3   CNT_DRAWINGS_ATM_CURRENT  uint8  \n",
      " 4   NAME_CONTRACT_STATUS      object \n",
      " 5   SK_DPD                    uint16 \n",
      " 6   AMT_INST_MIN_REGULARITY   float32\n",
      " 7   SK_DPD_DEF                uint16 \n",
      "dtypes: float32(3), object(1), uint16(2), uint32(1), uint8(1)\n",
      "memory usage: 67.3+ MB\n"
     ]
    }
   ],
   "source": [
    "credit_card_balance.info(verbose=True)"
   ]
  },
  {
   "cell_type": "code",
   "execution_count": 49,
   "metadata": {},
   "outputs": [
    {
     "data": {
      "text/html": [
       "<div>\n",
       "<style scoped>\n",
       "    .dataframe tbody tr th:only-of-type {\n",
       "        vertical-align: middle;\n",
       "    }\n",
       "\n",
       "    .dataframe tbody tr th {\n",
       "        vertical-align: top;\n",
       "    }\n",
       "\n",
       "    .dataframe thead th {\n",
       "        text-align: right;\n",
       "    }\n",
       "</style>\n",
       "<table border=\"1\" class=\"dataframe\">\n",
       "  <thead>\n",
       "    <tr style=\"text-align: right;\">\n",
       "      <th></th>\n",
       "      <th>SK_ID_CURR</th>\n",
       "      <th>CNT_DRAWINGS_ATM_CURRENT_mean</th>\n",
       "      <th>CNT_DRAWINGS_ATM_CURRENT_max</th>\n",
       "      <th>AMT_BALANCE_mean</th>\n",
       "      <th>AMT_BALANCE_max</th>\n",
       "      <th>AMT_PAYMENT_CURRENT_mean</th>\n",
       "      <th>AMT_PAYMENT_CURRENT_sum</th>\n",
       "      <th>SK_DPD_mean</th>\n",
       "      <th>SK_DPD_max</th>\n",
       "      <th>AMT_INST_MIN_REGULARITY_mean</th>\n",
       "      <th>AMT_INST_MIN_REGULARITY_min</th>\n",
       "      <th>AMT_INST_MIN_REGULARITY_max</th>\n",
       "      <th>SK_DPD_DEF_mean</th>\n",
       "      <th>SK_DPD_DEF_max</th>\n",
       "    </tr>\n",
       "  </thead>\n",
       "  <tbody>\n",
       "    <tr>\n",
       "      <th>0</th>\n",
       "      <td>100006</td>\n",
       "      <td>0.000000</td>\n",
       "      <td>0</td>\n",
       "      <td>0.000000</td>\n",
       "      <td>0.00000</td>\n",
       "      <td>9000.000000</td>\n",
       "      <td>9000.00000</td>\n",
       "      <td>0.000000</td>\n",
       "      <td>0</td>\n",
       "      <td>0.000000</td>\n",
       "      <td>0.0</td>\n",
       "      <td>0.0</td>\n",
       "      <td>0.000000</td>\n",
       "      <td>0</td>\n",
       "    </tr>\n",
       "    <tr>\n",
       "      <th>1</th>\n",
       "      <td>100011</td>\n",
       "      <td>0.114286</td>\n",
       "      <td>4</td>\n",
       "      <td>115190.750000</td>\n",
       "      <td>189000.00000</td>\n",
       "      <td>9611.882812</td>\n",
       "      <td>336415.90625</td>\n",
       "      <td>0.000000</td>\n",
       "      <td>0</td>\n",
       "      <td>8412.262695</td>\n",
       "      <td>0.0</td>\n",
       "      <td>9000.0</td>\n",
       "      <td>0.000000</td>\n",
       "      <td>0</td>\n",
       "    </tr>\n",
       "    <tr>\n",
       "      <th>2</th>\n",
       "      <td>100013</td>\n",
       "      <td>0.821429</td>\n",
       "      <td>7</td>\n",
       "      <td>62262.582031</td>\n",
       "      <td>161420.21875</td>\n",
       "      <td>23896.111328</td>\n",
       "      <td>669091.12500</td>\n",
       "      <td>0.035714</td>\n",
       "      <td>1</td>\n",
       "      <td>5025.143555</td>\n",
       "      <td>0.0</td>\n",
       "      <td>7875.0</td>\n",
       "      <td>0.035714</td>\n",
       "      <td>1</td>\n",
       "    </tr>\n",
       "    <tr>\n",
       "      <th>3</th>\n",
       "      <td>100021</td>\n",
       "      <td>0.000000</td>\n",
       "      <td>0</td>\n",
       "      <td>0.000000</td>\n",
       "      <td>0.00000</td>\n",
       "      <td>9000.000000</td>\n",
       "      <td>18000.00000</td>\n",
       "      <td>0.000000</td>\n",
       "      <td>0</td>\n",
       "      <td>0.000000</td>\n",
       "      <td>0.0</td>\n",
       "      <td>0.0</td>\n",
       "      <td>0.000000</td>\n",
       "      <td>0</td>\n",
       "    </tr>\n",
       "    <tr>\n",
       "      <th>4</th>\n",
       "      <td>100023</td>\n",
       "      <td>0.000000</td>\n",
       "      <td>0</td>\n",
       "      <td>0.000000</td>\n",
       "      <td>0.00000</td>\n",
       "      <td>9000.000000</td>\n",
       "      <td>9000.00000</td>\n",
       "      <td>0.000000</td>\n",
       "      <td>0</td>\n",
       "      <td>0.000000</td>\n",
       "      <td>0.0</td>\n",
       "      <td>0.0</td>\n",
       "      <td>0.000000</td>\n",
       "      <td>0</td>\n",
       "    </tr>\n",
       "  </tbody>\n",
       "</table>\n",
       "</div>"
      ],
      "text/plain": [
       "   SK_ID_CURR  CNT_DRAWINGS_ATM_CURRENT_mean  CNT_DRAWINGS_ATM_CURRENT_max  \\\n",
       "0      100006                       0.000000                             0   \n",
       "1      100011                       0.114286                             4   \n",
       "2      100013                       0.821429                             7   \n",
       "3      100021                       0.000000                             0   \n",
       "4      100023                       0.000000                             0   \n",
       "\n",
       "   AMT_BALANCE_mean  AMT_BALANCE_max  AMT_PAYMENT_CURRENT_mean  \\\n",
       "0          0.000000          0.00000               9000.000000   \n",
       "1     115190.750000     189000.00000               9611.882812   \n",
       "2      62262.582031     161420.21875              23896.111328   \n",
       "3          0.000000          0.00000               9000.000000   \n",
       "4          0.000000          0.00000               9000.000000   \n",
       "\n",
       "   AMT_PAYMENT_CURRENT_sum  SK_DPD_mean  SK_DPD_max  \\\n",
       "0               9000.00000     0.000000           0   \n",
       "1             336415.90625     0.000000           0   \n",
       "2             669091.12500     0.035714           1   \n",
       "3              18000.00000     0.000000           0   \n",
       "4               9000.00000     0.000000           0   \n",
       "\n",
       "   AMT_INST_MIN_REGULARITY_mean  AMT_INST_MIN_REGULARITY_min  \\\n",
       "0                      0.000000                          0.0   \n",
       "1                   8412.262695                          0.0   \n",
       "2                   5025.143555                          0.0   \n",
       "3                      0.000000                          0.0   \n",
       "4                      0.000000                          0.0   \n",
       "\n",
       "   AMT_INST_MIN_REGULARITY_max  SK_DPD_DEF_mean  SK_DPD_DEF_max  \n",
       "0                          0.0         0.000000               0  \n",
       "1                       9000.0         0.000000               0  \n",
       "2                       7875.0         0.035714               1  \n",
       "3                          0.0         0.000000               0  \n",
       "4                          0.0         0.000000               0  "
      ]
     },
     "execution_count": 49,
     "metadata": {},
     "output_type": "execute_result"
    }
   ],
   "source": [
    "# Aggregation logic for credit_card_balance\n",
    "credit_card_agg = credit_card_balance.groupby('SK_ID_CURR').agg({\n",
    "    'CNT_DRAWINGS_ATM_CURRENT': ['mean', 'max'],           \n",
    "    'AMT_BALANCE': ['mean', 'max'],                   \n",
    "    'AMT_PAYMENT_CURRENT': ['mean', 'sum'],             \n",
    "    'SK_DPD': ['mean', 'max'],\n",
    "    'AMT_INST_MIN_REGULARITY': ['mean', 'min', 'max'],\n",
    "    'SK_DPD_DEF': ['mean', 'max']                    \n",
    "\n",
    "}).reset_index()\n",
    "\n",
    "# Flatten the column names for better readability\n",
    "credit_card_agg.columns = ['_'.join(col).strip('_') if isinstance(col, tuple) else col for col in credit_card_agg.columns]\n",
    "\n",
    "# Display the first few rows of the aggregated DataFrame\n",
    "credit_card_agg.head()\n"
   ]
  },
  {
   "cell_type": "markdown",
   "metadata": {},
   "source": [
    "# previous_applications."
   ]
  },
  {
   "cell_type": "code",
   "execution_count": 50,
   "metadata": {},
   "outputs": [
    {
     "name": "stdout",
     "output_type": "stream",
     "text": [
      "<class 'pandas.core.frame.DataFrame'>\n",
      "RangeIndex: 1670214 entries, 0 to 1670213\n",
      "Data columns (total 37 columns):\n",
      " #   Column                       Non-Null Count    Dtype  \n",
      "---  ------                       --------------    -----  \n",
      " 0   SK_ID_PREV                   1670214 non-null  int64  \n",
      " 1   SK_ID_CURR                   1670214 non-null  int64  \n",
      " 2   NAME_CONTRACT_TYPE           1670214 non-null  object \n",
      " 3   AMT_ANNUITY                  1297979 non-null  float64\n",
      " 4   AMT_APPLICATION              1670214 non-null  float64\n",
      " 5   AMT_CREDIT                   1670213 non-null  float64\n",
      " 6   AMT_DOWN_PAYMENT             774370 non-null   float64\n",
      " 7   AMT_GOODS_PRICE              1284699 non-null  float64\n",
      " 8   WEEKDAY_APPR_PROCESS_START   1670214 non-null  object \n",
      " 9   HOUR_APPR_PROCESS_START      1670214 non-null  int64  \n",
      " 10  FLAG_LAST_APPL_PER_CONTRACT  1670214 non-null  object \n",
      " 11  NFLAG_LAST_APPL_IN_DAY       1670214 non-null  int64  \n",
      " 12  RATE_DOWN_PAYMENT            774370 non-null   float64\n",
      " 13  RATE_INTEREST_PRIMARY        5951 non-null     float64\n",
      " 14  RATE_INTEREST_PRIVILEGED     5951 non-null     float64\n",
      " 15  NAME_CASH_LOAN_PURPOSE       1670214 non-null  object \n",
      " 16  NAME_CONTRACT_STATUS         1670214 non-null  object \n",
      " 17  DAYS_DECISION                1670214 non-null  int64  \n",
      " 18  NAME_PAYMENT_TYPE            1670214 non-null  object \n",
      " 19  CODE_REJECT_REASON           1670214 non-null  object \n",
      " 20  NAME_TYPE_SUITE              849809 non-null   object \n",
      " 21  NAME_CLIENT_TYPE             1670214 non-null  object \n",
      " 22  NAME_GOODS_CATEGORY          1670214 non-null  object \n",
      " 23  NAME_PORTFOLIO               1670214 non-null  object \n",
      " 24  NAME_PRODUCT_TYPE            1670214 non-null  object \n",
      " 25  CHANNEL_TYPE                 1670214 non-null  object \n",
      " 26  SELLERPLACE_AREA             1670214 non-null  int64  \n",
      " 27  NAME_SELLER_INDUSTRY         1670214 non-null  object \n",
      " 28  CNT_PAYMENT                  1297984 non-null  float64\n",
      " 29  NAME_YIELD_GROUP             1670214 non-null  object \n",
      " 30  PRODUCT_COMBINATION          1669868 non-null  object \n",
      " 31  DAYS_FIRST_DRAWING           997149 non-null   float64\n",
      " 32  DAYS_FIRST_DUE               997149 non-null   float64\n",
      " 33  DAYS_LAST_DUE_1ST_VERSION    997149 non-null   float64\n",
      " 34  DAYS_LAST_DUE                997149 non-null   float64\n",
      " 35  DAYS_TERMINATION             997149 non-null   float64\n",
      " 36  NFLAG_INSURED_ON_APPROVAL    997149 non-null   float64\n",
      "dtypes: float64(15), int64(6), object(16)\n",
      "memory usage: 471.5+ MB\n"
     ]
    }
   ],
   "source": [
    "previous_application.info(verbose=True)"
   ]
  },
  {
   "cell_type": "code",
   "execution_count": null,
   "metadata": {},
   "outputs": [
    {
     "name": "stderr",
     "output_type": "stream",
     "text": [
      "/var/folders/6j/3l6q9l4515sdmfyg8znhblxr0000gn/T/ipykernel_10917/3624070284.py:2: FutureWarning: The default value of numeric_only in DataFrame.corr is deprecated. In a future version, it will default to False. Select only valid columns or specify the value of numeric_only to silence this warning.\n",
      "  corr_matrix = previous_application.corr().abs() # Getting the correlated values\n"
     ]
    }
   ],
   "source": [
    "# Leaving out high correlated values:\n",
    "corr_matrix = previous_application.corr(numeric_only=True).abs() # Getting the correlated values\n",
    "upper_tri = corr_matrix.where(np.triu(np.ones(corr_matrix.shape), k=1).astype(bool))  # Getting the upper traingular matrix\n",
    "to_drop = [column for column in upper_tri.columns if any(upper_tri[column] > 0.9)]\n",
    "previous_application.drop(columns=to_drop, inplace=True) # Dropping the columns that have a high correlated value of 0.9.\n"
   ]
  },
  {
   "cell_type": "code",
   "execution_count": 52,
   "metadata": {},
   "outputs": [
    {
     "name": "stdout",
     "output_type": "stream",
     "text": [
      "<class 'pandas.core.frame.DataFrame'>\n",
      "RangeIndex: 1670214 entries, 0 to 1670213\n",
      "Data columns (total 5 columns):\n",
      " #   Column                Non-Null Count    Dtype  \n",
      "---  ------                --------------    -----  \n",
      " 0   SK_ID_CURR            1670214 non-null  int64  \n",
      " 1   AMT_APPLICATION       1670214 non-null  float64\n",
      " 2   AMT_ANNUITY           1297979 non-null  float64\n",
      " 3   NAME_CONTRACT_STATUS  1670214 non-null  object \n",
      " 4   DAYS_DECISION         1670214 non-null  int64  \n",
      "dtypes: float64(2), int64(2), object(1)\n",
      "memory usage: 63.7+ MB\n"
     ]
    }
   ],
   "source": [
    "# Selected features:\n",
    "previous_application = previous_application[['SK_ID_CURR', 'AMT_APPLICATION', 'AMT_ANNUITY', \n",
    "                                             'NAME_CONTRACT_STATUS', 'DAYS_DECISION']]\n",
    "previous_application.info(verbose=True)"
   ]
  },
  {
   "cell_type": "code",
   "execution_count": 53,
   "metadata": {},
   "outputs": [
    {
     "data": {
      "text/plain": [
       "91996"
      ]
     },
     "execution_count": 53,
     "metadata": {},
     "output_type": "execute_result"
    }
   ],
   "source": [
    "# Checking for duplicates\n",
    "previous_application.duplicated().sum()"
   ]
  },
  {
   "cell_type": "code",
   "execution_count": 54,
   "metadata": {},
   "outputs": [
    {
     "data": {
      "text/plain": [
       "0"
      ]
     },
     "execution_count": 54,
     "metadata": {},
     "output_type": "execute_result"
    }
   ],
   "source": [
    "# Drop duplicates\n",
    "previous_application.drop_duplicates(inplace=True)\n",
    "previous_application.duplicated().sum()"
   ]
  },
  {
   "cell_type": "code",
   "execution_count": 55,
   "metadata": {},
   "outputs": [
    {
     "data": {
      "text/plain": [
       "SK_ID_CURR                   0\n",
       "AMT_APPLICATION              0\n",
       "AMT_ANNUITY             292038\n",
       "NAME_CONTRACT_STATUS         0\n",
       "DAYS_DECISION                0\n",
       "dtype: int64"
      ]
     },
     "execution_count": 55,
     "metadata": {},
     "output_type": "execute_result"
    }
   ],
   "source": [
    "previous_application.isnull().sum()"
   ]
  },
  {
   "cell_type": "code",
   "execution_count": null,
   "metadata": {},
   "outputs": [
    {
     "data": {
      "text/plain": [
       "SK_ID_CURR              0\n",
       "AMT_APPLICATION         0\n",
       "AMT_ANNUITY             0\n",
       "NAME_CONTRACT_STATUS    0\n",
       "DAYS_DECISION           0\n",
       "dtype: int64"
      ]
     },
     "execution_count": 56,
     "metadata": {},
     "output_type": "execute_result"
    }
   ],
   "source": [
    "# Handling nulls:\n",
    "from preprocessed_DataClass import handle_missing_values\n",
    "previous_application = handle_missing_values(previous_application)\n",
    "previous_application.isnull().sum()"
   ]
  },
  {
   "cell_type": "code",
   "execution_count": null,
   "metadata": {},
   "outputs": [
    {
     "name": "stdout",
     "output_type": "stream",
     "text": [
      "Memory usage of this df is:  72.24508666992188 MB\n",
      "--------------------------------\n",
      "column:  SK_ID_CURR\n",
      "data type before:  int64\n",
      "data type after:  uint32\n",
      "--------------------------------\n",
      "--------------------------------\n",
      "column:  AMT_APPLICATION\n",
      "data type before:  float64\n",
      "data type after:  float32\n",
      "--------------------------------\n",
      "--------------------------------\n",
      "column:  AMT_ANNUITY\n",
      "data type before:  float64\n",
      "data type after:  float32\n",
      "--------------------------------\n",
      "--------------------------------\n",
      "column:  DAYS_DECISION\n",
      "data type before:  int64\n",
      "data type after:  int16\n",
      "--------------------------------\n",
      "___ memory usage after: __\n",
      "Memory usage is: 45.15317916870117 MB\n"
     ]
    }
   ],
   "source": [
    "# reducing the size of previous_application\n",
    "from preprocessed_DataClass import red_mem_usage\n",
    "previous_application, _ = red_mem_usage(previous_application)"
   ]
  },
  {
   "cell_type": "code",
   "execution_count": 58,
   "metadata": {},
   "outputs": [
    {
     "name": "stdout",
     "output_type": "stream",
     "text": [
      "<class 'pandas.core.frame.DataFrame'>\n",
      "Int64Index: 1578218 entries, 0 to 1670213\n",
      "Data columns (total 5 columns):\n",
      " #   Column                Non-Null Count    Dtype  \n",
      "---  ------                --------------    -----  \n",
      " 0   SK_ID_CURR            1578218 non-null  uint32 \n",
      " 1   AMT_APPLICATION       1578218 non-null  float32\n",
      " 2   AMT_ANNUITY           1578218 non-null  float32\n",
      " 3   NAME_CONTRACT_STATUS  1578218 non-null  object \n",
      " 4   DAYS_DECISION         1578218 non-null  int16  \n",
      "dtypes: float32(2), int16(1), object(1), uint32(1)\n",
      "memory usage: 45.2+ MB\n"
     ]
    }
   ],
   "source": [
    "previous_application.info()"
   ]
  },
  {
   "cell_type": "code",
   "execution_count": 59,
   "metadata": {},
   "outputs": [],
   "source": [
    "# Aggregated features that were selected\n",
    "previous_application_agg = previous_application.groupby('SK_ID_CURR').agg({\n",
    "    'AMT_APPLICATION': ['mean', 'max'],\n",
    "    'AMT_ANNUITY': ['mean', 'max'],\n",
    "    'NAME_CONTRACT_STATUS': ['count'],\n",
    "    'DAYS_DECISION': ['mean', 'min']\n",
    "}).reset_index()\n",
    "\n",
    "# Flatten column names\n",
    "previous_application_agg.columns = ['_'.join(col).strip('_') for col in previous_application_agg.columns.values]\n"
   ]
  },
  {
   "cell_type": "markdown",
   "metadata": {},
   "source": [
    "# installments_payments"
   ]
  },
  {
   "cell_type": "code",
   "execution_count": 60,
   "metadata": {},
   "outputs": [
    {
     "name": "stdout",
     "output_type": "stream",
     "text": [
      "<class 'pandas.core.frame.DataFrame'>\n",
      "RangeIndex: 13605401 entries, 0 to 13605400\n",
      "Data columns (total 8 columns):\n",
      " #   Column                  Dtype  \n",
      "---  ------                  -----  \n",
      " 0   SK_ID_PREV              int64  \n",
      " 1   SK_ID_CURR              int64  \n",
      " 2   NUM_INSTALMENT_VERSION  float64\n",
      " 3   NUM_INSTALMENT_NUMBER   int64  \n",
      " 4   DAYS_INSTALMENT         float64\n",
      " 5   DAYS_ENTRY_PAYMENT      float64\n",
      " 6   AMT_INSTALMENT          float64\n",
      " 7   AMT_PAYMENT             float64\n",
      "dtypes: float64(5), int64(3)\n",
      "memory usage: 830.4 MB\n"
     ]
    }
   ],
   "source": [
    "installments_payments.info()"
   ]
  },
  {
   "cell_type": "code",
   "execution_count": 61,
   "metadata": {},
   "outputs": [],
   "source": [
    "# Leaving out high correlated values:\n",
    "corr_matrix = installments_payments.corr().abs() # Getting the correlated values\n",
    "upper_tri = corr_matrix.where(np.triu(np.ones(corr_matrix.shape), k=1).astype(bool)) # Getting the upper traingular matrix\n",
    "to_drop = [column for column in upper_tri.columns if any(upper_tri[column] > 0.9)]\n",
    "installments_payments.drop(columns=to_drop, inplace=True) # Dropping the columns that have a high correlated value of 0.9.\n"
   ]
  },
  {
   "cell_type": "code",
   "execution_count": 62,
   "metadata": {},
   "outputs": [
    {
     "name": "stdout",
     "output_type": "stream",
     "text": [
      "<class 'pandas.core.frame.DataFrame'>\n",
      "RangeIndex: 13605401 entries, 0 to 13605400\n",
      "Data columns (total 6 columns):\n",
      " #   Column                  Dtype  \n",
      "---  ------                  -----  \n",
      " 0   SK_ID_PREV              int64  \n",
      " 1   SK_ID_CURR              int64  \n",
      " 2   NUM_INSTALMENT_VERSION  float64\n",
      " 3   NUM_INSTALMENT_NUMBER   int64  \n",
      " 4   DAYS_INSTALMENT         float64\n",
      " 5   AMT_INSTALMENT          float64\n",
      "dtypes: float64(3), int64(3)\n",
      "memory usage: 622.8 MB\n"
     ]
    }
   ],
   "source": [
    "installments_payments.info()"
   ]
  },
  {
   "cell_type": "code",
   "execution_count": 63,
   "metadata": {},
   "outputs": [
    {
     "name": "stdout",
     "output_type": "stream",
     "text": [
      "<class 'pandas.core.frame.DataFrame'>\n",
      "RangeIndex: 13605401 entries, 0 to 13605400\n",
      "Data columns (total 2 columns):\n",
      " #   Column          Dtype  \n",
      "---  ------          -----  \n",
      " 0   SK_ID_CURR      int64  \n",
      " 1   AMT_INSTALMENT  float64\n",
      "dtypes: float64(1), int64(1)\n",
      "memory usage: 207.6 MB\n"
     ]
    }
   ],
   "source": [
    "# Selected features\n",
    "installments_payments = installments_payments[['SK_ID_CURR', 'AMT_INSTALMENT']]\n",
    "installments_payments.info(verbose=True)"
   ]
  },
  {
   "cell_type": "code",
   "execution_count": 64,
   "metadata": {},
   "outputs": [
    {
     "data": {
      "text/plain": [
       "10182597"
      ]
     },
     "execution_count": 64,
     "metadata": {},
     "output_type": "execute_result"
    }
   ],
   "source": [
    "# Checking for duplicates:\n",
    "installments_payments.duplicated().sum()"
   ]
  },
  {
   "cell_type": "code",
   "execution_count": 65,
   "metadata": {},
   "outputs": [
    {
     "data": {
      "text/plain": [
       "0"
      ]
     },
     "execution_count": 65,
     "metadata": {},
     "output_type": "execute_result"
    }
   ],
   "source": [
    "# Dropping duplicates:\n",
    "installments_payments.drop_duplicates(inplace= True)\n",
    "installments_payments.duplicated().sum()"
   ]
  },
  {
   "cell_type": "code",
   "execution_count": null,
   "metadata": {},
   "outputs": [
    {
     "data": {
      "text/plain": [
       "SK_ID_CURR        0\n",
       "AMT_INSTALMENT    0\n",
       "dtype: int64"
      ]
     },
     "execution_count": 66,
     "metadata": {},
     "output_type": "execute_result"
    }
   ],
   "source": [
    "# Handling nulls:\n",
    "from preprocessed_DataClass import handle_missing_values\n",
    "installments_payments = handle_missing_values(installments_payments)\n",
    "installments_payments.isnull().sum()"
   ]
  },
  {
   "cell_type": "code",
   "execution_count": null,
   "metadata": {},
   "outputs": [
    {
     "name": "stdout",
     "output_type": "stream",
     "text": [
      "Memory usage of this df is:  78.34176635742188 MB\n",
      "--------------------------------\n",
      "column:  SK_ID_CURR\n",
      "data type before:  int64\n",
      "data type after:  uint32\n",
      "--------------------------------\n",
      "--------------------------------\n",
      "column:  AMT_INSTALMENT\n",
      "data type before:  float64\n",
      "data type after:  float32\n",
      "--------------------------------\n",
      "___ memory usage after: __\n",
      "Memory usage is: 52.22784423828125 MB\n",
      "<class 'pandas.core.frame.DataFrame'>\n",
      "Int64Index: 3422804 entries, 0 to 13605398\n",
      "Data columns (total 2 columns):\n",
      " #   Column          Dtype  \n",
      "---  ------          -----  \n",
      " 0   SK_ID_CURR      uint32 \n",
      " 1   AMT_INSTALMENT  float32\n",
      "dtypes: float32(1), uint32(1)\n",
      "memory usage: 52.2 MB\n"
     ]
    }
   ],
   "source": [
    "# reducing the size of previous_application\n",
    "from preprocessed_DataClass import red_mem_usage\n",
    "installments_payments, _ = red_mem_usage(installments_payments)\n",
    "installments_payments.info()"
   ]
  },
  {
   "cell_type": "code",
   "execution_count": 68,
   "metadata": {},
   "outputs": [],
   "source": [
    "# Aggregated features that were selected\n",
    "installments_agg = installments_payments.groupby('SK_ID_CURR').agg({\n",
    "    \n",
    "    'AMT_INSTALMENT': ['mean', 'sum', 'max'],\n",
    "    \n",
    "}).reset_index()\n",
    "\n",
    "# Flatten column names\n",
    "installments_agg.columns = ['_'.join(col).strip('_') for col in installments_agg.columns.values]\n"
   ]
  },
  {
   "cell_type": "markdown",
   "metadata": {},
   "source": [
    "# bureau_balance"
   ]
  },
  {
   "cell_type": "code",
   "execution_count": 69,
   "metadata": {},
   "outputs": [
    {
     "name": "stdout",
     "output_type": "stream",
     "text": [
      "<class 'pandas.core.frame.DataFrame'>\n",
      "RangeIndex: 27299925 entries, 0 to 27299924\n",
      "Data columns (total 3 columns):\n",
      " #   Column          Dtype \n",
      "---  ------          ----- \n",
      " 0   SK_ID_BUREAU    int64 \n",
      " 1   MONTHS_BALANCE  int64 \n",
      " 2   STATUS          object\n",
      "dtypes: int64(2), object(1)\n",
      "memory usage: 624.8+ MB\n"
     ]
    }
   ],
   "source": [
    "bureau_balance.info()"
   ]
  },
  {
   "cell_type": "code",
   "execution_count": 70,
   "metadata": {},
   "outputs": [
    {
     "data": {
      "text/plain": [
       "0"
      ]
     },
     "execution_count": 70,
     "metadata": {},
     "output_type": "execute_result"
    }
   ],
   "source": [
    "bureau_balance.duplicated().sum()"
   ]
  },
  {
   "cell_type": "code",
   "execution_count": 71,
   "metadata": {},
   "outputs": [
    {
     "data": {
      "text/plain": [
       "SK_ID_BUREAU      0\n",
       "MONTHS_BALANCE    0\n",
       "STATUS            0\n",
       "dtype: int64"
      ]
     },
     "execution_count": 71,
     "metadata": {},
     "output_type": "execute_result"
    }
   ],
   "source": [
    "bureau_balance.isnull().sum()"
   ]
  },
  {
   "cell_type": "code",
   "execution_count": null,
   "metadata": {},
   "outputs": [
    {
     "name": "stdout",
     "output_type": "stream",
     "text": [
      "Memory usage of this df is:  624.8458213806152 MB\n",
      "--------------------------------\n",
      "column:  SK_ID_BUREAU\n",
      "data type before:  int64\n",
      "data type after:  uint32\n",
      "--------------------------------\n",
      "--------------------------------\n",
      "column:  MONTHS_BALANCE\n",
      "data type before:  int64\n",
      "data type after:  int8\n",
      "--------------------------------\n",
      "___ memory usage after: __\n",
      "Memory usage is: 338.4582109451294 MB\n",
      "<class 'pandas.core.frame.DataFrame'>\n",
      "RangeIndex: 27299925 entries, 0 to 27299924\n",
      "Data columns (total 3 columns):\n",
      " #   Column          Dtype \n",
      "---  ------          ----- \n",
      " 0   SK_ID_BUREAU    uint32\n",
      " 1   MONTHS_BALANCE  int8  \n",
      " 2   STATUS          object\n",
      "dtypes: int8(1), object(1), uint32(1)\n",
      "memory usage: 338.5+ MB\n"
     ]
    }
   ],
   "source": [
    "# reducing the size of previous_application\n",
    "from preprocessed_DataClass import red_mem_usage\n",
    "bureau_balance, _ = red_mem_usage(bureau_balance)\n",
    "bureau_balance.info()"
   ]
  },
  {
   "cell_type": "code",
   "execution_count": 73,
   "metadata": {},
   "outputs": [
    {
     "name": "stdout",
     "output_type": "stream",
     "text": [
      "Index(['SK_ID_CURR', 'SK_ID_BUREAU', 'CREDIT_ACTIVE', 'DAYS_CREDIT',\n",
      "       'DAYS_CREDIT_ENDDATE', 'AMT_CREDIT_SUM', 'DAYS_CREDIT_UPDATE',\n",
      "       'CREDIT_DAY_OVERDUE', 'CREDIT_TYPE', 'DEFAULT_RATE',\n",
      "       'MONTHS_BALANCE_mean', 'MONTHS_BALANCE_min', 'MONTHS_BALANCE_max',\n",
      "       'STATUS_count'],\n",
      "      dtype='object')\n",
      "Index(['SK_ID_CURR', 'MONTHS_BALANCE_mean', 'MONTHS_BALANCE_max',\n",
      "       'STATUS_count'],\n",
      "      dtype='object')\n"
     ]
    }
   ],
   "source": [
    "# Aggregate Bureau Balance Data by SK_ID_BUREAU\n",
    "bureau_balance_agg = bureau_balance.groupby('SK_ID_BUREAU').agg({\n",
    "    'MONTHS_BALANCE': ['mean', 'min', 'max'],\n",
    "    'STATUS': ['count']\n",
    "}).reset_index()\n",
    "\n",
    "# Flatten the column names\n",
    "bureau_balance_agg.columns = ['_'.join(col).strip('_') for col in bureau_balance_agg.columns.values]\n",
    "\n",
    "# Merge with `bureau` table on `SK_ID_BUREAU`\n",
    "bureau = bureau.merge(bureau_balance_agg, on='SK_ID_BUREAU', how='left')\n",
    "\n",
    "# Now check the column names in 'bureau' after the merge\n",
    "print(bureau.columns)  # This will help you inspect column names\n",
    "\n",
    "# Further aggregate by `SK_ID_CURR` with correct column names\n",
    "bureau_agg = bureau.groupby('SK_ID_CURR').agg({\n",
    "    'MONTHS_BALANCE_mean': 'mean',  # mean of MONTHS_BALANCE_mean\n",
    "    'MONTHS_BALANCE_max': 'max',    # max of MONTHS_BALANCE_mean\n",
    "    'STATUS_count': 'sum'           # sum of STATUS_count\n",
    "}).reset_index()\n",
    "\n",
    "# Flatten column names again\n",
    "bureau_agg.columns = ['_'.join(col).strip('_') if isinstance(col, tuple) else col for col in bureau_agg.columns]\n",
    "\n",
    "# Print the column names to verify\n",
    "print(bureau_agg.columns)\n"
   ]
  },
  {
   "cell_type": "markdown",
   "metadata": {},
   "source": [
    "# Merge Tables df"
   ]
  },
  {
   "cell_type": "code",
   "execution_count": 74,
   "metadata": {},
   "outputs": [],
   "source": [
    "# Merge all aggregated tables with df_application_train on SK_ID_CURR\n",
    "# using '_agg' to reduce data size\n",
    "merged_df = df_application_train.merge(POS_CASH_agg, on='SK_ID_CURR', how='left') \\\n",
    "                                .merge(bureau_agg, on='SK_ID_CURR', how='left') \\\n",
    "                                .merge(credit_card_agg, on='SK_ID_CURR', how='left') \\\n",
    "                                .merge(previous_application_agg, on='SK_ID_CURR', how='left')\n"
   ]
  },
  {
   "cell_type": "code",
   "execution_count": 75,
   "metadata": {},
   "outputs": [
    {
     "name": "stdout",
     "output_type": "stream",
     "text": [
      "<class 'pandas.core.frame.DataFrame'>\n",
      "Int64Index: 307511 entries, 0 to 307510\n",
      "Data columns (total 53 columns):\n",
      " #   Column                         Non-Null Count   Dtype  \n",
      "---  ------                         --------------   -----  \n",
      " 0   NAME_CONTRACT_TYPE             307511 non-null  object \n",
      " 1   NAME_EDUCATION_TYPE            307511 non-null  object \n",
      " 2   NAME_FAMILY_STATUS             307511 non-null  object \n",
      " 3   AMT_INCOME_TOTAL               307511 non-null  float32\n",
      " 4   EXT_SOURCE_2                   307511 non-null  float32\n",
      " 5   OCCUPATION_TYPE                307511 non-null  object \n",
      " 6   SK_ID_CURR                     307511 non-null  uint32 \n",
      " 7   DAYS_BIRTH                     307511 non-null  int16  \n",
      " 8   AMT_ANNUITY                    307511 non-null  float32\n",
      " 9   TARGET                         307511 non-null  uint8  \n",
      " 10  AMT_CREDIT                     307511 non-null  float32\n",
      " 11  DAYS_EMPLOYED                  307511 non-null  int32  \n",
      " 12  NAME_HOUSING_TYPE              307511 non-null  object \n",
      " 13  NAME_INCOME_TYPE               307511 non-null  object \n",
      " 14  ORGANIZATION_TYPE              307511 non-null  object \n",
      " 15  EXT_SOURCE_3                   307511 non-null  float32\n",
      " 16  MONTHS_BALANCE_mean_x          289444 non-null  float64\n",
      " 17  MONTHS_BALANCE_min             289444 non-null  float64\n",
      " 18  MONTHS_BALANCE_max_x           289444 non-null  float64\n",
      " 19  CNT_INSTALMENT_mean            289444 non-null  float64\n",
      " 20  CNT_INSTALMENT_min             289444 non-null  float64\n",
      " 21  CNT_INSTALMENT_max             289444 non-null  float64\n",
      " 22  CNT_INSTALMENT_FUTURE_mean     289444 non-null  float64\n",
      " 23  CNT_INSTALMENT_FUTURE_min      289444 non-null  float64\n",
      " 24  CNT_INSTALMENT_FUTURE_max      289444 non-null  float64\n",
      " 25  SK_DPD_DEF_mean_x              289444 non-null  float64\n",
      " 26  SK_DPD_DEF_max_x               289444 non-null  float64\n",
      " 27  NAME_CONTRACT_STATUS_count_x   289444 non-null  float64\n",
      " 28  INSTALMENT_RATIO_mean          289444 non-null  float32\n",
      " 29  INSTALMENT_RATIO_max           289444 non-null  float32\n",
      " 30  MONTHS_BALANCE_mean_y          92231 non-null   float64\n",
      " 31  MONTHS_BALANCE_max_y           92231 non-null   float64\n",
      " 32  STATUS_count                   263491 non-null  float64\n",
      " 33  CNT_DRAWINGS_ATM_CURRENT_mean  86905 non-null   float64\n",
      " 34  CNT_DRAWINGS_ATM_CURRENT_max   86905 non-null   float64\n",
      " 35  AMT_BALANCE_mean               86905 non-null   float32\n",
      " 36  AMT_BALANCE_max                86905 non-null   float32\n",
      " 37  AMT_PAYMENT_CURRENT_mean       86905 non-null   float32\n",
      " 38  AMT_PAYMENT_CURRENT_sum        86905 non-null   float32\n",
      " 39  SK_DPD_mean                    86905 non-null   float64\n",
      " 40  SK_DPD_max                     86905 non-null   float64\n",
      " 41  AMT_INST_MIN_REGULARITY_mean   86905 non-null   float32\n",
      " 42  AMT_INST_MIN_REGULARITY_min    86905 non-null   float32\n",
      " 43  AMT_INST_MIN_REGULARITY_max    86905 non-null   float32\n",
      " 44  SK_DPD_DEF_mean_y              86905 non-null   float64\n",
      " 45  SK_DPD_DEF_max_y               86905 non-null   float64\n",
      " 46  AMT_APPLICATION_mean           291057 non-null  float32\n",
      " 47  AMT_APPLICATION_max            291057 non-null  float32\n",
      " 48  AMT_ANNUITY_mean               291057 non-null  float32\n",
      " 49  AMT_ANNUITY_max                291057 non-null  float32\n",
      " 50  NAME_CONTRACT_STATUS_count_y   291057 non-null  float64\n",
      " 51  DAYS_DECISION_mean             291057 non-null  float64\n",
      " 52  DAYS_DECISION_min              291057 non-null  float64\n",
      "dtypes: float32(18), float64(24), int16(1), int32(1), object(7), uint32(1), uint8(1)\n",
      "memory usage: 99.4+ MB\n"
     ]
    }
   ],
   "source": [
    "merged_df.info(verbose=True)"
   ]
  },
  {
   "cell_type": "code",
   "execution_count": null,
   "metadata": {},
   "outputs": [
    {
     "name": "stderr",
     "output_type": "stream",
     "text": [
      "/var/folders/6j/3l6q9l4515sdmfyg8znhblxr0000gn/T/ipykernel_10917/1601403031.py:2: FutureWarning: The default value of numeric_only in DataFrame.corr is deprecated. In a future version, it will default to False. Select only valid columns or specify the value of numeric_only to silence this warning.\n",
      "  corr_matrix = merged_df.corr().abs() # Getting the correlated values\n"
     ]
    }
   ],
   "source": [
    "# Leaving out high correlated values:\n",
    "corr_matrix = merged_df.corr(numeric_only=True).abs() # Getting the correlated values\n",
    "upper_tri = corr_matrix.where(np.triu(np.ones(corr_matrix.shape), k=1).astype(bool)) # Getting the upper traingular matrix\n",
    "to_drop = [column for column in upper_tri.columns if any(upper_tri[column] > 0.9)]\n",
    "merged_df.drop(columns=to_drop, inplace=True) # Dropping the columns that have a high correlated value of 0.9.\n"
   ]
  },
  {
   "cell_type": "code",
   "execution_count": 77,
   "metadata": {},
   "outputs": [
    {
     "name": "stdout",
     "output_type": "stream",
     "text": [
      "<class 'pandas.core.frame.DataFrame'>\n",
      "Int64Index: 307511 entries, 0 to 307510\n",
      "Data columns (total 44 columns):\n",
      " #   Column                         Non-Null Count   Dtype  \n",
      "---  ------                         --------------   -----  \n",
      " 0   NAME_CONTRACT_TYPE             307511 non-null  object \n",
      " 1   NAME_EDUCATION_TYPE            307511 non-null  object \n",
      " 2   NAME_FAMILY_STATUS             307511 non-null  object \n",
      " 3   AMT_INCOME_TOTAL               307511 non-null  float32\n",
      " 4   EXT_SOURCE_2                   307511 non-null  float32\n",
      " 5   OCCUPATION_TYPE                307511 non-null  object \n",
      " 6   SK_ID_CURR                     307511 non-null  uint32 \n",
      " 7   DAYS_BIRTH                     307511 non-null  int16  \n",
      " 8   AMT_ANNUITY                    307511 non-null  float32\n",
      " 9   TARGET                         307511 non-null  uint8  \n",
      " 10  AMT_CREDIT                     307511 non-null  float32\n",
      " 11  DAYS_EMPLOYED                  307511 non-null  int32  \n",
      " 12  NAME_HOUSING_TYPE              307511 non-null  object \n",
      " 13  NAME_INCOME_TYPE               307511 non-null  object \n",
      " 14  ORGANIZATION_TYPE              307511 non-null  object \n",
      " 15  EXT_SOURCE_3                   307511 non-null  float32\n",
      " 16  MONTHS_BALANCE_mean_x          289444 non-null  float64\n",
      " 17  MONTHS_BALANCE_min             289444 non-null  float64\n",
      " 18  MONTHS_BALANCE_max_x           289444 non-null  float64\n",
      " 19  CNT_INSTALMENT_mean            289444 non-null  float64\n",
      " 20  CNT_INSTALMENT_min             289444 non-null  float64\n",
      " 21  CNT_INSTALMENT_max             289444 non-null  float64\n",
      " 22  CNT_INSTALMENT_FUTURE_min      289444 non-null  float64\n",
      " 23  SK_DPD_DEF_mean_x              289444 non-null  float64\n",
      " 24  NAME_CONTRACT_STATUS_count_x   289444 non-null  float64\n",
      " 25  INSTALMENT_RATIO_mean          289444 non-null  float32\n",
      " 26  INSTALMENT_RATIO_max           289444 non-null  float32\n",
      " 27  MONTHS_BALANCE_mean_y          92231 non-null   float64\n",
      " 28  MONTHS_BALANCE_max_y           92231 non-null   float64\n",
      " 29  STATUS_count                   263491 non-null  float64\n",
      " 30  CNT_DRAWINGS_ATM_CURRENT_mean  86905 non-null   float64\n",
      " 31  CNT_DRAWINGS_ATM_CURRENT_max   86905 non-null   float64\n",
      " 32  AMT_BALANCE_mean               86905 non-null   float32\n",
      " 33  AMT_PAYMENT_CURRENT_mean       86905 non-null   float32\n",
      " 34  AMT_PAYMENT_CURRENT_sum        86905 non-null   float32\n",
      " 35  SK_DPD_mean                    86905 non-null   float64\n",
      " 36  AMT_INST_MIN_REGULARITY_min    86905 non-null   float32\n",
      " 37  SK_DPD_DEF_mean_y              86905 non-null   float64\n",
      " 38  AMT_APPLICATION_mean           291057 non-null  float32\n",
      " 39  AMT_APPLICATION_max            291057 non-null  float32\n",
      " 40  AMT_ANNUITY_mean               291057 non-null  float32\n",
      " 41  AMT_ANNUITY_max                291057 non-null  float32\n",
      " 42  NAME_CONTRACT_STATUS_count_y   291057 non-null  float64\n",
      " 43  DAYS_DECISION_mean             291057 non-null  float64\n",
      "dtypes: float32(15), float64(18), int16(1), int32(1), object(7), uint32(1), uint8(1)\n",
      "memory usage: 81.8+ MB\n"
     ]
    }
   ],
   "source": [
    "merged_df.info(verbose=True)"
   ]
  },
  {
   "cell_type": "code",
   "execution_count": 78,
   "metadata": {},
   "outputs": [],
   "source": [
    "# feature engineer:\n",
    "merged_df['CREDIT_INCOME_RATIO'] = merged_df['AMT_CREDIT'] / (merged_df['AMT_INCOME_TOTAL'] + 1e-5)\n",
    "merged_df['ANNUITY_CREDIT_RATIO'] = merged_df['AMT_ANNUITY'] / (merged_df['AMT_CREDIT'] + 1e-5)\n",
    "merged_df['ANNUITY_INCOME_RATIO'] = merged_df['AMT_ANNUITY'] / (merged_df['AMT_INCOME_TOTAL'] + 1e-5)\n",
    "merged_df['EXT_SOURCE_COMBINATION'] = merged_df['EXT_SOURCE_2'] * merged_df['EXT_SOURCE_3']\n"
   ]
  },
  {
   "cell_type": "code",
   "execution_count": 79,
   "metadata": {},
   "outputs": [],
   "source": [
    "# Polynomial or Interaction Features\n",
    "merged_df['EXT_SOURCE_INTERACTION'] = merged_df['EXT_SOURCE_2'] * merged_df['EXT_SOURCE_3']\n",
    "merged_df['AGE_EMPLOYMENT_RATIO'] = merged_df['DAYS_EMPLOYED'] / merged_df['DAYS_BIRTH']\n",
    "\n",
    "# Custom Features\n",
    "merged_df['DEBT_TO_INCOME_RATIO'] = merged_df['AMT_CREDIT'] / merged_df['AMT_INCOME_TOTAL']\n",
    "merged_df['LOAN_TO_INCOME_RATIO'] = merged_df['AMT_CREDIT'] / (merged_df['AMT_ANNUITY'] + merged_df['AMT_INCOME_TOTAL'])\n"
   ]
  },
  {
   "cell_type": "code",
   "execution_count": null,
   "metadata": {},
   "outputs": [
    {
     "name": "stdout",
     "output_type": "stream",
     "text": [
      "<class 'pandas.core.frame.DataFrame'>\n",
      "Int64Index: 307511 entries, 0 to 307510\n",
      "Data columns (total 42 columns):\n",
      " #   Column                        Non-Null Count   Dtype  \n",
      "---  ------                        --------------   -----  \n",
      " 0   NAME_CONTRACT_TYPE            307511 non-null  object \n",
      " 1   NAME_EDUCATION_TYPE           307511 non-null  object \n",
      " 2   NAME_FAMILY_STATUS            307511 non-null  object \n",
      " 3   AMT_INCOME_TOTAL              307511 non-null  float32\n",
      " 4   EXT_SOURCE_2                  307511 non-null  float32\n",
      " 5   OCCUPATION_TYPE               307511 non-null  object \n",
      " 6   SK_ID_CURR                    307511 non-null  uint32 \n",
      " 7   DAYS_BIRTH                    307511 non-null  int16  \n",
      " 8   AMT_ANNUITY                   307511 non-null  float32\n",
      " 9   TARGET                        307511 non-null  uint8  \n",
      " 10  AMT_CREDIT                    307511 non-null  float32\n",
      " 11  DAYS_EMPLOYED                 307511 non-null  int32  \n",
      " 12  NAME_HOUSING_TYPE             307511 non-null  object \n",
      " 13  NAME_INCOME_TYPE              307511 non-null  object \n",
      " 14  ORGANIZATION_TYPE             307511 non-null  object \n",
      " 15  EXT_SOURCE_3                  307511 non-null  float32\n",
      " 16  MONTHS_BALANCE_mean_x         307511 non-null  float64\n",
      " 17  MONTHS_BALANCE_min            307511 non-null  float64\n",
      " 18  MONTHS_BALANCE_max_x          307511 non-null  float64\n",
      " 19  CNT_INSTALMENT_mean           307511 non-null  float64\n",
      " 20  CNT_INSTALMENT_min            307511 non-null  float64\n",
      " 21  CNT_INSTALMENT_max            307511 non-null  float64\n",
      " 22  CNT_INSTALMENT_FUTURE_min     307511 non-null  float64\n",
      " 23  SK_DPD_DEF_mean_x             307511 non-null  float64\n",
      " 24  NAME_CONTRACT_STATUS_count_x  307511 non-null  float64\n",
      " 25  INSTALMENT_RATIO_mean         307511 non-null  float32\n",
      " 26  INSTALMENT_RATIO_max          307511 non-null  float32\n",
      " 27  STATUS_count                  307511 non-null  float64\n",
      " 28  AMT_APPLICATION_mean          307511 non-null  float32\n",
      " 29  AMT_APPLICATION_max           307511 non-null  float32\n",
      " 30  AMT_ANNUITY_mean              307511 non-null  float32\n",
      " 31  AMT_ANNUITY_max               307511 non-null  float32\n",
      " 32  NAME_CONTRACT_STATUS_count_y  307511 non-null  float64\n",
      " 33  DAYS_DECISION_mean            307511 non-null  float64\n",
      " 34  CREDIT_INCOME_RATIO           307511 non-null  float32\n",
      " 35  ANNUITY_CREDIT_RATIO          307511 non-null  float32\n",
      " 36  ANNUITY_INCOME_RATIO          307511 non-null  float32\n",
      " 37  EXT_SOURCE_COMBINATION        307511 non-null  float32\n",
      " 38  EXT_SOURCE_INTERACTION        307511 non-null  float32\n",
      " 39  AGE_EMPLOYMENT_RATIO          307511 non-null  float64\n",
      " 40  DEBT_TO_INCOME_RATIO          307511 non-null  float32\n",
      " 41  LOAN_TO_INCOME_RATIO          307511 non-null  float32\n",
      "dtypes: float32(18), float64(13), int16(1), int32(1), object(7), uint32(1), uint8(1)\n",
      "memory usage: 73.6+ MB\n"
     ]
    }
   ],
   "source": [
    "# Handling nulls:\n",
    "from preprocessed_DataClass import handle_missing_values\n",
    "merged_df = handle_missing_values(merged_df)\n",
    "merged_df.info(verbose=True)"
   ]
  },
  {
   "cell_type": "code",
   "execution_count": 81,
   "metadata": {},
   "outputs": [
    {
     "data": {
      "text/plain": [
       "0"
      ]
     },
     "execution_count": 81,
     "metadata": {},
     "output_type": "execute_result"
    }
   ],
   "source": [
    "# Checking duplicates:\n",
    "merged_df.duplicated().sum()"
   ]
  },
  {
   "cell_type": "code",
   "execution_count": 82,
   "metadata": {},
   "outputs": [
    {
     "data": {
      "text/plain": [
       "['NAME_CONTRACT_TYPE',\n",
       " 'NAME_EDUCATION_TYPE',\n",
       " 'NAME_FAMILY_STATUS',\n",
       " 'OCCUPATION_TYPE',\n",
       " 'NAME_HOUSING_TYPE',\n",
       " 'NAME_INCOME_TYPE',\n",
       " 'ORGANIZATION_TYPE']"
      ]
     },
     "execution_count": 82,
     "metadata": {},
     "output_type": "execute_result"
    }
   ],
   "source": [
    "merged_df.select_dtypes(include=['object']).columns.tolist()"
   ]
  },
  {
   "cell_type": "code",
   "execution_count": null,
   "metadata": {},
   "outputs": [],
   "source": [
    "# Target encoding \n",
    "from preprocessed_DataClass import target_encode_train\n",
    "target_cols = ['NAME_FAMILY_STATUS', 'NAME_HOUSING_TYPE', 'OCCUPATION_TYPE',\n",
    "                                      'ORGANIZATION_TYPE',\n",
    "                                      ]\n",
    "\n",
    "merged_df, targ_encoders= target_encode_train(merged_df, target_cols, 'TARGET')"
   ]
  },
  {
   "cell_type": "code",
   "execution_count": null,
   "metadata": {},
   "outputs": [],
   "source": [
    "# Label encoding\n",
    "labelcols = ['NAME_CONTRACT_TYPE', 'NAME_INCOME_TYPE',\n",
    "            'NAME_EDUCATION_TYPE']\n",
    "\n",
    "from preprocessed_DataClass import label_encode_train\n",
    "merged_df, label_encoders = label_encode_train(merged_df, labelcols)"
   ]
  },
  {
   "cell_type": "code",
   "execution_count": 85,
   "metadata": {},
   "outputs": [
    {
     "data": {
      "text/plain": [
       "NAME_CONTRACT_TYPE                2.758277\n",
       "NAME_EDUCATION_TYPE              -1.024621\n",
       "NAME_FAMILY_STATUS                0.539838\n",
       "AMT_INCOME_TOTAL                391.559662\n",
       "EXT_SOURCE_2                     -0.794429\n",
       "OCCUPATION_TYPE                   1.234866\n",
       "SK_ID_CURR                       -0.001200\n",
       "DAYS_BIRTH                       -0.115673\n",
       "AMT_ANNUITY                       1.579824\n",
       "TARGET                            3.078159\n",
       "AMT_CREDIT                        1.234779\n",
       "DAYS_EMPLOYED                     1.664346\n",
       "NAME_HOUSING_TYPE                 3.389140\n",
       "NAME_INCOME_TYPE                 -0.355076\n",
       "ORGANIZATION_TYPE                 0.017654\n",
       "EXT_SOURCE_3                     -0.457213\n",
       "MONTHS_BALANCE_mean_x            -0.819176\n",
       "MONTHS_BALANCE_min               -0.043011\n",
       "MONTHS_BALANCE_max_x             -2.397382\n",
       "CNT_INSTALMENT_mean               1.594406\n",
       "CNT_INSTALMENT_min                2.828941\n",
       "CNT_INSTALMENT_max                1.405665\n",
       "CNT_INSTALMENT_FUTURE_min         8.899085\n",
       "SK_DPD_DEF_mean_x               105.339871\n",
       "NAME_CONTRACT_STATUS_count_x      1.919759\n",
       "INSTALMENT_RATIO_mean             5.901410\n",
       "INSTALMENT_RATIO_max              1.105542\n",
       "STATUS_count                      3.640004\n",
       "AMT_APPLICATION_mean              3.567933\n",
       "AMT_APPLICATION_max               2.203855\n",
       "AMT_ANNUITY_mean                  2.822038\n",
       "AMT_ANNUITY_max                   2.430617\n",
       "NAME_CONTRACT_STATUS_count_y      2.215451\n",
       "DAYS_DECISION_mean               -1.027044\n",
       "CREDIT_INCOME_RATIO               1.835956\n",
       "ANNUITY_CREDIT_RATIO              1.117013\n",
       "ANNUITY_INCOME_RATIO              1.512021\n",
       "EXT_SOURCE_COMBINATION            0.126113\n",
       "EXT_SOURCE_INTERACTION            0.126113\n",
       "AGE_EMPLOYMENT_RATIO             -1.759835\n",
       "DEBT_TO_INCOME_RATIO              1.835956\n",
       "LOAN_TO_INCOME_RATIO              1.214711\n",
       "dtype: float64"
      ]
     },
     "execution_count": 85,
     "metadata": {},
     "output_type": "execute_result"
    }
   ],
   "source": [
    "merged_df.skew()"
   ]
  },
  {
   "cell_type": "code",
   "execution_count": 86,
   "metadata": {},
   "outputs": [
    {
     "name": "stdout",
     "output_type": "stream",
     "text": [
      "<class 'pandas.core.frame.DataFrame'>\n",
      "Int64Index: 307511 entries, 0 to 307510\n",
      "Data columns (total 42 columns):\n",
      " #   Column                        Non-Null Count   Dtype  \n",
      "---  ------                        --------------   -----  \n",
      " 0   NAME_CONTRACT_TYPE            307511 non-null  int64  \n",
      " 1   NAME_EDUCATION_TYPE           307511 non-null  int64  \n",
      " 2   NAME_FAMILY_STATUS            307511 non-null  float64\n",
      " 3   AMT_INCOME_TOTAL              307511 non-null  float32\n",
      " 4   EXT_SOURCE_2                  307511 non-null  float32\n",
      " 5   OCCUPATION_TYPE               307511 non-null  float64\n",
      " 6   SK_ID_CURR                    307511 non-null  uint32 \n",
      " 7   DAYS_BIRTH                    307511 non-null  int16  \n",
      " 8   AMT_ANNUITY                   307511 non-null  float32\n",
      " 9   TARGET                        307511 non-null  uint8  \n",
      " 10  AMT_CREDIT                    307511 non-null  float32\n",
      " 11  DAYS_EMPLOYED                 307511 non-null  int32  \n",
      " 12  NAME_HOUSING_TYPE             307511 non-null  float64\n",
      " 13  NAME_INCOME_TYPE              307511 non-null  int64  \n",
      " 14  ORGANIZATION_TYPE             307511 non-null  float64\n",
      " 15  EXT_SOURCE_3                  307511 non-null  float32\n",
      " 16  MONTHS_BALANCE_mean_x         307511 non-null  float64\n",
      " 17  MONTHS_BALANCE_min            307511 non-null  float64\n",
      " 18  MONTHS_BALANCE_max_x          307511 non-null  float64\n",
      " 19  CNT_INSTALMENT_mean           307511 non-null  float64\n",
      " 20  CNT_INSTALMENT_min            307511 non-null  float64\n",
      " 21  CNT_INSTALMENT_max            307511 non-null  float64\n",
      " 22  CNT_INSTALMENT_FUTURE_min     307511 non-null  float64\n",
      " 23  SK_DPD_DEF_mean_x             307511 non-null  float64\n",
      " 24  NAME_CONTRACT_STATUS_count_x  307511 non-null  float64\n",
      " 25  INSTALMENT_RATIO_mean         307511 non-null  float32\n",
      " 26  INSTALMENT_RATIO_max          307511 non-null  float32\n",
      " 27  STATUS_count                  307511 non-null  float64\n",
      " 28  AMT_APPLICATION_mean          307511 non-null  float32\n",
      " 29  AMT_APPLICATION_max           307511 non-null  float32\n",
      " 30  AMT_ANNUITY_mean              307511 non-null  float32\n",
      " 31  AMT_ANNUITY_max               307511 non-null  float32\n",
      " 32  NAME_CONTRACT_STATUS_count_y  307511 non-null  float64\n",
      " 33  DAYS_DECISION_mean            307511 non-null  float64\n",
      " 34  CREDIT_INCOME_RATIO           307511 non-null  float32\n",
      " 35  ANNUITY_CREDIT_RATIO          307511 non-null  float32\n",
      " 36  ANNUITY_INCOME_RATIO          307511 non-null  float32\n",
      " 37  EXT_SOURCE_COMBINATION        307511 non-null  float32\n",
      " 38  EXT_SOURCE_INTERACTION        307511 non-null  float32\n",
      " 39  AGE_EMPLOYMENT_RATIO          307511 non-null  float64\n",
      " 40  DEBT_TO_INCOME_RATIO          307511 non-null  float32\n",
      " 41  LOAN_TO_INCOME_RATIO          307511 non-null  float32\n",
      "dtypes: float32(18), float64(17), int16(1), int32(1), int64(3), uint32(1), uint8(1)\n",
      "memory usage: 73.6 MB\n"
     ]
    }
   ],
   "source": [
    "merged_df.info()"
   ]
  },
  {
   "cell_type": "code",
   "execution_count": null,
   "metadata": {},
   "outputs": [
    {
     "name": "stdout",
     "output_type": "stream",
     "text": [
      "Memory usage of this df is:  73.60960102081299 MB\n",
      "--------------------------------\n",
      "column:  NAME_CONTRACT_TYPE\n",
      "data type before:  int64\n",
      "data type after:  uint8\n",
      "--------------------------------\n",
      "--------------------------------\n",
      "column:  NAME_EDUCATION_TYPE\n",
      "data type before:  int64\n",
      "data type after:  uint8\n",
      "--------------------------------\n",
      "--------------------------------\n",
      "column:  NAME_FAMILY_STATUS\n",
      "data type before:  float64\n",
      "data type after:  float32\n",
      "--------------------------------\n",
      "--------------------------------\n",
      "column:  AMT_INCOME_TOTAL\n",
      "data type before:  float32\n",
      "data type after:  float32\n",
      "--------------------------------\n",
      "--------------------------------\n",
      "column:  EXT_SOURCE_2\n",
      "data type before:  float32\n",
      "data type after:  float32\n",
      "--------------------------------\n",
      "--------------------------------\n",
      "column:  OCCUPATION_TYPE\n",
      "data type before:  float64\n",
      "data type after:  float32\n",
      "--------------------------------\n",
      "--------------------------------\n",
      "column:  SK_ID_CURR\n",
      "data type before:  uint32\n",
      "data type after:  uint32\n",
      "--------------------------------\n",
      "--------------------------------\n",
      "column:  DAYS_BIRTH\n",
      "data type before:  int16\n",
      "data type after:  int16\n",
      "--------------------------------\n",
      "--------------------------------\n",
      "column:  AMT_ANNUITY\n",
      "data type before:  float32\n",
      "data type after:  float32\n",
      "--------------------------------\n",
      "--------------------------------\n",
      "column:  TARGET\n",
      "data type before:  uint8\n",
      "data type after:  uint8\n",
      "--------------------------------\n",
      "--------------------------------\n",
      "column:  AMT_CREDIT\n",
      "data type before:  float32\n",
      "data type after:  float32\n",
      "--------------------------------\n",
      "--------------------------------\n",
      "column:  DAYS_EMPLOYED\n",
      "data type before:  int32\n",
      "data type after:  int32\n",
      "--------------------------------\n",
      "--------------------------------\n",
      "column:  NAME_HOUSING_TYPE\n",
      "data type before:  float64\n",
      "data type after:  float32\n",
      "--------------------------------\n",
      "--------------------------------\n",
      "column:  NAME_INCOME_TYPE\n",
      "data type before:  int64\n",
      "data type after:  uint8\n",
      "--------------------------------\n",
      "--------------------------------\n",
      "column:  ORGANIZATION_TYPE\n",
      "data type before:  float64\n",
      "data type after:  float32\n",
      "--------------------------------\n",
      "--------------------------------\n",
      "column:  EXT_SOURCE_3\n",
      "data type before:  float32\n",
      "data type after:  float32\n",
      "--------------------------------\n",
      "--------------------------------\n",
      "column:  MONTHS_BALANCE_mean_x\n",
      "data type before:  float64\n",
      "data type after:  float32\n",
      "--------------------------------\n",
      "--------------------------------\n",
      "column:  MONTHS_BALANCE_min\n",
      "data type before:  float64\n",
      "data type after:  float32\n",
      "--------------------------------\n",
      "--------------------------------\n",
      "column:  MONTHS_BALANCE_max_x\n",
      "data type before:  float64\n",
      "data type after:  int8\n",
      "--------------------------------\n",
      "--------------------------------\n",
      "column:  CNT_INSTALMENT_mean\n",
      "data type before:  float64\n",
      "data type after:  float32\n",
      "--------------------------------\n",
      "--------------------------------\n",
      "column:  CNT_INSTALMENT_min\n",
      "data type before:  float64\n",
      "data type after:  uint8\n",
      "--------------------------------\n",
      "--------------------------------\n",
      "column:  CNT_INSTALMENT_max\n",
      "data type before:  float64\n",
      "data type after:  uint8\n",
      "--------------------------------\n",
      "--------------------------------\n",
      "column:  CNT_INSTALMENT_FUTURE_min\n",
      "data type before:  float64\n",
      "data type after:  uint8\n",
      "--------------------------------\n",
      "--------------------------------\n",
      "column:  SK_DPD_DEF_mean_x\n",
      "data type before:  float64\n",
      "data type after:  float32\n",
      "--------------------------------\n",
      "--------------------------------\n",
      "column:  NAME_CONTRACT_STATUS_count_x\n",
      "data type before:  float64\n",
      "data type after:  uint16\n",
      "--------------------------------\n",
      "--------------------------------\n",
      "column:  INSTALMENT_RATIO_mean\n",
      "data type before:  float32\n",
      "data type after:  float32\n",
      "--------------------------------\n",
      "--------------------------------\n",
      "column:  INSTALMENT_RATIO_max\n",
      "data type before:  float32\n",
      "data type after:  float32\n",
      "--------------------------------\n",
      "--------------------------------\n",
      "column:  STATUS_count\n",
      "data type before:  float64\n",
      "data type after:  uint16\n",
      "--------------------------------\n",
      "--------------------------------\n",
      "column:  AMT_APPLICATION_mean\n",
      "data type before:  float32\n",
      "data type after:  float32\n",
      "--------------------------------\n",
      "--------------------------------\n",
      "column:  AMT_APPLICATION_max\n",
      "data type before:  float32\n",
      "data type after:  float32\n",
      "--------------------------------\n",
      "--------------------------------\n",
      "column:  AMT_ANNUITY_mean\n",
      "data type before:  float32\n",
      "data type after:  float32\n",
      "--------------------------------\n",
      "--------------------------------\n",
      "column:  AMT_ANNUITY_max\n",
      "data type before:  float32\n",
      "data type after:  float32\n",
      "--------------------------------\n",
      "--------------------------------\n",
      "column:  NAME_CONTRACT_STATUS_count_y\n",
      "data type before:  float64\n",
      "data type after:  uint8\n",
      "--------------------------------\n",
      "--------------------------------\n",
      "column:  DAYS_DECISION_mean\n",
      "data type before:  float64\n",
      "data type after:  float32\n",
      "--------------------------------\n",
      "--------------------------------\n",
      "column:  CREDIT_INCOME_RATIO\n",
      "data type before:  float32\n",
      "data type after:  float32\n",
      "--------------------------------\n",
      "--------------------------------\n",
      "column:  ANNUITY_CREDIT_RATIO\n",
      "data type before:  float32\n",
      "data type after:  float32\n",
      "--------------------------------\n",
      "--------------------------------\n",
      "column:  ANNUITY_INCOME_RATIO\n",
      "data type before:  float32\n",
      "data type after:  float32\n",
      "--------------------------------\n",
      "--------------------------------\n",
      "column:  EXT_SOURCE_COMBINATION\n",
      "data type before:  float32\n",
      "data type after:  float32\n",
      "--------------------------------\n",
      "--------------------------------\n",
      "column:  EXT_SOURCE_INTERACTION\n",
      "data type before:  float32\n",
      "data type after:  float32\n",
      "--------------------------------\n",
      "--------------------------------\n",
      "column:  AGE_EMPLOYMENT_RATIO\n",
      "data type before:  float64\n",
      "data type after:  float32\n",
      "--------------------------------\n",
      "--------------------------------\n",
      "column:  DEBT_TO_INCOME_RATIO\n",
      "data type before:  float32\n",
      "data type after:  float32\n",
      "--------------------------------\n",
      "--------------------------------\n",
      "column:  LOAN_TO_INCOME_RATIO\n",
      "data type before:  float32\n",
      "data type after:  float32\n",
      "--------------------------------\n",
      "___ memory usage after: __\n",
      "Memory usage is: 41.936944007873535 MB\n"
     ]
    }
   ],
   "source": [
    "# reducing the size of merged_df\n",
    "from preprocessed_DataClass import red_mem_usage\n",
    "merged_df, _ = red_mem_usage(merged_df)"
   ]
  },
  {
   "cell_type": "code",
   "execution_count": 88,
   "metadata": {},
   "outputs": [
    {
     "name": "stdout",
     "output_type": "stream",
     "text": [
      "<class 'pandas.core.frame.DataFrame'>\n",
      "Int64Index: 307511 entries, 0 to 307510\n",
      "Data columns (total 42 columns):\n",
      " #   Column                        Non-Null Count   Dtype  \n",
      "---  ------                        --------------   -----  \n",
      " 0   NAME_CONTRACT_TYPE            307511 non-null  uint8  \n",
      " 1   NAME_EDUCATION_TYPE           307511 non-null  uint8  \n",
      " 2   NAME_FAMILY_STATUS            307511 non-null  float32\n",
      " 3   AMT_INCOME_TOTAL              307511 non-null  float32\n",
      " 4   EXT_SOURCE_2                  307511 non-null  float32\n",
      " 5   OCCUPATION_TYPE               307511 non-null  float32\n",
      " 6   SK_ID_CURR                    307511 non-null  uint32 \n",
      " 7   DAYS_BIRTH                    307511 non-null  int16  \n",
      " 8   AMT_ANNUITY                   307511 non-null  float32\n",
      " 9   TARGET                        307511 non-null  uint8  \n",
      " 10  AMT_CREDIT                    307511 non-null  float32\n",
      " 11  DAYS_EMPLOYED                 307511 non-null  int32  \n",
      " 12  NAME_HOUSING_TYPE             307511 non-null  float32\n",
      " 13  NAME_INCOME_TYPE              307511 non-null  uint8  \n",
      " 14  ORGANIZATION_TYPE             307511 non-null  float32\n",
      " 15  EXT_SOURCE_3                  307511 non-null  float32\n",
      " 16  MONTHS_BALANCE_mean_x         307511 non-null  float32\n",
      " 17  MONTHS_BALANCE_min            307511 non-null  float32\n",
      " 18  MONTHS_BALANCE_max_x          307511 non-null  int8   \n",
      " 19  CNT_INSTALMENT_mean           307511 non-null  float32\n",
      " 20  CNT_INSTALMENT_min            307511 non-null  uint8  \n",
      " 21  CNT_INSTALMENT_max            307511 non-null  uint8  \n",
      " 22  CNT_INSTALMENT_FUTURE_min     307511 non-null  uint8  \n",
      " 23  SK_DPD_DEF_mean_x             307511 non-null  float32\n",
      " 24  NAME_CONTRACT_STATUS_count_x  307511 non-null  uint16 \n",
      " 25  INSTALMENT_RATIO_mean         307511 non-null  float32\n",
      " 26  INSTALMENT_RATIO_max          307511 non-null  float32\n",
      " 27  STATUS_count                  307511 non-null  uint16 \n",
      " 28  AMT_APPLICATION_mean          307511 non-null  float32\n",
      " 29  AMT_APPLICATION_max           307511 non-null  float32\n",
      " 30  AMT_ANNUITY_mean              307511 non-null  float32\n",
      " 31  AMT_ANNUITY_max               307511 non-null  float32\n",
      " 32  NAME_CONTRACT_STATUS_count_y  307511 non-null  uint8  \n",
      " 33  DAYS_DECISION_mean            307511 non-null  float32\n",
      " 34  CREDIT_INCOME_RATIO           307511 non-null  float32\n",
      " 35  ANNUITY_CREDIT_RATIO          307511 non-null  float32\n",
      " 36  ANNUITY_INCOME_RATIO          307511 non-null  float32\n",
      " 37  EXT_SOURCE_COMBINATION        307511 non-null  float32\n",
      " 38  EXT_SOURCE_INTERACTION        307511 non-null  float32\n",
      " 39  AGE_EMPLOYMENT_RATIO          307511 non-null  float32\n",
      " 40  DEBT_TO_INCOME_RATIO          307511 non-null  float32\n",
      " 41  LOAN_TO_INCOME_RATIO          307511 non-null  float32\n",
      "dtypes: float32(28), int16(1), int32(1), int8(1), uint16(2), uint32(1), uint8(8)\n",
      "memory usage: 41.9 MB\n"
     ]
    }
   ],
   "source": [
    "merged_df.info()"
   ]
  },
  {
   "cell_type": "code",
   "execution_count": 89,
   "metadata": {},
   "outputs": [
    {
     "data": {
      "text/plain": [
       "NAME_CONTRACT_TYPE                2.758277\n",
       "NAME_EDUCATION_TYPE              -1.024621\n",
       "NAME_FAMILY_STATUS                0.539839\n",
       "AMT_INCOME_TOTAL                391.559662\n",
       "EXT_SOURCE_2                     -0.794429\n",
       "OCCUPATION_TYPE                   1.234866\n",
       "SK_ID_CURR                       -0.001200\n",
       "DAYS_BIRTH                       -0.115673\n",
       "AMT_ANNUITY                       1.579824\n",
       "TARGET                            3.078159\n",
       "AMT_CREDIT                        1.234779\n",
       "DAYS_EMPLOYED                     1.664346\n",
       "NAME_HOUSING_TYPE                 3.389140\n",
       "NAME_INCOME_TYPE                 -0.355076\n",
       "ORGANIZATION_TYPE                 0.017654\n",
       "EXT_SOURCE_3                     -0.457213\n",
       "MONTHS_BALANCE_mean_x            -0.819176\n",
       "MONTHS_BALANCE_min               -0.043010\n",
       "MONTHS_BALANCE_max_x             -2.397382\n",
       "CNT_INSTALMENT_mean               1.594406\n",
       "CNT_INSTALMENT_min                2.828941\n",
       "CNT_INSTALMENT_max                1.405665\n",
       "CNT_INSTALMENT_FUTURE_min         8.899085\n",
       "SK_DPD_DEF_mean_x               105.339874\n",
       "NAME_CONTRACT_STATUS_count_x      1.919759\n",
       "INSTALMENT_RATIO_mean             5.901410\n",
       "INSTALMENT_RATIO_max              1.105542\n",
       "STATUS_count                      3.640004\n",
       "AMT_APPLICATION_mean              3.567933\n",
       "AMT_APPLICATION_max               2.203855\n",
       "AMT_ANNUITY_mean                  2.822038\n",
       "AMT_ANNUITY_max                   2.430617\n",
       "NAME_CONTRACT_STATUS_count_y      2.215451\n",
       "DAYS_DECISION_mean               -1.027044\n",
       "CREDIT_INCOME_RATIO               1.835956\n",
       "ANNUITY_CREDIT_RATIO              1.117013\n",
       "ANNUITY_INCOME_RATIO              1.512021\n",
       "EXT_SOURCE_COMBINATION            0.126113\n",
       "EXT_SOURCE_INTERACTION            0.126113\n",
       "AGE_EMPLOYMENT_RATIO             -1.759835\n",
       "DEBT_TO_INCOME_RATIO              1.835956\n",
       "LOAN_TO_INCOME_RATIO              1.214711\n",
       "dtype: float64"
      ]
     },
     "execution_count": 89,
     "metadata": {},
     "output_type": "execute_result"
    }
   ],
   "source": [
    "merged_df.skew()"
   ]
  },
  {
   "cell_type": "markdown",
   "metadata": {},
   "source": [
    "# Key observations of merged_df"
   ]
  },
  {
   "cell_type": "code",
   "execution_count": 90,
   "metadata": {},
   "outputs": [
    {
     "data": {
      "image/png": "[encoded data removed]",
      "text/plain": [
       "<Figure size 640x480 with 1 Axes>"
      ]
     },
     "metadata": {},
     "output_type": "display_data"
    }
   ],
   "source": [
    "# Box plot for LOAN_TO_INCOME_RATIO\n",
    "sns.boxplot(data=merged_df, x='TARGET', y='LOAN_TO_INCOME_RATIO', palette='coolwarm')\n",
    "plt.title('Box Plot of LOAN_TO_INCOME_RATIO by Target')\n",
    "plt.xlabel('Target')\n",
    "plt.ylabel('LOAN_TO_INCOME_RATIO')\n",
    "plt.show()"
   ]
  },
  {
   "cell_type": "code",
   "execution_count": 91,
   "metadata": {},
   "outputs": [
    {
     "name": "stdout",
     "output_type": "stream",
     "text": [
      "LOAN_TO_INCOME_RATIO for TARGET = 0\n",
      "count    282686.000000\n",
      "mean          3.244574\n",
      "std           1.936310\n",
      "min           0.037356\n",
      "25%           1.818182\n",
      "50%           2.771363\n",
      "75%           4.292086\n",
      "max          21.389181\n",
      "Name: LOAN_TO_INCOME_RATIO, dtype: float64\n",
      "\n",
      "LOAN_TO_INCOME_RATIO for TARGET = 1\n",
      "count    24825.000000\n",
      "mean         3.171377\n",
      "std          1.828125\n",
      "min          0.004807\n",
      "25%          1.866362\n",
      "50%          2.745744\n",
      "75%          4.054821\n",
      "max         29.463795\n",
      "Name: LOAN_TO_INCOME_RATIO, dtype: float64\n"
     ]
    }
   ],
   "source": [
    "# Filter data by target classes\n",
    "class_0 = merged_df[merged_df['TARGET'] == 0]\n",
    "class_1 = merged_df[merged_df['TARGET'] == 1]\n",
    "\n",
    "# Get descriptive statistics for LOAN_TO_INCOME_RATIO\n",
    "class_0_loan_to_income = class_0['LOAN_TO_INCOME_RATIO'].describe()\n",
    "class_1_loan_to_income = class_1['LOAN_TO_INCOME_RATIO'].describe()\n",
    "# Display results\n",
    "print(\"LOAN_TO_INCOME_RATIO for TARGET = 0\")\n",
    "print(class_0_loan_to_income)\n",
    "print(\"\\nLOAN_TO_INCOME_RATIO for TARGET = 1\")\n",
    "print(class_1_loan_to_income)\n"
   ]
  },
  {
   "cell_type": "code",
   "execution_count": 92,
   "metadata": {},
   "outputs": [
    {
     "data": {
      "image/png": "[encoded data removed]",
      "text/plain": [
       "<Figure size 640x480 with 1 Axes>"
      ]
     },
     "metadata": {},
     "output_type": "display_data"
    }
   ],
   "source": [
    "# Box plot for DEBT_TO_INCOME_RATIO\n",
    "sns.boxplot(data=merged_df, x='TARGET', y='DEBT_TO_INCOME_RATIO', palette='coolwarm')\n",
    "plt.title('Box Plot of DEBT_TO_INCOME_RATIO by Target')\n",
    "plt.xlabel('Target')\n",
    "plt.ylabel('DEBT_TO_INCOME_RATIO')\n",
    "plt.show()"
   ]
  },
  {
   "cell_type": "code",
   "execution_count": 93,
   "metadata": {},
   "outputs": [
    {
     "name": "stdout",
     "output_type": "stream",
     "text": [
      "\n",
      "DEBT_TO_INCOME_RATIO for TARGET = 0\n",
      "count    282686.000000\n",
      "mean          3.963729\n",
      "std           2.694905\n",
      "min           0.037500\n",
      "25%           2.000333\n",
      "50%           3.266653\n",
      "75%           5.191333\n",
      "max          49.227200\n",
      "Name: DEBT_TO_INCOME_RATIO, dtype: float64\n",
      "\n",
      "DEBT_TO_INCOME_RATIO for TARGET = 1\n",
      "count    24825.000000\n",
      "mean         3.887438\n",
      "std          2.627339\n",
      "min          0.004808\n",
      "25%          2.130435\n",
      "50%          3.253143\n",
      "75%          4.991667\n",
      "max         84.736839\n",
      "Name: DEBT_TO_INCOME_RATIO, dtype: float64\n"
     ]
    }
   ],
   "source": [
    "# Filter data by target classes\n",
    "class_0 = merged_df[merged_df['TARGET'] == 0]\n",
    "class_1 = merged_df[merged_df['TARGET'] == 1]\n",
    "\n",
    "# Get descriptive statistics for DEBT_TO_INCOME_RATIO\n",
    "class_0_debt_to_income = class_0['DEBT_TO_INCOME_RATIO'].describe()\n",
    "class_1_debt_to_income = class_1['DEBT_TO_INCOME_RATIO'].describe()\n",
    "\n",
    "# Display results\n",
    "print(\"\\nDEBT_TO_INCOME_RATIO for TARGET = 0\")\n",
    "print(class_0_debt_to_income)\n",
    "print(\"\\nDEBT_TO_INCOME_RATIO for TARGET = 1\")\n",
    "print(class_1_debt_to_income)"
   ]
  },
  {
   "cell_type": "markdown",
   "metadata": {},
   "source": [
    "# XGBOOST"
   ]
  },
  {
   "cell_type": "code",
   "execution_count": 94,
   "metadata": {},
   "outputs": [],
   "source": [
    "# Separate features and target\n",
    "X = merged_df.drop('TARGET', axis=1)\n",
    "y = merged_df['TARGET']\n",
    "\n",
    "# Split dataset into training and testing sets\n",
    "xtrain, xtest, ytrain, ytest = train_test_split(X, y, test_size=0.25, random_state=0, stratify=y)\n"
   ]
  },
  {
   "cell_type": "code",
   "execution_count": 95,
   "metadata": {},
   "outputs": [],
   "source": [
    "# Scale the features\n",
    "scaler = RobustScaler()\n",
    "xtrain = scaler.fit_transform(xtrain)\n",
    "xtest = scaler.transform(xtest)"
   ]
  },
  {
   "cell_type": "code",
   "execution_count": null,
   "metadata": {},
   "outputs": [
    {
     "name": "stdout",
     "output_type": "stream",
     "text": [
      "Fitting 5 folds for each of 10 candidates, totalling 50 fits\n"
     ]
    },
    {
     "name": "stderr",
     "output_type": "stream",
     "text": [
      "/Users/yanellyhernandez/anaconda3/lib/python3.11/site-packages/xgboost/core.py:158: UserWarning: [09:57:34] WARNING: /Users/runner/work/xgboost/xgboost/src/learner.cc:740: \n",
      "Parameters: { \"use_label_encoder\" } are not used.\n",
      "\n",
      "  warnings.warn(smsg, UserWarning)\n",
      "/Users/yanellyhernandez/anaconda3/lib/python3.11/site-packages/xgboost/core.py:158: UserWarning: [09:57:34] WARNING: /Users/runner/work/xgboost/xgboost/src/learner.cc:740: \n",
      "Parameters: { \"use_label_encoder\" } are not used.\n",
      "\n",
      "  warnings.warn(smsg, UserWarning)\n",
      "/Users/yanellyhernandez/anaconda3/lib/python3.11/site-packages/xgboost/core.py:158: UserWarning: [09:57:34] WARNING: /Users/runner/work/xgboost/xgboost/src/learner.cc:740: \n",
      "Parameters: { \"use_label_encoder\" } are not used.\n",
      "\n",
      "  warnings.warn(smsg, UserWarning)\n",
      "/Users/yanellyhernandez/anaconda3/lib/python3.11/site-packages/xgboost/core.py:158: UserWarning: [09:57:34] WARNING: /Users/runner/work/xgboost/xgboost/src/learner.cc:740: \n",
      "Parameters: { \"use_label_encoder\" } are not used.\n",
      "\n",
      "  warnings.warn(smsg, UserWarning)\n",
      "/Users/yanellyhernandez/anaconda3/lib/python3.11/site-packages/xgboost/core.py:158: UserWarning: [09:57:34] WARNING: /Users/runner/work/xgboost/xgboost/src/learner.cc:740: \n",
      "Parameters: { \"use_label_encoder\" } are not used.\n",
      "\n",
      "  warnings.warn(smsg, UserWarning)\n",
      "/Users/yanellyhernandez/anaconda3/lib/python3.11/site-packages/xgboost/core.py:158: UserWarning: [09:57:34] WARNING: /Users/runner/work/xgboost/xgboost/src/learner.cc:740: \n",
      "Parameters: { \"use_label_encoder\" } are not used.\n",
      "\n",
      "  warnings.warn(smsg, UserWarning)\n",
      "/Users/yanellyhernandez/anaconda3/lib/python3.11/site-packages/xgboost/core.py:158: UserWarning: [09:57:34] WARNING: /Users/runner/work/xgboost/xgboost/src/learner.cc:740: \n",
      "Parameters: { \"use_label_encoder\" } are not used.\n",
      "\n",
      "  warnings.warn(smsg, UserWarning)\n",
      "/Users/yanellyhernandez/anaconda3/lib/python3.11/site-packages/xgboost/core.py:158: UserWarning: [09:57:34] WARNING: /Users/runner/work/xgboost/xgboost/src/learner.cc:740: \n",
      "Parameters: { \"use_label_encoder\" } are not used.\n",
      "\n",
      "  warnings.warn(smsg, UserWarning)\n"
     ]
    },
    {
     "name": "stdout",
     "output_type": "stream",
     "text": [
      "[CV] END alpha=1, colsample_bytree=0.6, gamma=0.1, lambda=0, learning_rate=0.01, max_depth=3, min_child_weight=5, n_estimators=100, scale_pos_weight=10, subsample=1.0; total time=   2.9s\n",
      "[CV] END alpha=1, colsample_bytree=0.6, gamma=0.1, lambda=0, learning_rate=0.01, max_depth=3, min_child_weight=5, n_estimators=100, scale_pos_weight=10, subsample=1.0; total time=   3.0s\n",
      "[CV] END alpha=1, colsample_bytree=0.6, gamma=0.1, lambda=0, learning_rate=0.01, max_depth=3, min_child_weight=5, n_estimators=100, scale_pos_weight=10, subsample=1.0; total time=   3.0s\n",
      "[CV] END alpha=1, colsample_bytree=0.6, gamma=0.1, lambda=0, learning_rate=0.01, max_depth=3, min_child_weight=5, n_estimators=100, scale_pos_weight=10, subsample=1.0; total time=   3.1s\n",
      "[CV] END alpha=1, colsample_bytree=0.6, gamma=0.1, lambda=0, learning_rate=0.01, max_depth=3, min_child_weight=5, n_estimators=100, scale_pos_weight=10, subsample=1.0; total time=   3.1s\n"
     ]
    },
    {
     "name": "stderr",
     "output_type": "stream",
     "text": [
      "/Users/yanellyhernandez/anaconda3/lib/python3.11/site-packages/xgboost/core.py:158: UserWarning: [09:57:36] WARNING: /Users/runner/work/xgboost/xgboost/src/learner.cc:740: \n",
      "Parameters: { \"use_label_encoder\" } are not used.\n",
      "\n",
      "  warnings.warn(smsg, UserWarning)\n",
      "/Users/yanellyhernandez/anaconda3/lib/python3.11/site-packages/xgboost/core.py:158: UserWarning: [09:57:36] WARNING: /Users/runner/work/xgboost/xgboost/src/learner.cc:740: \n",
      "Parameters: { \"use_label_encoder\" } are not used.\n",
      "\n",
      "  warnings.warn(smsg, UserWarning)\n",
      "/Users/yanellyhernandez/anaconda3/lib/python3.11/site-packages/xgboost/core.py:158: UserWarning: [09:57:37] WARNING: /Users/runner/work/xgboost/xgboost/src/learner.cc:740: \n",
      "Parameters: { \"use_label_encoder\" } are not used.\n",
      "\n",
      "  warnings.warn(smsg, UserWarning)\n",
      "/Users/yanellyhernandez/anaconda3/lib/python3.11/site-packages/xgboost/core.py:158: UserWarning: [09:57:37] WARNING: /Users/runner/work/xgboost/xgboost/src/learner.cc:740: \n",
      "Parameters: { \"use_label_encoder\" } are not used.\n",
      "\n",
      "  warnings.warn(smsg, UserWarning)\n",
      "/Users/yanellyhernandez/anaconda3/lib/python3.11/site-packages/xgboost/core.py:158: UserWarning: [09:57:37] WARNING: /Users/runner/work/xgboost/xgboost/src/learner.cc:740: \n",
      "Parameters: { \"use_label_encoder\" } are not used.\n",
      "\n",
      "  warnings.warn(smsg, UserWarning)\n"
     ]
    },
    {
     "name": "stdout",
     "output_type": "stream",
     "text": [
      "[CV] END alpha=1, colsample_bytree=0.8, gamma=1, lambda=0, learning_rate=0.1, max_depth=5, min_child_weight=10, n_estimators=300, scale_pos_weight=1, subsample=1.0; total time=   7.1s\n",
      "[CV] END alpha=1, colsample_bytree=0.8, gamma=1, lambda=0, learning_rate=0.1, max_depth=5, min_child_weight=10, n_estimators=300, scale_pos_weight=1, subsample=1.0; total time=   7.2s\n",
      "[CV] END alpha=1, colsample_bytree=0.8, gamma=1, lambda=0, learning_rate=0.1, max_depth=5, min_child_weight=10, n_estimators=300, scale_pos_weight=1, subsample=1.0; total time=   7.3s\n"
     ]
    },
    {
     "name": "stderr",
     "output_type": "stream",
     "text": [
      "/Users/yanellyhernandez/anaconda3/lib/python3.11/site-packages/xgboost/core.py:158: UserWarning: [09:57:41] WARNING: /Users/runner/work/xgboost/xgboost/src/learner.cc:740: \n",
      "Parameters: { \"use_label_encoder\" } are not used.\n",
      "\n",
      "  warnings.warn(smsg, UserWarning)\n",
      "/Users/yanellyhernandez/anaconda3/lib/python3.11/site-packages/xgboost/core.py:158: UserWarning: [09:57:41] WARNING: /Users/runner/work/xgboost/xgboost/src/learner.cc:740: \n",
      "Parameters: { \"use_label_encoder\" } are not used.\n",
      "\n",
      "  warnings.warn(smsg, UserWarning)\n",
      "/Users/yanellyhernandez/anaconda3/lib/python3.11/site-packages/xgboost/core.py:158: UserWarning: [09:57:41] WARNING: /Users/runner/work/xgboost/xgboost/src/learner.cc:740: \n",
      "Parameters: { \"use_label_encoder\" } are not used.\n",
      "\n",
      "  warnings.warn(smsg, UserWarning)\n"
     ]
    },
    {
     "name": "stdout",
     "output_type": "stream",
     "text": [
      "[CV] END alpha=1, colsample_bytree=0.8, gamma=1, lambda=0, learning_rate=0.1, max_depth=5, min_child_weight=10, n_estimators=300, scale_pos_weight=1, subsample=1.0; total time=   7.3s\n",
      "[CV] END alpha=0.1, colsample_bytree=1.0, gamma=0.1, lambda=1, learning_rate=0.01, max_depth=3, min_child_weight=1, n_estimators=100, scale_pos_weight=50, subsample=1.0; total time=   3.3s\n",
      "[CV] END alpha=1, colsample_bytree=0.8, gamma=1, lambda=0, learning_rate=0.1, max_depth=5, min_child_weight=10, n_estimators=300, scale_pos_weight=1, subsample=1.0; total time=   7.7s\n"
     ]
    },
    {
     "name": "stderr",
     "output_type": "stream",
     "text": [
      "/Users/yanellyhernandez/anaconda3/lib/python3.11/site-packages/xgboost/core.py:158: UserWarning: [09:57:44] WARNING: /Users/runner/work/xgboost/xgboost/src/learner.cc:740: \n",
      "Parameters: { \"use_label_encoder\" } are not used.\n",
      "\n",
      "  warnings.warn(smsg, UserWarning)\n",
      "/Users/yanellyhernandez/anaconda3/lib/python3.11/site-packages/xgboost/core.py:158: UserWarning: [09:57:44] WARNING: /Users/runner/work/xgboost/xgboost/src/learner.cc:740: \n",
      "Parameters: { \"use_label_encoder\" } are not used.\n",
      "\n",
      "  warnings.warn(smsg, UserWarning)\n",
      "/Users/yanellyhernandez/anaconda3/lib/python3.11/site-packages/xgboost/core.py:158: UserWarning: [09:57:44] WARNING: /Users/runner/work/xgboost/xgboost/src/learner.cc:740: \n",
      "Parameters: { \"use_label_encoder\" } are not used.\n",
      "\n",
      "  warnings.warn(smsg, UserWarning)\n"
     ]
    },
    {
     "name": "stdout",
     "output_type": "stream",
     "text": [
      "[CV] END alpha=0.1, colsample_bytree=1.0, gamma=0.1, lambda=1, learning_rate=0.01, max_depth=3, min_child_weight=1, n_estimators=100, scale_pos_weight=50, subsample=1.0; total time=   2.9s\n",
      "[CV] END alpha=0.1, colsample_bytree=1.0, gamma=0.1, lambda=1, learning_rate=0.01, max_depth=3, min_child_weight=1, n_estimators=100, scale_pos_weight=50, subsample=1.0; total time=   3.3s\n",
      "[CV] END alpha=0.1, colsample_bytree=1.0, gamma=0.1, lambda=1, learning_rate=0.01, max_depth=3, min_child_weight=1, n_estimators=100, scale_pos_weight=50, subsample=1.0; total time=   2.9s\n"
     ]
    },
    {
     "name": "stderr",
     "output_type": "stream",
     "text": [
      "/Users/yanellyhernandez/anaconda3/lib/python3.11/site-packages/xgboost/core.py:158: UserWarning: [09:57:47] WARNING: /Users/runner/work/xgboost/xgboost/src/learner.cc:740: \n",
      "Parameters: { \"use_label_encoder\" } are not used.\n",
      "\n",
      "  warnings.warn(smsg, UserWarning)\n",
      "/Users/yanellyhernandez/anaconda3/lib/python3.11/site-packages/xgboost/core.py:158: UserWarning: [09:57:47] WARNING: /Users/runner/work/xgboost/xgboost/src/learner.cc:740: \n",
      "Parameters: { \"use_label_encoder\" } are not used.\n",
      "\n",
      "  warnings.warn(smsg, UserWarning)\n",
      "/Users/yanellyhernandez/anaconda3/lib/python3.11/site-packages/xgboost/core.py:158: UserWarning: [09:57:47] WARNING: /Users/runner/work/xgboost/xgboost/src/learner.cc:740: \n",
      "Parameters: { \"use_label_encoder\" } are not used.\n",
      "\n",
      "  warnings.warn(smsg, UserWarning)\n"
     ]
    },
    {
     "name": "stdout",
     "output_type": "stream",
     "text": [
      "[CV] END alpha=0.1, colsample_bytree=1.0, gamma=0.1, lambda=1, learning_rate=0.01, max_depth=3, min_child_weight=1, n_estimators=100, scale_pos_weight=50, subsample=1.0; total time=   2.7s\n"
     ]
    },
    {
     "name": "stderr",
     "output_type": "stream",
     "text": [
      "/Users/yanellyhernandez/anaconda3/lib/python3.11/site-packages/xgboost/core.py:158: UserWarning: [09:57:50] WARNING: /Users/runner/work/xgboost/xgboost/src/learner.cc:740: \n",
      "Parameters: { \"use_label_encoder\" } are not used.\n",
      "\n",
      "  warnings.warn(smsg, UserWarning)\n"
     ]
    },
    {
     "name": "stdout",
     "output_type": "stream",
     "text": [
      "[CV] END alpha=1, colsample_bytree=0.6, gamma=10, lambda=0, learning_rate=0.01, max_depth=7, min_child_weight=1, n_estimators=300, scale_pos_weight=10, subsample=0.8; total time=  14.0s\n",
      "[CV] END alpha=1, colsample_bytree=0.6, gamma=10, lambda=0, learning_rate=0.01, max_depth=7, min_child_weight=1, n_estimators=300, scale_pos_weight=10, subsample=0.8; total time=  14.3s\n",
      "[CV] END alpha=1, colsample_bytree=0.6, gamma=10, lambda=0, learning_rate=0.01, max_depth=7, min_child_weight=1, n_estimators=300, scale_pos_weight=10, subsample=0.8; total time=  14.2s\n"
     ]
    },
    {
     "name": "stderr",
     "output_type": "stream",
     "text": [
      "/Users/yanellyhernandez/anaconda3/lib/python3.11/site-packages/xgboost/core.py:158: UserWarning: [09:57:51] WARNING: /Users/runner/work/xgboost/xgboost/src/learner.cc:740: \n",
      "Parameters: { \"use_label_encoder\" } are not used.\n",
      "\n",
      "  warnings.warn(smsg, UserWarning)\n",
      "/Users/yanellyhernandez/anaconda3/lib/python3.11/site-packages/xgboost/core.py:158: UserWarning: [09:57:51] WARNING: /Users/runner/work/xgboost/xgboost/src/learner.cc:740: \n",
      "Parameters: { \"use_label_encoder\" } are not used.\n",
      "\n",
      "  warnings.warn(smsg, UserWarning)\n",
      "/Users/yanellyhernandez/anaconda3/lib/python3.11/site-packages/xgboost/core.py:158: UserWarning: [09:57:51] WARNING: /Users/runner/work/xgboost/xgboost/src/learner.cc:740: \n",
      "Parameters: { \"use_label_encoder\" } are not used.\n",
      "\n",
      "  warnings.warn(smsg, UserWarning)\n"
     ]
    },
    {
     "name": "stdout",
     "output_type": "stream",
     "text": [
      "[CV] END alpha=1, colsample_bytree=0.6, gamma=10, lambda=0, learning_rate=0.01, max_depth=7, min_child_weight=1, n_estimators=300, scale_pos_weight=10, subsample=0.8; total time=  13.1s\n",
      "[CV] END alpha=1, colsample_bytree=0.6, gamma=10, lambda=0, learning_rate=0.01, max_depth=7, min_child_weight=1, n_estimators=300, scale_pos_weight=10, subsample=0.8; total time=  13.3s\n"
     ]
    },
    {
     "name": "stderr",
     "output_type": "stream",
     "text": [
      "/Users/yanellyhernandez/anaconda3/lib/python3.11/site-packages/xgboost/core.py:158: UserWarning: [09:57:54] WARNING: /Users/runner/work/xgboost/xgboost/src/learner.cc:740: \n",
      "Parameters: { \"use_label_encoder\" } are not used.\n",
      "\n",
      "  warnings.warn(smsg, UserWarning)\n",
      "/Users/yanellyhernandez/anaconda3/lib/python3.11/site-packages/xgboost/core.py:158: UserWarning: [09:57:54] WARNING: /Users/runner/work/xgboost/xgboost/src/learner.cc:740: \n",
      "Parameters: { \"use_label_encoder\" } are not used.\n",
      "\n",
      "  warnings.warn(smsg, UserWarning)\n"
     ]
    },
    {
     "name": "stdout",
     "output_type": "stream",
     "text": [
      "[CV] END alpha=0.1, colsample_bytree=1.0, gamma=1, lambda=10, learning_rate=0.1, max_depth=3, min_child_weight=10, n_estimators=200, scale_pos_weight=11.386970299156776, subsample=0.6; total time=   3.9s\n"
     ]
    },
    {
     "name": "stderr",
     "output_type": "stream",
     "text": [
      "/Users/yanellyhernandez/anaconda3/lib/python3.11/site-packages/xgboost/core.py:158: UserWarning: [09:57:55] WARNING: /Users/runner/work/xgboost/xgboost/src/learner.cc:740: \n",
      "Parameters: { \"use_label_encoder\" } are not used.\n",
      "\n",
      "  warnings.warn(smsg, UserWarning)\n"
     ]
    },
    {
     "name": "stdout",
     "output_type": "stream",
     "text": [
      "[CV] END alpha=0.1, colsample_bytree=1.0, gamma=1, lambda=10, learning_rate=0.1, max_depth=3, min_child_weight=10, n_estimators=200, scale_pos_weight=11.386970299156776, subsample=0.6; total time=   4.0s\n",
      "[CV] END alpha=0.1, colsample_bytree=1.0, gamma=1, lambda=10, learning_rate=0.1, max_depth=3, min_child_weight=10, n_estimators=200, scale_pos_weight=11.386970299156776, subsample=0.6; total time=   3.9s\n",
      "[CV] END alpha=1, colsample_bytree=0.6, gamma=0, lambda=10, learning_rate=0.01, max_depth=7, min_child_weight=10, n_estimators=300, scale_pos_weight=50, subsample=1.0; total time=  11.3s\n",
      "[CV] END alpha=0.1, colsample_bytree=1.0, gamma=1, lambda=10, learning_rate=0.1, max_depth=3, min_child_weight=10, n_estimators=200, scale_pos_weight=11.386970299156776, subsample=0.6; total time=   3.8s\n"
     ]
    },
    {
     "name": "stderr",
     "output_type": "stream",
     "text": [
      "/Users/yanellyhernandez/anaconda3/lib/python3.11/site-packages/xgboost/core.py:158: UserWarning: [09:57:58] WARNING: /Users/runner/work/xgboost/xgboost/src/learner.cc:740: \n",
      "Parameters: { \"use_label_encoder\" } are not used.\n",
      "\n",
      "  warnings.warn(smsg, UserWarning)\n",
      "/Users/yanellyhernandez/anaconda3/lib/python3.11/site-packages/xgboost/core.py:158: UserWarning: [09:57:58] WARNING: /Users/runner/work/xgboost/xgboost/src/learner.cc:740: \n",
      "Parameters: { \"use_label_encoder\" } are not used.\n",
      "\n",
      "  warnings.warn(smsg, UserWarning)\n"
     ]
    },
    {
     "name": "stdout",
     "output_type": "stream",
     "text": [
      "[CV] END alpha=1, colsample_bytree=0.6, gamma=0, lambda=10, learning_rate=0.01, max_depth=7, min_child_weight=10, n_estimators=300, scale_pos_weight=50, subsample=1.0; total time=  11.7s\n"
     ]
    },
    {
     "name": "stderr",
     "output_type": "stream",
     "text": [
      "/Users/yanellyhernandez/anaconda3/lib/python3.11/site-packages/xgboost/core.py:158: UserWarning: [09:57:58] WARNING: /Users/runner/work/xgboost/xgboost/src/learner.cc:740: \n",
      "Parameters: { \"use_label_encoder\" } are not used.\n",
      "\n",
      "  warnings.warn(smsg, UserWarning)\n",
      "/Users/yanellyhernandez/anaconda3/lib/python3.11/site-packages/xgboost/core.py:158: UserWarning: [09:57:59] WARNING: /Users/runner/work/xgboost/xgboost/src/learner.cc:740: \n",
      "Parameters: { \"use_label_encoder\" } are not used.\n",
      "\n",
      "  warnings.warn(smsg, UserWarning)\n",
      "/Users/yanellyhernandez/anaconda3/lib/python3.11/site-packages/xgboost/core.py:158: UserWarning: [09:57:59] WARNING: /Users/runner/work/xgboost/xgboost/src/learner.cc:740: \n",
      "Parameters: { \"use_label_encoder\" } are not used.\n",
      "\n",
      "  warnings.warn(smsg, UserWarning)\n"
     ]
    },
    {
     "name": "stdout",
     "output_type": "stream",
     "text": [
      "[CV] END alpha=1, colsample_bytree=0.6, gamma=0, lambda=10, learning_rate=0.01, max_depth=7, min_child_weight=10, n_estimators=300, scale_pos_weight=50, subsample=1.0; total time=  11.3s\n"
     ]
    },
    {
     "name": "stderr",
     "output_type": "stream",
     "text": [
      "/Users/yanellyhernandez/anaconda3/lib/python3.11/site-packages/xgboost/core.py:158: UserWarning: [09:58:01] WARNING: /Users/runner/work/xgboost/xgboost/src/learner.cc:740: \n",
      "Parameters: { \"use_label_encoder\" } are not used.\n",
      "\n",
      "  warnings.warn(smsg, UserWarning)\n"
     ]
    },
    {
     "name": "stdout",
     "output_type": "stream",
     "text": [
      "[CV] END alpha=1, colsample_bytree=0.6, gamma=0, lambda=10, learning_rate=0.01, max_depth=7, min_child_weight=10, n_estimators=300, scale_pos_weight=50, subsample=1.0; total time=  11.4s\n",
      "[CV] END alpha=0.1, colsample_bytree=1.0, gamma=1, lambda=10, learning_rate=0.1, max_depth=3, min_child_weight=10, n_estimators=200, scale_pos_weight=11.386970299156776, subsample=0.6; total time=   4.2s\n",
      "[CV] END alpha=1, colsample_bytree=0.6, gamma=0, lambda=10, learning_rate=0.01, max_depth=7, min_child_weight=10, n_estimators=300, scale_pos_weight=50, subsample=1.0; total time=  11.4s\n"
     ]
    },
    {
     "name": "stderr",
     "output_type": "stream",
     "text": [
      "/Users/yanellyhernandez/anaconda3/lib/python3.11/site-packages/xgboost/core.py:158: UserWarning: [09:58:02] WARNING: /Users/runner/work/xgboost/xgboost/src/learner.cc:740: \n",
      "Parameters: { \"use_label_encoder\" } are not used.\n",
      "\n",
      "  warnings.warn(smsg, UserWarning)\n",
      "/Users/yanellyhernandez/anaconda3/lib/python3.11/site-packages/xgboost/core.py:158: UserWarning: [09:58:02] WARNING: /Users/runner/work/xgboost/xgboost/src/learner.cc:740: \n",
      "Parameters: { \"use_label_encoder\" } are not used.\n",
      "\n",
      "  warnings.warn(smsg, UserWarning)\n",
      "/Users/yanellyhernandez/anaconda3/lib/python3.11/site-packages/xgboost/core.py:158: UserWarning: [09:58:02] WARNING: /Users/runner/work/xgboost/xgboost/src/learner.cc:740: \n",
      "Parameters: { \"use_label_encoder\" } are not used.\n",
      "\n",
      "  warnings.warn(smsg, UserWarning)\n"
     ]
    },
    {
     "name": "stdout",
     "output_type": "stream",
     "text": [
      "[CV] END alpha=10, colsample_bytree=0.8, gamma=1, lambda=100, learning_rate=0.001, max_depth=3, min_child_weight=10, n_estimators=300, scale_pos_weight=10, subsample=0.8; total time=   6.1s\n"
     ]
    },
    {
     "name": "stderr",
     "output_type": "stream",
     "text": [
      "/Users/yanellyhernandez/anaconda3/lib/python3.11/site-packages/xgboost/core.py:158: UserWarning: [09:58:04] WARNING: /Users/runner/work/xgboost/xgboost/src/learner.cc:740: \n",
      "Parameters: { \"use_label_encoder\" } are not used.\n",
      "\n",
      "  warnings.warn(smsg, UserWarning)\n"
     ]
    },
    {
     "name": "stdout",
     "output_type": "stream",
     "text": [
      "[CV] END alpha=10, colsample_bytree=0.8, gamma=1, lambda=100, learning_rate=0.001, max_depth=3, min_child_weight=10, n_estimators=300, scale_pos_weight=10, subsample=0.8; total time=   6.4s\n",
      "[CV] END alpha=10, colsample_bytree=0.8, gamma=1, lambda=100, learning_rate=0.001, max_depth=3, min_child_weight=10, n_estimators=300, scale_pos_weight=10, subsample=0.8; total time=   6.6s\n",
      "[CV] END alpha=10, colsample_bytree=0.8, gamma=1, lambda=100, learning_rate=0.001, max_depth=3, min_child_weight=10, n_estimators=300, scale_pos_weight=10, subsample=0.8; total time=   6.6s\n"
     ]
    },
    {
     "name": "stderr",
     "output_type": "stream",
     "text": [
      "/Users/yanellyhernandez/anaconda3/lib/python3.11/site-packages/xgboost/core.py:158: UserWarning: [09:58:05] WARNING: /Users/runner/work/xgboost/xgboost/src/learner.cc:740: \n",
      "Parameters: { \"use_label_encoder\" } are not used.\n",
      "\n",
      "  warnings.warn(smsg, UserWarning)\n",
      "/Users/yanellyhernandez/anaconda3/lib/python3.11/site-packages/xgboost/core.py:158: UserWarning: [09:58:05] WARNING: /Users/runner/work/xgboost/xgboost/src/learner.cc:740: \n",
      "Parameters: { \"use_label_encoder\" } are not used.\n",
      "\n",
      "  warnings.warn(smsg, UserWarning)\n",
      "/Users/yanellyhernandez/anaconda3/lib/python3.11/site-packages/xgboost/core.py:158: UserWarning: [09:58:05] WARNING: /Users/runner/work/xgboost/xgboost/src/learner.cc:740: \n",
      "Parameters: { \"use_label_encoder\" } are not used.\n",
      "\n",
      "  warnings.warn(smsg, UserWarning)\n"
     ]
    },
    {
     "name": "stdout",
     "output_type": "stream",
     "text": [
      "[CV] END alpha=10, colsample_bytree=0.8, gamma=1, lambda=100, learning_rate=0.001, max_depth=3, min_child_weight=10, n_estimators=300, scale_pos_weight=10, subsample=0.8; total time=   6.6s\n"
     ]
    },
    {
     "name": "stderr",
     "output_type": "stream",
     "text": [
      "/Users/yanellyhernandez/anaconda3/lib/python3.11/site-packages/xgboost/core.py:158: UserWarning: [09:58:08] WARNING: /Users/runner/work/xgboost/xgboost/src/learner.cc:740: \n",
      "Parameters: { \"use_label_encoder\" } are not used.\n",
      "\n",
      "  warnings.warn(smsg, UserWarning)\n"
     ]
    },
    {
     "name": "stdout",
     "output_type": "stream",
     "text": [
      "[CV] END alpha=0, colsample_bytree=1.0, gamma=10, lambda=1, learning_rate=0.001, max_depth=5, min_child_weight=5, n_estimators=300, scale_pos_weight=1, subsample=0.8; total time=   9.0s\n",
      "[CV] END alpha=0, colsample_bytree=1.0, gamma=10, lambda=1, learning_rate=0.001, max_depth=5, min_child_weight=5, n_estimators=300, scale_pos_weight=1, subsample=0.8; total time=   9.0s\n",
      "[CV] END alpha=0, colsample_bytree=1.0, gamma=10, lambda=1, learning_rate=0.001, max_depth=5, min_child_weight=5, n_estimators=300, scale_pos_weight=1, subsample=0.8; total time=   9.2s\n"
     ]
    },
    {
     "name": "stderr",
     "output_type": "stream",
     "text": [
      "/Users/yanellyhernandez/anaconda3/lib/python3.11/site-packages/xgboost/core.py:158: UserWarning: [09:58:11] WARNING: /Users/runner/work/xgboost/xgboost/src/learner.cc:740: \n",
      "Parameters: { \"use_label_encoder\" } are not used.\n",
      "\n",
      "  warnings.warn(smsg, UserWarning)\n",
      "/Users/yanellyhernandez/anaconda3/lib/python3.11/site-packages/xgboost/core.py:158: UserWarning: [09:58:11] WARNING: /Users/runner/work/xgboost/xgboost/src/learner.cc:740: \n",
      "Parameters: { \"use_label_encoder\" } are not used.\n",
      "\n",
      "  warnings.warn(smsg, UserWarning)\n",
      "/Users/yanellyhernandez/anaconda3/lib/python3.11/site-packages/xgboost/core.py:158: UserWarning: [09:58:11] WARNING: /Users/runner/work/xgboost/xgboost/src/learner.cc:740: \n",
      "Parameters: { \"use_label_encoder\" } are not used.\n",
      "\n",
      "  warnings.warn(smsg, UserWarning)\n"
     ]
    },
    {
     "name": "stdout",
     "output_type": "stream",
     "text": [
      "[CV] END alpha=1, colsample_bytree=0.8, gamma=0, lambda=1, learning_rate=0.001, max_depth=3, min_child_weight=1, n_estimators=300, scale_pos_weight=50, subsample=0.6; total time=   7.3s\n",
      "[CV] END alpha=1, colsample_bytree=0.8, gamma=0, lambda=1, learning_rate=0.001, max_depth=3, min_child_weight=1, n_estimators=300, scale_pos_weight=50, subsample=0.6; total time=   7.1s\n",
      "[CV] END alpha=0, colsample_bytree=1.0, gamma=10, lambda=1, learning_rate=0.001, max_depth=5, min_child_weight=5, n_estimators=300, scale_pos_weight=1, subsample=0.8; total time=   9.0s\n"
     ]
    },
    {
     "name": "stderr",
     "output_type": "stream",
     "text": [
      "/Users/yanellyhernandez/anaconda3/lib/python3.11/site-packages/xgboost/core.py:158: UserWarning: [09:58:13] WARNING: /Users/runner/work/xgboost/xgboost/src/learner.cc:740: \n",
      "Parameters: { \"use_label_encoder\" } are not used.\n",
      "\n",
      "  warnings.warn(smsg, UserWarning)\n",
      "/Users/yanellyhernandez/anaconda3/lib/python3.11/site-packages/xgboost/core.py:158: UserWarning: [09:58:13] WARNING: /Users/runner/work/xgboost/xgboost/src/learner.cc:740: \n",
      "Parameters: { \"use_label_encoder\" } are not used.\n",
      "\n",
      "  warnings.warn(smsg, UserWarning)\n",
      "/Users/yanellyhernandez/anaconda3/lib/python3.11/site-packages/xgboost/core.py:158: UserWarning: [09:58:13] WARNING: /Users/runner/work/xgboost/xgboost/src/learner.cc:740: \n",
      "Parameters: { \"use_label_encoder\" } are not used.\n",
      "\n",
      "  warnings.warn(smsg, UserWarning)\n"
     ]
    },
    {
     "name": "stdout",
     "output_type": "stream",
     "text": [
      "[CV] END alpha=0, colsample_bytree=1.0, gamma=10, lambda=1, learning_rate=0.001, max_depth=5, min_child_weight=5, n_estimators=300, scale_pos_weight=1, subsample=0.8; total time=   8.9s\n",
      "[CV] END alpha=1, colsample_bytree=0.8, gamma=0, lambda=1, learning_rate=0.001, max_depth=3, min_child_weight=1, n_estimators=300, scale_pos_weight=50, subsample=0.6; total time=   7.2s\n"
     ]
    },
    {
     "name": "stderr",
     "output_type": "stream",
     "text": [
      "/Users/yanellyhernandez/anaconda3/lib/python3.11/site-packages/xgboost/core.py:158: UserWarning: [09:58:14] WARNING: /Users/runner/work/xgboost/xgboost/src/learner.cc:740: \n",
      "Parameters: { \"use_label_encoder\" } are not used.\n",
      "\n",
      "  warnings.warn(smsg, UserWarning)\n"
     ]
    },
    {
     "name": "stdout",
     "output_type": "stream",
     "text": [
      "[CV] END alpha=10, colsample_bytree=0.8, gamma=10, lambda=100, learning_rate=0.1, max_depth=3, min_child_weight=1, n_estimators=200, scale_pos_weight=10, subsample=1.0; total time=   3.9s\n",
      "[CV] END alpha=10, colsample_bytree=0.8, gamma=10, lambda=100, learning_rate=0.1, max_depth=3, min_child_weight=1, n_estimators=200, scale_pos_weight=10, subsample=1.0; total time=   3.6s\n",
      "[CV] END alpha=10, colsample_bytree=0.8, gamma=10, lambda=100, learning_rate=0.1, max_depth=3, min_child_weight=1, n_estimators=200, scale_pos_weight=10, subsample=1.0; total time=   3.8s\n",
      "[CV] END alpha=10, colsample_bytree=0.8, gamma=10, lambda=100, learning_rate=0.1, max_depth=3, min_child_weight=1, n_estimators=200, scale_pos_weight=10, subsample=1.0; total time=   3.5s\n",
      "[CV] END alpha=10, colsample_bytree=0.8, gamma=10, lambda=100, learning_rate=0.1, max_depth=3, min_child_weight=1, n_estimators=200, scale_pos_weight=10, subsample=1.0; total time=   3.2s\n",
      "[CV] END alpha=1, colsample_bytree=0.8, gamma=0, lambda=1, learning_rate=0.001, max_depth=3, min_child_weight=1, n_estimators=300, scale_pos_weight=50, subsample=0.6; total time=   6.3s\n",
      "[CV] END alpha=1, colsample_bytree=0.8, gamma=0, lambda=1, learning_rate=0.001, max_depth=3, min_child_weight=1, n_estimators=300, scale_pos_weight=50, subsample=0.6; total time=   6.2s\n"
     ]
    },
    {
     "name": "stderr",
     "output_type": "stream",
     "text": [
      "/Users/yanellyhernandez/anaconda3/lib/python3.11/site-packages/xgboost/core.py:158: UserWarning: [09:58:17] WARNING: /Users/runner/work/xgboost/xgboost/src/learner.cc:740: \n",
      "Parameters: { \"use_label_encoder\" } are not used.\n",
      "\n",
      "  warnings.warn(smsg, UserWarning)\n"
     ]
    },
    {
     "name": "stdout",
     "output_type": "stream",
     "text": [
      "[0]\ttrain-auc:0.71603\teval-auc:0.71409\n",
      "[1]\ttrain-auc:0.72429\teval-auc:0.72179\n"
     ]
    },
    {
     "name": "stderr",
     "output_type": "stream",
     "text": [
      "/Users/yanellyhernandez/anaconda3/lib/python3.11/site-packages/xgboost/core.py:158: UserWarning: [09:58:19] WARNING: /Users/runner/work/xgboost/xgboost/src/learner.cc:740: \n",
      "Parameters: { \"n_estimators\" } are not used.\n",
      "\n",
      "  warnings.warn(smsg, UserWarning)\n"
     ]
    },
    {
     "name": "stdout",
     "output_type": "stream",
     "text": [
      "[2]\ttrain-auc:0.72651\teval-auc:0.72439\n",
      "[3]\ttrain-auc:0.72794\teval-auc:0.72503\n",
      "[4]\ttrain-auc:0.72908\teval-auc:0.72552\n",
      "[5]\ttrain-auc:0.73032\teval-auc:0.72684\n",
      "[6]\ttrain-auc:0.73090\teval-auc:0.72709\n",
      "[7]\ttrain-auc:0.73224\teval-auc:0.72845\n",
      "[8]\ttrain-auc:0.73358\teval-auc:0.72972\n",
      "[9]\ttrain-auc:0.73466\teval-auc:0.73110\n",
      "[10]\ttrain-auc:0.73537\teval-auc:0.73157\n",
      "[11]\ttrain-auc:0.73638\teval-auc:0.73262\n",
      "[12]\ttrain-auc:0.73714\teval-auc:0.73318\n",
      "[13]\ttrain-auc:0.73783\teval-auc:0.73341\n",
      "[14]\ttrain-auc:0.73854\teval-auc:0.73379\n",
      "[15]\ttrain-auc:0.73992\teval-auc:0.73522\n",
      "[16]\ttrain-auc:0.74141\teval-auc:0.73652\n",
      "[17]\ttrain-auc:0.74242\teval-auc:0.73719\n",
      "[18]\ttrain-auc:0.74369\teval-auc:0.73837\n",
      "[19]\ttrain-auc:0.74501\teval-auc:0.73986\n",
      "[20]\ttrain-auc:0.74641\teval-auc:0.74099\n",
      "[21]\ttrain-auc:0.74769\teval-auc:0.74197\n",
      "[22]\ttrain-auc:0.74870\teval-auc:0.74249\n",
      "[23]\ttrain-auc:0.74963\teval-auc:0.74306\n",
      "[24]\ttrain-auc:0.75062\teval-auc:0.74360\n",
      "[25]\ttrain-auc:0.75153\teval-auc:0.74439\n",
      "[26]\ttrain-auc:0.75253\teval-auc:0.74494\n",
      "[27]\ttrain-auc:0.75386\teval-auc:0.74587\n",
      "[28]\ttrain-auc:0.75479\teval-auc:0.74670\n",
      "[29]\ttrain-auc:0.75557\teval-auc:0.74714\n",
      "[30]\ttrain-auc:0.75648\teval-auc:0.74782\n",
      "[31]\ttrain-auc:0.75762\teval-auc:0.74867\n",
      "[32]\ttrain-auc:0.75860\teval-auc:0.74933\n",
      "[33]\ttrain-auc:0.75941\teval-auc:0.75002\n",
      "[34]\ttrain-auc:0.75993\teval-auc:0.75038\n",
      "[35]\ttrain-auc:0.76062\teval-auc:0.75074\n",
      "[36]\ttrain-auc:0.76122\teval-auc:0.75113\n",
      "[37]\ttrain-auc:0.76184\teval-auc:0.75162\n",
      "[38]\ttrain-auc:0.76258\teval-auc:0.75200\n",
      "[39]\ttrain-auc:0.76323\teval-auc:0.75232\n",
      "[40]\ttrain-auc:0.76406\teval-auc:0.75309\n",
      "[41]\ttrain-auc:0.76479\teval-auc:0.75346\n",
      "[42]\ttrain-auc:0.76552\teval-auc:0.75392\n",
      "[43]\ttrain-auc:0.76611\teval-auc:0.75432\n",
      "[44]\ttrain-auc:0.76677\teval-auc:0.75466\n",
      "[45]\ttrain-auc:0.76738\teval-auc:0.75506\n",
      "[46]\ttrain-auc:0.76791\teval-auc:0.75547\n",
      "[47]\ttrain-auc:0.76844\teval-auc:0.75575\n",
      "[48]\ttrain-auc:0.76897\teval-auc:0.75629\n",
      "[49]\ttrain-auc:0.76958\teval-auc:0.75669\n",
      "[50]\ttrain-auc:0.77000\teval-auc:0.75699\n",
      "[51]\ttrain-auc:0.77048\teval-auc:0.75722\n",
      "[52]\ttrain-auc:0.77113\teval-auc:0.75738\n",
      "[53]\ttrain-auc:0.77168\teval-auc:0.75771\n",
      "[54]\ttrain-auc:0.77209\teval-auc:0.75798\n",
      "[55]\ttrain-auc:0.77248\teval-auc:0.75799\n",
      "[56]\ttrain-auc:0.77275\teval-auc:0.75809\n",
      "[57]\ttrain-auc:0.77317\teval-auc:0.75831\n",
      "[58]\ttrain-auc:0.77352\teval-auc:0.75851\n",
      "[59]\ttrain-auc:0.77391\teval-auc:0.75871\n",
      "[60]\ttrain-auc:0.77425\teval-auc:0.75897\n",
      "[61]\ttrain-auc:0.77486\teval-auc:0.75936\n",
      "[62]\ttrain-auc:0.77498\teval-auc:0.75941\n",
      "[63]\ttrain-auc:0.77529\teval-auc:0.75948\n",
      "[64]\ttrain-auc:0.77564\teval-auc:0.75955\n",
      "[65]\ttrain-auc:0.77597\teval-auc:0.75965\n",
      "[66]\ttrain-auc:0.77624\teval-auc:0.75977\n",
      "[67]\ttrain-auc:0.77659\teval-auc:0.75992\n",
      "[68]\ttrain-auc:0.77703\teval-auc:0.76022\n",
      "[69]\ttrain-auc:0.77740\teval-auc:0.76039\n",
      "[70]\ttrain-auc:0.77755\teval-auc:0.76042\n",
      "[71]\ttrain-auc:0.77786\teval-auc:0.76068\n",
      "[72]\ttrain-auc:0.77822\teval-auc:0.76084\n",
      "[73]\ttrain-auc:0.77868\teval-auc:0.76104\n",
      "[74]\ttrain-auc:0.77891\teval-auc:0.76110\n",
      "[75]\ttrain-auc:0.77922\teval-auc:0.76120\n",
      "[76]\ttrain-auc:0.77948\teval-auc:0.76126\n",
      "[77]\ttrain-auc:0.77986\teval-auc:0.76141\n",
      "[78]\ttrain-auc:0.78054\teval-auc:0.76195\n",
      "[79]\ttrain-auc:0.78082\teval-auc:0.76209\n",
      "[80]\ttrain-auc:0.78126\teval-auc:0.76238\n",
      "[81]\ttrain-auc:0.78154\teval-auc:0.76253\n",
      "[82]\ttrain-auc:0.78192\teval-auc:0.76281\n",
      "[83]\ttrain-auc:0.78211\teval-auc:0.76290\n",
      "[84]\ttrain-auc:0.78235\teval-auc:0.76300\n",
      "[85]\ttrain-auc:0.78276\teval-auc:0.76317\n",
      "[86]\ttrain-auc:0.78303\teval-auc:0.76326\n",
      "[87]\ttrain-auc:0.78323\teval-auc:0.76328\n",
      "[88]\ttrain-auc:0.78340\teval-auc:0.76336\n",
      "[89]\ttrain-auc:0.78365\teval-auc:0.76342\n",
      "[90]\ttrain-auc:0.78390\teval-auc:0.76353\n",
      "[91]\ttrain-auc:0.78398\teval-auc:0.76355\n",
      "[92]\ttrain-auc:0.78424\teval-auc:0.76359\n",
      "[93]\ttrain-auc:0.78480\teval-auc:0.76394\n",
      "[94]\ttrain-auc:0.78520\teval-auc:0.76406\n",
      "[95]\ttrain-auc:0.78545\teval-auc:0.76405\n",
      "[96]\ttrain-auc:0.78564\teval-auc:0.76416\n",
      "[97]\ttrain-auc:0.78585\teval-auc:0.76415\n",
      "[98]\ttrain-auc:0.78610\teval-auc:0.76423\n",
      "[99]\ttrain-auc:0.78635\teval-auc:0.76432\n",
      "[100]\ttrain-auc:0.78656\teval-auc:0.76430\n",
      "[101]\ttrain-auc:0.78674\teval-auc:0.76434\n",
      "[102]\ttrain-auc:0.78704\teval-auc:0.76443\n",
      "[103]\ttrain-auc:0.78716\teval-auc:0.76443\n",
      "[104]\ttrain-auc:0.78749\teval-auc:0.76446\n",
      "[105]\ttrain-auc:0.78757\teval-auc:0.76447\n",
      "[106]\ttrain-auc:0.78789\teval-auc:0.76458\n",
      "[107]\ttrain-auc:0.78807\teval-auc:0.76463\n",
      "[108]\ttrain-auc:0.78823\teval-auc:0.76469\n",
      "[109]\ttrain-auc:0.78846\teval-auc:0.76473\n",
      "[110]\ttrain-auc:0.78871\teval-auc:0.76477\n",
      "[111]\ttrain-auc:0.78888\teval-auc:0.76474\n",
      "[112]\ttrain-auc:0.78915\teval-auc:0.76480\n",
      "[113]\ttrain-auc:0.78934\teval-auc:0.76481\n",
      "[114]\ttrain-auc:0.78957\teval-auc:0.76485\n",
      "[115]\ttrain-auc:0.78987\teval-auc:0.76485\n",
      "[116]\ttrain-auc:0.79005\teval-auc:0.76490\n",
      "[117]\ttrain-auc:0.79024\teval-auc:0.76497\n",
      "[118]\ttrain-auc:0.79045\teval-auc:0.76499\n",
      "[119]\ttrain-auc:0.79074\teval-auc:0.76513\n",
      "[120]\ttrain-auc:0.79081\teval-auc:0.76515\n",
      "[121]\ttrain-auc:0.79108\teval-auc:0.76526\n",
      "[122]\ttrain-auc:0.79144\teval-auc:0.76527\n",
      "[123]\ttrain-auc:0.79180\teval-auc:0.76541\n",
      "[124]\ttrain-auc:0.79200\teval-auc:0.76544\n",
      "[125]\ttrain-auc:0.79214\teval-auc:0.76540\n",
      "[126]\ttrain-auc:0.79231\teval-auc:0.76534\n",
      "[127]\ttrain-auc:0.79246\teval-auc:0.76537\n",
      "[128]\ttrain-auc:0.79267\teval-auc:0.76535\n",
      "[129]\ttrain-auc:0.79293\teval-auc:0.76537\n",
      "[130]\ttrain-auc:0.79303\teval-auc:0.76536\n",
      "[131]\ttrain-auc:0.79333\teval-auc:0.76534\n",
      "[132]\ttrain-auc:0.79361\teval-auc:0.76542\n",
      "[133]\ttrain-auc:0.79396\teval-auc:0.76556\n",
      "[134]\ttrain-auc:0.79409\teval-auc:0.76558\n",
      "[135]\ttrain-auc:0.79421\teval-auc:0.76555\n",
      "[136]\ttrain-auc:0.79433\teval-auc:0.76556\n",
      "[137]\ttrain-auc:0.79438\teval-auc:0.76560\n",
      "[138]\ttrain-auc:0.79455\teval-auc:0.76557\n",
      "[139]\ttrain-auc:0.79469\teval-auc:0.76561\n",
      "[140]\ttrain-auc:0.79480\teval-auc:0.76559\n",
      "[141]\ttrain-auc:0.79511\teval-auc:0.76569\n",
      "[142]\ttrain-auc:0.79544\teval-auc:0.76587\n",
      "[143]\ttrain-auc:0.79557\teval-auc:0.76585\n",
      "[144]\ttrain-auc:0.79585\teval-auc:0.76589\n",
      "[145]\ttrain-auc:0.79596\teval-auc:0.76591\n",
      "[146]\ttrain-auc:0.79613\teval-auc:0.76599\n",
      "[147]\ttrain-auc:0.79632\teval-auc:0.76599\n",
      "[148]\ttrain-auc:0.79660\teval-auc:0.76599\n",
      "[149]\ttrain-auc:0.79685\teval-auc:0.76611\n",
      "[150]\ttrain-auc:0.79696\teval-auc:0.76613\n",
      "[151]\ttrain-auc:0.79713\teval-auc:0.76615\n",
      "[152]\ttrain-auc:0.79729\teval-auc:0.76617\n",
      "[153]\ttrain-auc:0.79756\teval-auc:0.76614\n",
      "[154]\ttrain-auc:0.79782\teval-auc:0.76623\n",
      "[155]\ttrain-auc:0.79810\teval-auc:0.76624\n",
      "[156]\ttrain-auc:0.79836\teval-auc:0.76627\n",
      "[157]\ttrain-auc:0.79862\teval-auc:0.76639\n",
      "[158]\ttrain-auc:0.79879\teval-auc:0.76635\n",
      "[159]\ttrain-auc:0.79892\teval-auc:0.76639\n",
      "[160]\ttrain-auc:0.79918\teval-auc:0.76631\n",
      "[161]\ttrain-auc:0.79936\teval-auc:0.76634\n",
      "[162]\ttrain-auc:0.79955\teval-auc:0.76636\n",
      "[163]\ttrain-auc:0.79958\teval-auc:0.76635\n",
      "[164]\ttrain-auc:0.79975\teval-auc:0.76638\n",
      "[165]\ttrain-auc:0.79994\teval-auc:0.76639\n",
      "[166]\ttrain-auc:0.80025\teval-auc:0.76641\n",
      "[167]\ttrain-auc:0.80035\teval-auc:0.76644\n",
      "[168]\ttrain-auc:0.80049\teval-auc:0.76644\n",
      "[169]\ttrain-auc:0.80071\teval-auc:0.76640\n",
      "[170]\ttrain-auc:0.80083\teval-auc:0.76638\n",
      "[171]\ttrain-auc:0.80119\teval-auc:0.76664\n",
      "[172]\ttrain-auc:0.80147\teval-auc:0.76674\n",
      "[173]\ttrain-auc:0.80166\teval-auc:0.76675\n",
      "[174]\ttrain-auc:0.80183\teval-auc:0.76681\n",
      "[175]\ttrain-auc:0.80200\teval-auc:0.76685\n",
      "[176]\ttrain-auc:0.80225\teval-auc:0.76681\n",
      "[177]\ttrain-auc:0.80247\teval-auc:0.76683\n",
      "[178]\ttrain-auc:0.80261\teval-auc:0.76679\n",
      "[179]\ttrain-auc:0.80287\teval-auc:0.76678\n",
      "[180]\ttrain-auc:0.80307\teval-auc:0.76675\n",
      "[181]\ttrain-auc:0.80327\teval-auc:0.76677\n",
      "[182]\ttrain-auc:0.80351\teval-auc:0.76686\n",
      "[183]\ttrain-auc:0.80372\teval-auc:0.76689\n",
      "[184]\ttrain-auc:0.80385\teval-auc:0.76691\n",
      "[185]\ttrain-auc:0.80414\teval-auc:0.76683\n",
      "[186]\ttrain-auc:0.80436\teval-auc:0.76683\n",
      "[187]\ttrain-auc:0.80442\teval-auc:0.76682\n",
      "[188]\ttrain-auc:0.80470\teval-auc:0.76695\n",
      "[189]\ttrain-auc:0.80492\teval-auc:0.76696\n",
      "[190]\ttrain-auc:0.80519\teval-auc:0.76699\n",
      "[191]\ttrain-auc:0.80539\teval-auc:0.76706\n",
      "[192]\ttrain-auc:0.80550\teval-auc:0.76705\n",
      "[193]\ttrain-auc:0.80551\teval-auc:0.76703\n",
      "[194]\ttrain-auc:0.80567\teval-auc:0.76702\n",
      "[195]\ttrain-auc:0.80577\teval-auc:0.76706\n",
      "[196]\ttrain-auc:0.80601\teval-auc:0.76708\n",
      "[197]\ttrain-auc:0.80611\teval-auc:0.76707\n",
      "[198]\ttrain-auc:0.80645\teval-auc:0.76729\n",
      "[199]\ttrain-auc:0.80658\teval-auc:0.76724\n",
      "[200]\ttrain-auc:0.80668\teval-auc:0.76726\n",
      "[201]\ttrain-auc:0.80692\teval-auc:0.76725\n",
      "[202]\ttrain-auc:0.80704\teval-auc:0.76723\n",
      "[203]\ttrain-auc:0.80724\teval-auc:0.76724\n",
      "[204]\ttrain-auc:0.80750\teval-auc:0.76723\n",
      "[205]\ttrain-auc:0.80780\teval-auc:0.76721\n",
      "[206]\ttrain-auc:0.80809\teval-auc:0.76712\n",
      "[207]\ttrain-auc:0.80826\teval-auc:0.76716\n"
     ]
    }
   ],
   "source": [
    "# Parameter grid for RandomizedSearchCV\n",
    "param_dist = {\n",
    "    'learning_rate': [0.001, 0.01, 0.1],\n",
    "    'n_estimators': [100, 200, 300],\n",
    "    'max_depth': [3, 5, 7],\n",
    "    'subsample': [0.6, 0.8, 1.0],\n",
    "    'colsample_bytree': [0.6, 0.8, 1.0],\n",
    "    'alpha': [0, 0.1, 1, 10],\n",
    "    'lambda': [0, 1, 10, 100],\n",
    "    'scale_pos_weight': [1, len(ytrain[ytrain == 0]) / len(ytrain[ytrain == 1]), 10, 20, 50],\n",
    "    'min_child_weight': [1, 5, 10],\n",
    "    'gamma': [0, 0.1, 1, 10]\n",
    "}\n",
    "\n",
    "# Perform hyperparameter tuning\n",
    "random_search = RandomizedSearchCV(\n",
    "    estimator=xgb.XGBClassifier(objective=\"binary:logistic\", random_state=42),\n",
    "    param_distributions=param_dist,\n",
    "    n_iter=10,\n",
    "    scoring=\"roc_auc\",\n",
    "    cv=StratifiedKFold(n_splits=5),\n",
    "    verbose=2,\n",
    "    n_jobs=-1,\n",
    "    random_state=42\n",
    ")\n",
    "\n",
    "# Fit RandomizedSearchCV\n",
    "random_search.fit(xtrain, ytrain)\n",
    "\n",
    "# Extract the best parameters\n",
    "best_params = random_search.best_params_\n",
    "\n",
    "# Convert data to DMatrix format for xgb.train\n",
    "dtrain = xgb.DMatrix(xtrain, label=ytrain)\n",
    "dtest = xgb.DMatrix(xtest, label=ytest)\n",
    "\n",
    "# Define parameters for xgb.train\n",
    "params = {\n",
    "    \"objective\": \"binary:logistic\",\n",
    "    \"eval_metric\": \"auc\",\n",
    "    **best_params\n",
    "}\n",
    "\n",
    "# Train the model with early stopping\n",
    "xgb_model = xgb.train(\n",
    "    params=params,\n",
    "    dtrain=dtrain,\n",
    "    num_boost_round=1000,\n",
    "    evals=[(dtrain, \"train\"), (dtest, \"eval\")],\n",
    "    early_stopping_rounds=10,\n",
    "    verbose_eval=True\n",
    ")\n"
   ]
  },
  {
   "cell_type": "code",
   "execution_count": 97,
   "metadata": {},
   "outputs": [
    {
     "name": "stdout",
     "output_type": "stream",
     "text": [
      "AUC Score: 0.7672038066712774\n"
     ]
    }
   ],
   "source": [
    "# Convert xtest to DMatrix\n",
    "dtest = xgb.DMatrix(xtest)\n",
    "\n",
    "# Get predicted probabilities for xtest\n",
    "y_pred_prob = xgb_model.predict(dtest)\n",
    "\n",
    "# Calculate AUC score\n",
    "auc_score = roc_auc_score(ytest, y_pred_prob)\n",
    "print(f\"AUC Score: {auc_score}\")\n",
    "\n"
   ]
  },
  {
   "cell_type": "code",
   "execution_count": 98,
   "metadata": {},
   "outputs": [
    {
     "name": "stdout",
     "output_type": "stream",
     "text": [
      "Threshold: 0.2, Recall for Class 1: 0.2986\n",
      "Threshold: 0.1, Recall for Class 1: 0.6012\n",
      "Threshold: 0.05, Recall for Class 1: 0.8410\n",
      "Threshold: 0.03, Recall for Class 1: 0.9380\n"
     ]
    }
   ],
   "source": [
    "# to check which to use for the threshold:\n",
    "thresholds = [0.2, 0.1, 0.05, 0.03]\n",
    "for threshold in thresholds:\n",
    "    y_pred = (y_pred_prob > threshold).astype(int)\n",
    "    recall_1 = recall_score(ytest, y_pred, pos_label=1)\n",
    "    print(f\"Threshold: {threshold}, Recall for Class 1: {recall_1:.4f}\")\n"
   ]
  },
  {
   "cell_type": "markdown",
   "metadata": {},
   "source": [
    "Comparing thresholds 0.1 and 0.03, we observe that while threshold 0.03 achieves higher recall for Class 1 (defaulters), it comes at the cost of significantly lower precision for Class 1 and lower overall accuracy. This indicates a high rate of incorrect positive predictions (false positives), which makes the trade-off less ideal for practical purposes, as the model's predictions become less reliable overall."
   ]
  },
  {
   "cell_type": "code",
   "execution_count": 99,
   "metadata": {},
   "outputs": [
    {
     "name": "stdout",
     "output_type": "stream",
     "text": [
      "Classification Report:\n",
      "              precision    recall  f1-score   support\n",
      "\n",
      "           0       0.96      0.78      0.86     70672\n",
      "           1       0.19      0.60      0.29      6206\n",
      "\n",
      "    accuracy                           0.77     76878\n",
      "   macro avg       0.58      0.69      0.58     76878\n",
      "weighted avg       0.90      0.77      0.81     76878\n",
      "\n"
     ]
    }
   ],
   "source": [
    "# Convert probabilities to binary outcomes for classification report\n",
    "y_pred = (y_pred_prob > 0.1).astype(int)\n",
    "\n",
    "# Print classification report\n",
    "print(\"Classification Report:\")\n",
    "print(classification_report(ytest, y_pred))"
   ]
  },
  {
   "cell_type": "markdown",
   "metadata": {},
   "source": [
    "# do the everything the same for test"
   ]
  },
  {
   "cell_type": "code",
   "execution_count": 100,
   "metadata": {},
   "outputs": [
    {
     "name": "stdout",
     "output_type": "stream",
     "text": [
      "<class 'pandas.core.frame.DataFrame'>\n",
      "RangeIndex: 48744 entries, 0 to 48743\n",
      "Data columns (total 121 columns):\n",
      " #    Column                        Dtype  \n",
      "---   ------                        -----  \n",
      " 0    SK_ID_CURR                    int64  \n",
      " 1    NAME_CONTRACT_TYPE            object \n",
      " 2    CODE_GENDER                   object \n",
      " 3    FLAG_OWN_CAR                  object \n",
      " 4    FLAG_OWN_REALTY               object \n",
      " 5    CNT_CHILDREN                  int64  \n",
      " 6    AMT_INCOME_TOTAL              float64\n",
      " 7    AMT_CREDIT                    float64\n",
      " 8    AMT_ANNUITY                   float64\n",
      " 9    AMT_GOODS_PRICE               float64\n",
      " 10   NAME_TYPE_SUITE               object \n",
      " 11   NAME_INCOME_TYPE              object \n",
      " 12   NAME_EDUCATION_TYPE           object \n",
      " 13   NAME_FAMILY_STATUS            object \n",
      " 14   NAME_HOUSING_TYPE             object \n",
      " 15   REGION_POPULATION_RELATIVE    float64\n",
      " 16   DAYS_BIRTH                    int64  \n",
      " 17   DAYS_EMPLOYED                 int64  \n",
      " 18   DAYS_REGISTRATION             float64\n",
      " 19   DAYS_ID_PUBLISH               int64  \n",
      " 20   OWN_CAR_AGE                   float64\n",
      " 21   FLAG_MOBIL                    int64  \n",
      " 22   FLAG_EMP_PHONE                int64  \n",
      " 23   FLAG_WORK_PHONE               int64  \n",
      " 24   FLAG_CONT_MOBILE              int64  \n",
      " 25   FLAG_PHONE                    int64  \n",
      " 26   FLAG_EMAIL                    int64  \n",
      " 27   OCCUPATION_TYPE               object \n",
      " 28   CNT_FAM_MEMBERS               float64\n",
      " 29   REGION_RATING_CLIENT          int64  \n",
      " 30   REGION_RATING_CLIENT_W_CITY   int64  \n",
      " 31   WEEKDAY_APPR_PROCESS_START    object \n",
      " 32   HOUR_APPR_PROCESS_START       int64  \n",
      " 33   REG_REGION_NOT_LIVE_REGION    int64  \n",
      " 34   REG_REGION_NOT_WORK_REGION    int64  \n",
      " 35   LIVE_REGION_NOT_WORK_REGION   int64  \n",
      " 36   REG_CITY_NOT_LIVE_CITY        int64  \n",
      " 37   REG_CITY_NOT_WORK_CITY        int64  \n",
      " 38   LIVE_CITY_NOT_WORK_CITY       int64  \n",
      " 39   ORGANIZATION_TYPE             object \n",
      " 40   EXT_SOURCE_1                  float64\n",
      " 41   EXT_SOURCE_2                  float64\n",
      " 42   EXT_SOURCE_3                  float64\n",
      " 43   APARTMENTS_AVG                float64\n",
      " 44   BASEMENTAREA_AVG              float64\n",
      " 45   YEARS_BEGINEXPLUATATION_AVG   float64\n",
      " 46   YEARS_BUILD_AVG               float64\n",
      " 47   COMMONAREA_AVG                float64\n",
      " 48   ELEVATORS_AVG                 float64\n",
      " 49   ENTRANCES_AVG                 float64\n",
      " 50   FLOORSMAX_AVG                 float64\n",
      " 51   FLOORSMIN_AVG                 float64\n",
      " 52   LANDAREA_AVG                  float64\n",
      " 53   LIVINGAPARTMENTS_AVG          float64\n",
      " 54   LIVINGAREA_AVG                float64\n",
      " 55   NONLIVINGAPARTMENTS_AVG       float64\n",
      " 56   NONLIVINGAREA_AVG             float64\n",
      " 57   APARTMENTS_MODE               float64\n",
      " 58   BASEMENTAREA_MODE             float64\n",
      " 59   YEARS_BEGINEXPLUATATION_MODE  float64\n",
      " 60   YEARS_BUILD_MODE              float64\n",
      " 61   COMMONAREA_MODE               float64\n",
      " 62   ELEVATORS_MODE                float64\n",
      " 63   ENTRANCES_MODE                float64\n",
      " 64   FLOORSMAX_MODE                float64\n",
      " 65   FLOORSMIN_MODE                float64\n",
      " 66   LANDAREA_MODE                 float64\n",
      " 67   LIVINGAPARTMENTS_MODE         float64\n",
      " 68   LIVINGAREA_MODE               float64\n",
      " 69   NONLIVINGAPARTMENTS_MODE      float64\n",
      " 70   NONLIVINGAREA_MODE            float64\n",
      " 71   APARTMENTS_MEDI               float64\n",
      " 72   BASEMENTAREA_MEDI             float64\n",
      " 73   YEARS_BEGINEXPLUATATION_MEDI  float64\n",
      " 74   YEARS_BUILD_MEDI              float64\n",
      " 75   COMMONAREA_MEDI               float64\n",
      " 76   ELEVATORS_MEDI                float64\n",
      " 77   ENTRANCES_MEDI                float64\n",
      " 78   FLOORSMAX_MEDI                float64\n",
      " 79   FLOORSMIN_MEDI                float64\n",
      " 80   LANDAREA_MEDI                 float64\n",
      " 81   LIVINGAPARTMENTS_MEDI         float64\n",
      " 82   LIVINGAREA_MEDI               float64\n",
      " 83   NONLIVINGAPARTMENTS_MEDI      float64\n",
      " 84   NONLIVINGAREA_MEDI            float64\n",
      " 85   FONDKAPREMONT_MODE            object \n",
      " 86   HOUSETYPE_MODE                object \n",
      " 87   TOTALAREA_MODE                float64\n",
      " 88   WALLSMATERIAL_MODE            object \n",
      " 89   EMERGENCYSTATE_MODE           object \n",
      " 90   OBS_30_CNT_SOCIAL_CIRCLE      float64\n",
      " 91   DEF_30_CNT_SOCIAL_CIRCLE      float64\n",
      " 92   OBS_60_CNT_SOCIAL_CIRCLE      float64\n",
      " 93   DEF_60_CNT_SOCIAL_CIRCLE      float64\n",
      " 94   DAYS_LAST_PHONE_CHANGE        float64\n",
      " 95   FLAG_DOCUMENT_2               int64  \n",
      " 96   FLAG_DOCUMENT_3               int64  \n",
      " 97   FLAG_DOCUMENT_4               int64  \n",
      " 98   FLAG_DOCUMENT_5               int64  \n",
      " 99   FLAG_DOCUMENT_6               int64  \n",
      " 100  FLAG_DOCUMENT_7               int64  \n",
      " 101  FLAG_DOCUMENT_8               int64  \n",
      " 102  FLAG_DOCUMENT_9               int64  \n",
      " 103  FLAG_DOCUMENT_10              int64  \n",
      " 104  FLAG_DOCUMENT_11              int64  \n",
      " 105  FLAG_DOCUMENT_12              int64  \n",
      " 106  FLAG_DOCUMENT_13              int64  \n",
      " 107  FLAG_DOCUMENT_14              int64  \n",
      " 108  FLAG_DOCUMENT_15              int64  \n",
      " 109  FLAG_DOCUMENT_16              int64  \n",
      " 110  FLAG_DOCUMENT_17              int64  \n",
      " 111  FLAG_DOCUMENT_18              int64  \n",
      " 112  FLAG_DOCUMENT_19              int64  \n",
      " 113  FLAG_DOCUMENT_20              int64  \n",
      " 114  FLAG_DOCUMENT_21              int64  \n",
      " 115  AMT_REQ_CREDIT_BUREAU_HOUR    float64\n",
      " 116  AMT_REQ_CREDIT_BUREAU_DAY     float64\n",
      " 117  AMT_REQ_CREDIT_BUREAU_WEEK    float64\n",
      " 118  AMT_REQ_CREDIT_BUREAU_MON     float64\n",
      " 119  AMT_REQ_CREDIT_BUREAU_QRT     float64\n",
      " 120  AMT_REQ_CREDIT_BUREAU_YEAR    float64\n",
      "dtypes: float64(65), int64(40), object(16)\n",
      "memory usage: 45.0+ MB\n"
     ]
    }
   ],
   "source": [
    "df_application_test.info(verbose=True)"
   ]
  },
  {
   "cell_type": "code",
   "execution_count": null,
   "metadata": {},
   "outputs": [
    {
     "name": "stderr",
     "output_type": "stream",
     "text": [
      "/var/folders/6j/3l6q9l4515sdmfyg8znhblxr0000gn/T/ipykernel_10917/116500411.py:2: FutureWarning: The default value of numeric_only in DataFrame.corr is deprecated. In a future version, it will default to False. Select only valid columns or specify the value of numeric_only to silence this warning.\n",
      "  corr_matrix = df_application_test.corr().abs()\n"
     ]
    }
   ],
   "source": [
    "# Leaving out high correlated values:\n",
    "corr_matrix = df_application_test.corr(numeric_only=True).abs()\n",
    "upper_tri = corr_matrix.where(np.triu(np.ones(corr_matrix.shape), k=1).astype(bool))\n",
    "to_drop = [column for column in upper_tri.columns if any(upper_tri[column] > 0.9)]\n",
    "df_application_test.drop(columns=to_drop, inplace=True)\n"
   ]
  },
  {
   "cell_type": "code",
   "execution_count": 102,
   "metadata": {},
   "outputs": [],
   "source": [
    "# same features as df_application_train\n",
    "selected_features = ['SK_ID_CURR', 'DAYS_BIRTH', 'DAYS_EMPLOYED', 'AMT_CREDIT',\n",
    "                     'AMT_ANNUITY', 'AMT_INCOME_TOTAL', 'NAME_FAMILY_STATUS', 'NAME_HOUSING_TYPE',\n",
    "                     'NAME_INCOME_TYPE', 'OCCUPATION_TYPE', 'NAME_EDUCATION_TYPE', 'NAME_CONTRACT_TYPE',\n",
    "                     'ORGANIZATION_TYPE', 'EXT_SOURCE_1','EXT_SOURCE_2', 'EXT_SOURCE_3']\n",
    "\n",
    "medi_columns = [col for col in df_application_train.columns if '_MEDI' in col]\n",
    "\n",
    "final_features = list(set(selected_features + medi_columns))\n",
    "\n",
    "df_application_test = df_application_test[final_features]"
   ]
  },
  {
   "cell_type": "code",
   "execution_count": 103,
   "metadata": {},
   "outputs": [
    {
     "data": {
      "text/plain": [
       "NAME_CONTRACT_TYPE         0\n",
       "NAME_EDUCATION_TYPE        0\n",
       "NAME_FAMILY_STATUS         0\n",
       "AMT_INCOME_TOTAL           0\n",
       "EXT_SOURCE_2               8\n",
       "OCCUPATION_TYPE        15605\n",
       "SK_ID_CURR                 0\n",
       "DAYS_BIRTH                 0\n",
       "AMT_ANNUITY               24\n",
       "EXT_SOURCE_1           20532\n",
       "AMT_CREDIT                 0\n",
       "DAYS_EMPLOYED              0\n",
       "NAME_HOUSING_TYPE          0\n",
       "NAME_INCOME_TYPE           0\n",
       "ORGANIZATION_TYPE          0\n",
       "EXT_SOURCE_3            8668\n",
       "dtype: int64"
      ]
     },
     "execution_count": 103,
     "metadata": {},
     "output_type": "execute_result"
    }
   ],
   "source": [
    "df_application_test.isnull().sum()"
   ]
  },
  {
   "cell_type": "code",
   "execution_count": 104,
   "metadata": {},
   "outputs": [
    {
     "data": {
      "text/plain": [
       "0"
      ]
     },
     "execution_count": 104,
     "metadata": {},
     "output_type": "execute_result"
    }
   ],
   "source": [
    "df_application_test.duplicated().sum()"
   ]
  },
  {
   "cell_type": "code",
   "execution_count": null,
   "metadata": {},
   "outputs": [
    {
     "name": "stderr",
     "output_type": "stream",
     "text": [
      "/Users/yanellyhernandez/Library/Mobile Documents/com~apple~CloudDocs/Desktop/Learning Fuze/mod2/week 9/Data_class_proj/preprocessed_DataClass.py:21: SettingWithCopyWarning: \n",
      "A value is trying to be set on a copy of a slice from a DataFrame.\n",
      "Try using .loc[row_indexer,col_indexer] = value instead\n",
      "\n",
      "See the caveats in the documentation: https://pandas.pydata.org/pandas-docs/stable/user_guide/indexing.html#returning-a-view-versus-a-copy\n",
      "  df[column] = df[column].fillna(df[column].mode()[0])\n",
      "/Users/yanellyhernandez/Library/Mobile Documents/com~apple~CloudDocs/Desktop/Learning Fuze/mod2/week 9/Data_class_proj/preprocessed_DataClass.py:21: SettingWithCopyWarning: \n",
      "A value is trying to be set on a copy of a slice from a DataFrame.\n",
      "Try using .loc[row_indexer,col_indexer] = value instead\n",
      "\n",
      "See the caveats in the documentation: https://pandas.pydata.org/pandas-docs/stable/user_guide/indexing.html#returning-a-view-versus-a-copy\n",
      "  df[column] = df[column].fillna(df[column].mode()[0])\n",
      "/Users/yanellyhernandez/Library/Mobile Documents/com~apple~CloudDocs/Desktop/Learning Fuze/mod2/week 9/Data_class_proj/preprocessed_DataClass.py:21: SettingWithCopyWarning: \n",
      "A value is trying to be set on a copy of a slice from a DataFrame.\n",
      "Try using .loc[row_indexer,col_indexer] = value instead\n",
      "\n",
      "See the caveats in the documentation: https://pandas.pydata.org/pandas-docs/stable/user_guide/indexing.html#returning-a-view-versus-a-copy\n",
      "  df[column] = df[column].fillna(df[column].mode()[0])\n",
      "/Users/yanellyhernandez/Library/Mobile Documents/com~apple~CloudDocs/Desktop/Learning Fuze/mod2/week 9/Data_class_proj/preprocessed_DataClass.py:28: SettingWithCopyWarning: \n",
      "A value is trying to be set on a copy of a slice from a DataFrame.\n",
      "Try using .loc[row_indexer,col_indexer] = value instead\n",
      "\n",
      "See the caveats in the documentation: https://pandas.pydata.org/pandas-docs/stable/user_guide/indexing.html#returning-a-view-versus-a-copy\n",
      "  df[column] = df[column].fillna(df[column].mean())\n",
      "/Users/yanellyhernandez/Library/Mobile Documents/com~apple~CloudDocs/Desktop/Learning Fuze/mod2/week 9/Data_class_proj/preprocessed_DataClass.py:21: SettingWithCopyWarning: \n",
      "A value is trying to be set on a copy of a slice from a DataFrame.\n",
      "Try using .loc[row_indexer,col_indexer] = value instead\n",
      "\n",
      "See the caveats in the documentation: https://pandas.pydata.org/pandas-docs/stable/user_guide/indexing.html#returning-a-view-versus-a-copy\n",
      "  df[column] = df[column].fillna(df[column].mode()[0])\n",
      "/Users/yanellyhernandez/Library/Mobile Documents/com~apple~CloudDocs/Desktop/Learning Fuze/mod2/week 9/Data_class_proj/preprocessed_DataClass.py:31: SettingWithCopyWarning: \n",
      "A value is trying to be set on a copy of a slice from a DataFrame.\n",
      "Try using .loc[row_indexer,col_indexer] = value instead\n",
      "\n",
      "See the caveats in the documentation: https://pandas.pydata.org/pandas-docs/stable/user_guide/indexing.html#returning-a-view-versus-a-copy\n",
      "  df[column] = df[column].fillna(df[column].median())\n",
      "/Users/yanellyhernandez/Library/Mobile Documents/com~apple~CloudDocs/Desktop/Learning Fuze/mod2/week 9/Data_class_proj/preprocessed_DataClass.py:28: SettingWithCopyWarning: \n",
      "A value is trying to be set on a copy of a slice from a DataFrame.\n",
      "Try using .loc[row_indexer,col_indexer] = value instead\n",
      "\n",
      "See the caveats in the documentation: https://pandas.pydata.org/pandas-docs/stable/user_guide/indexing.html#returning-a-view-versus-a-copy\n",
      "  df[column] = df[column].fillna(df[column].mean())\n",
      "/Users/yanellyhernandez/Library/Mobile Documents/com~apple~CloudDocs/Desktop/Learning Fuze/mod2/week 9/Data_class_proj/preprocessed_DataClass.py:21: SettingWithCopyWarning: \n",
      "A value is trying to be set on a copy of a slice from a DataFrame.\n",
      "Try using .loc[row_indexer,col_indexer] = value instead\n",
      "\n",
      "See the caveats in the documentation: https://pandas.pydata.org/pandas-docs/stable/user_guide/indexing.html#returning-a-view-versus-a-copy\n",
      "  df[column] = df[column].fillna(df[column].mode()[0])\n",
      "/Users/yanellyhernandez/Library/Mobile Documents/com~apple~CloudDocs/Desktop/Learning Fuze/mod2/week 9/Data_class_proj/preprocessed_DataClass.py:21: SettingWithCopyWarning: \n",
      "A value is trying to be set on a copy of a slice from a DataFrame.\n",
      "Try using .loc[row_indexer,col_indexer] = value instead\n",
      "\n",
      "See the caveats in the documentation: https://pandas.pydata.org/pandas-docs/stable/user_guide/indexing.html#returning-a-view-versus-a-copy\n",
      "  df[column] = df[column].fillna(df[column].mode()[0])\n",
      "/Users/yanellyhernandez/Library/Mobile Documents/com~apple~CloudDocs/Desktop/Learning Fuze/mod2/week 9/Data_class_proj/preprocessed_DataClass.py:21: SettingWithCopyWarning: \n",
      "A value is trying to be set on a copy of a slice from a DataFrame.\n",
      "Try using .loc[row_indexer,col_indexer] = value instead\n",
      "\n",
      "See the caveats in the documentation: https://pandas.pydata.org/pandas-docs/stable/user_guide/indexing.html#returning-a-view-versus-a-copy\n",
      "  df[column] = df[column].fillna(df[column].mode()[0])\n",
      "/Users/yanellyhernandez/Library/Mobile Documents/com~apple~CloudDocs/Desktop/Learning Fuze/mod2/week 9/Data_class_proj/preprocessed_DataClass.py:28: SettingWithCopyWarning: \n",
      "A value is trying to be set on a copy of a slice from a DataFrame.\n",
      "Try using .loc[row_indexer,col_indexer] = value instead\n",
      "\n",
      "See the caveats in the documentation: https://pandas.pydata.org/pandas-docs/stable/user_guide/indexing.html#returning-a-view-versus-a-copy\n",
      "  df[column] = df[column].fillna(df[column].mean())\n"
     ]
    },
    {
     "data": {
      "text/plain": [
       "0"
      ]
     },
     "execution_count": 105,
     "metadata": {},
     "output_type": "execute_result"
    }
   ],
   "source": [
    "# handling nulls:\n",
    "from preprocessed_DataClass import handle_missing_values\n",
    "df_application_test = handle_missing_values(df_application_test)\n",
    "df_application_test.isnull().sum().sum()"
   ]
  },
  {
   "cell_type": "code",
   "execution_count": null,
   "metadata": {},
   "outputs": [
    {
     "name": "stdout",
     "output_type": "stream",
     "text": [
      "Memory usage of this df is:  5.950321197509766 MB\n",
      "--------------------------------\n",
      "column:  AMT_INCOME_TOTAL\n",
      "data type before:  float64\n",
      "data type after:  float32\n",
      "--------------------------------\n",
      "--------------------------------\n",
      "column:  EXT_SOURCE_2\n",
      "data type before:  float64\n",
      "data type after:  float32\n",
      "--------------------------------\n",
      "--------------------------------\n",
      "column:  SK_ID_CURR\n",
      "data type before:  int64\n",
      "data type after:  uint32\n",
      "--------------------------------\n",
      "--------------------------------\n",
      "column:  DAYS_BIRTH\n",
      "data type before:  int64\n",
      "data type after:  int16\n",
      "--------------------------------\n",
      "--------------------------------\n",
      "column:  AMT_ANNUITY\n",
      "data type before:  float64\n",
      "data type after:  float32\n",
      "--------------------------------\n",
      "--------------------------------\n",
      "column:  EXT_SOURCE_1\n",
      "data type before:  float64\n",
      "data type after:  float32\n",
      "--------------------------------\n",
      "--------------------------------\n",
      "column:  AMT_CREDIT\n",
      "data type before:  float64\n",
      "data type after:  float32\n",
      "--------------------------------\n",
      "--------------------------------\n",
      "column:  DAYS_EMPLOYED\n",
      "data type before:  int64\n",
      "data type after:  int32\n",
      "--------------------------------\n",
      "--------------------------------\n",
      "column:  EXT_SOURCE_3\n",
      "data type before:  float64\n",
      "data type after:  float32\n",
      "--------------------------------\n",
      "___ memory usage after: __\n",
      "Memory usage is: 4.183856964111328 MB\n"
     ]
    },
    {
     "name": "stderr",
     "output_type": "stream",
     "text": [
      "/Users/yanellyhernandez/Library/Mobile Documents/com~apple~CloudDocs/Desktop/Learning Fuze/mod2/week 9/Data_class_proj/preprocessed_DataClass.py:127: SettingWithCopyWarning: \n",
      "A value is trying to be set on a copy of a slice from a DataFrame.\n",
      "Try using .loc[row_indexer,col_indexer] = value instead\n",
      "\n",
      "See the caveats in the documentation: https://pandas.pydata.org/pandas-docs/stable/user_guide/indexing.html#returning-a-view-versus-a-copy\n",
      "  df[col] = df[col].astype(np.float32)\n",
      "/Users/yanellyhernandez/Library/Mobile Documents/com~apple~CloudDocs/Desktop/Learning Fuze/mod2/week 9/Data_class_proj/preprocessed_DataClass.py:114: SettingWithCopyWarning: \n",
      "A value is trying to be set on a copy of a slice from a DataFrame.\n",
      "Try using .loc[row_indexer,col_indexer] = value instead\n",
      "\n",
      "See the caveats in the documentation: https://pandas.pydata.org/pandas-docs/stable/user_guide/indexing.html#returning-a-view-versus-a-copy\n",
      "  df[col] = df[col].astype(np.uint32)\n",
      "/Users/yanellyhernandez/Library/Mobile Documents/com~apple~CloudDocs/Desktop/Learning Fuze/mod2/week 9/Data_class_proj/preprocessed_DataClass.py:121: SettingWithCopyWarning: \n",
      "A value is trying to be set on a copy of a slice from a DataFrame.\n",
      "Try using .loc[row_indexer,col_indexer] = value instead\n",
      "\n",
      "See the caveats in the documentation: https://pandas.pydata.org/pandas-docs/stable/user_guide/indexing.html#returning-a-view-versus-a-copy\n",
      "  df[col] = df[col].astype(np.int16)\n",
      "/Users/yanellyhernandez/Library/Mobile Documents/com~apple~CloudDocs/Desktop/Learning Fuze/mod2/week 9/Data_class_proj/preprocessed_DataClass.py:123: SettingWithCopyWarning: \n",
      "A value is trying to be set on a copy of a slice from a DataFrame.\n",
      "Try using .loc[row_indexer,col_indexer] = value instead\n",
      "\n",
      "See the caveats in the documentation: https://pandas.pydata.org/pandas-docs/stable/user_guide/indexing.html#returning-a-view-versus-a-copy\n",
      "  df[col] = df[col].astype(np.int32)\n"
     ]
    }
   ],
   "source": [
    "# reducing the size of df_application_test\n",
    "from preprocessed_DataClass import red_mem_usage\n",
    "df_application_test, _ = red_mem_usage(df_application_test)\n"
   ]
  },
  {
   "cell_type": "code",
   "execution_count": 107,
   "metadata": {},
   "outputs": [
    {
     "name": "stdout",
     "output_type": "stream",
     "text": [
      "<class 'pandas.core.frame.DataFrame'>\n",
      "RangeIndex: 48744 entries, 0 to 48743\n",
      "Data columns (total 16 columns):\n",
      " #   Column               Non-Null Count  Dtype  \n",
      "---  ------               --------------  -----  \n",
      " 0   NAME_CONTRACT_TYPE   48744 non-null  object \n",
      " 1   NAME_EDUCATION_TYPE  48744 non-null  object \n",
      " 2   NAME_FAMILY_STATUS   48744 non-null  object \n",
      " 3   AMT_INCOME_TOTAL     48744 non-null  float32\n",
      " 4   EXT_SOURCE_2         48744 non-null  float32\n",
      " 5   OCCUPATION_TYPE      48744 non-null  object \n",
      " 6   SK_ID_CURR           48744 non-null  uint32 \n",
      " 7   DAYS_BIRTH           48744 non-null  int16  \n",
      " 8   AMT_ANNUITY          48744 non-null  float32\n",
      " 9   EXT_SOURCE_1         48744 non-null  float32\n",
      " 10  AMT_CREDIT           48744 non-null  float32\n",
      " 11  DAYS_EMPLOYED        48744 non-null  int32  \n",
      " 12  NAME_HOUSING_TYPE    48744 non-null  object \n",
      " 13  NAME_INCOME_TYPE     48744 non-null  object \n",
      " 14  ORGANIZATION_TYPE    48744 non-null  object \n",
      " 15  EXT_SOURCE_3         48744 non-null  float32\n",
      "dtypes: float32(6), int16(1), int32(1), object(7), uint32(1)\n",
      "memory usage: 4.2+ MB\n"
     ]
    }
   ],
   "source": [
    "df_application_test.info(verbose=True)"
   ]
  },
  {
   "cell_type": "markdown",
   "metadata": {},
   "source": [
    "# merging test like train"
   ]
  },
  {
   "cell_type": "code",
   "execution_count": 108,
   "metadata": {},
   "outputs": [
    {
     "name": "stdout",
     "output_type": "stream",
     "text": [
      "<class 'pandas.core.frame.DataFrame'>\n",
      "Int64Index: 48744 entries, 0 to 48743\n",
      "Data columns (total 53 columns):\n",
      " #   Column                         Non-Null Count  Dtype  \n",
      "---  ------                         --------------  -----  \n",
      " 0   NAME_CONTRACT_TYPE             48744 non-null  object \n",
      " 1   NAME_EDUCATION_TYPE            48744 non-null  object \n",
      " 2   NAME_FAMILY_STATUS             48744 non-null  object \n",
      " 3   AMT_INCOME_TOTAL               48744 non-null  float32\n",
      " 4   EXT_SOURCE_2                   48744 non-null  float32\n",
      " 5   OCCUPATION_TYPE                48744 non-null  object \n",
      " 6   SK_ID_CURR                     48744 non-null  uint32 \n",
      " 7   DAYS_BIRTH                     48744 non-null  int16  \n",
      " 8   AMT_ANNUITY                    48744 non-null  float32\n",
      " 9   EXT_SOURCE_1                   48744 non-null  float32\n",
      " 10  AMT_CREDIT                     48744 non-null  float32\n",
      " 11  DAYS_EMPLOYED                  48744 non-null  int32  \n",
      " 12  NAME_HOUSING_TYPE              48744 non-null  object \n",
      " 13  NAME_INCOME_TYPE               48744 non-null  object \n",
      " 14  ORGANIZATION_TYPE              48744 non-null  object \n",
      " 15  EXT_SOURCE_3                   48744 non-null  float32\n",
      " 16  MONTHS_BALANCE_mean_x          47808 non-null  float64\n",
      " 17  MONTHS_BALANCE_min             47808 non-null  float64\n",
      " 18  MONTHS_BALANCE_max_x           47808 non-null  float64\n",
      " 19  CNT_INSTALMENT_mean            47808 non-null  float64\n",
      " 20  CNT_INSTALMENT_min             47808 non-null  float64\n",
      " 21  CNT_INSTALMENT_max             47808 non-null  float64\n",
      " 22  CNT_INSTALMENT_FUTURE_mean     47808 non-null  float64\n",
      " 23  CNT_INSTALMENT_FUTURE_min      47808 non-null  float64\n",
      " 24  CNT_INSTALMENT_FUTURE_max      47808 non-null  float64\n",
      " 25  SK_DPD_DEF_mean_x              47808 non-null  float64\n",
      " 26  SK_DPD_DEF_max_x               47808 non-null  float64\n",
      " 27  NAME_CONTRACT_STATUS_count_x   47808 non-null  float64\n",
      " 28  INSTALMENT_RATIO_mean          47808 non-null  float32\n",
      " 29  INSTALMENT_RATIO_max           47808 non-null  float32\n",
      " 30  MONTHS_BALANCE_mean_y          42311 non-null  float64\n",
      " 31  MONTHS_BALANCE_max_y           42311 non-null  float64\n",
      " 32  STATUS_count                   42320 non-null  float64\n",
      " 33  CNT_DRAWINGS_ATM_CURRENT_mean  16653 non-null  float64\n",
      " 34  CNT_DRAWINGS_ATM_CURRENT_max   16653 non-null  float64\n",
      " 35  AMT_BALANCE_mean               16653 non-null  float32\n",
      " 36  AMT_BALANCE_max                16653 non-null  float32\n",
      " 37  AMT_PAYMENT_CURRENT_mean       16653 non-null  float32\n",
      " 38  AMT_PAYMENT_CURRENT_sum        16653 non-null  float32\n",
      " 39  SK_DPD_mean                    16653 non-null  float64\n",
      " 40  SK_DPD_max                     16653 non-null  float64\n",
      " 41  AMT_INST_MIN_REGULARITY_mean   16653 non-null  float32\n",
      " 42  AMT_INST_MIN_REGULARITY_min    16653 non-null  float32\n",
      " 43  AMT_INST_MIN_REGULARITY_max    16653 non-null  float32\n",
      " 44  SK_DPD_DEF_mean_y              16653 non-null  float64\n",
      " 45  SK_DPD_DEF_max_y               16653 non-null  float64\n",
      " 46  AMT_APPLICATION_mean           47800 non-null  float32\n",
      " 47  AMT_APPLICATION_max            47800 non-null  float32\n",
      " 48  AMT_ANNUITY_mean               47800 non-null  float32\n",
      " 49  AMT_ANNUITY_max                47800 non-null  float32\n",
      " 50  NAME_CONTRACT_STATUS_count_y   47800 non-null  float64\n",
      " 51  DAYS_DECISION_mean             47800 non-null  float64\n",
      " 52  DAYS_DECISION_min              47800 non-null  float64\n",
      "dtypes: float32(19), float64(24), int16(1), int32(1), object(7), uint32(1)\n",
      "memory usage: 15.9+ MB\n"
     ]
    }
   ],
   "source": [
    "# Merge all aggregated tables with df_application_train on SK_ID_CURR\n",
    "merged_test = df_application_test.merge(POS_CASH_agg, on='SK_ID_CURR', how='left') \\\n",
    "                                .merge(bureau_agg, on='SK_ID_CURR', how='left') \\\n",
    "                                .merge(credit_card_agg, on='SK_ID_CURR', how='left') \\\n",
    "                                .merge(previous_application_agg, on='SK_ID_CURR', how='left')\n",
    "\n",
    "merged_test.info()"
   ]
  },
  {
   "cell_type": "code",
   "execution_count": null,
   "metadata": {},
   "outputs": [
    {
     "name": "stderr",
     "output_type": "stream",
     "text": [
      "/var/folders/6j/3l6q9l4515sdmfyg8znhblxr0000gn/T/ipykernel_10917/1308660932.py:2: FutureWarning: The default value of numeric_only in DataFrame.corr is deprecated. In a future version, it will default to False. Select only valid columns or specify the value of numeric_only to silence this warning.\n",
      "  corr_matrix = merged_test.corr().abs()\n"
     ]
    }
   ],
   "source": [
    "# Leaving out high correlated values:\n",
    "corr_matrix = merged_test.corr(numeric_only=True).abs()\n",
    "upper_tri = corr_matrix.where(np.triu(np.ones(corr_matrix.shape), k=1).astype(bool))\n",
    "to_drop = [column for column in upper_tri.columns if any(upper_tri[column] > 0.9)]\n",
    "merged_test.drop(columns=to_drop, inplace=True)"
   ]
  },
  {
   "cell_type": "code",
   "execution_count": 110,
   "metadata": {},
   "outputs": [],
   "source": [
    "# feature engineer:\n",
    "merged_test['CREDIT_INCOME_RATIO'] = merged_test['AMT_CREDIT'] / (merged_test['AMT_INCOME_TOTAL'] + 1e-5)\n",
    "merged_test['ANNUITY_CREDIT_RATIO'] = merged_test['AMT_ANNUITY'] / (merged_test['AMT_CREDIT'] + 1e-5)\n",
    "merged_test['ANNUITY_INCOME_RATIO'] = merged_test['AMT_ANNUITY'] / (merged_test['AMT_INCOME_TOTAL'] + 1e-5)\n",
    "merged_test['EXT_SOURCE_COMBINATION'] = merged_test['EXT_SOURCE_2'] * merged_test['EXT_SOURCE_3']"
   ]
  },
  {
   "cell_type": "code",
   "execution_count": 111,
   "metadata": {},
   "outputs": [],
   "source": [
    "# Polynomial or Interaction Features\n",
    "merged_test['EXT_SOURCE_INTERACTION'] = merged_test['EXT_SOURCE_2'] * merged_test['EXT_SOURCE_3']\n",
    "merged_test['AGE_EMPLOYMENT_RATIO'] = merged_test['DAYS_EMPLOYED'] / merged_test['DAYS_BIRTH']\n",
    "\n",
    "# Custom Features\n",
    "merged_test['DEBT_TO_INCOME_RATIO'] = merged_test['AMT_CREDIT'] / merged_test['AMT_INCOME_TOTAL']\n",
    "merged_test['LOAN_TO_INCOME_RATIO'] = merged_test['AMT_CREDIT'] / (merged_test['AMT_ANNUITY'] + merged_test['AMT_INCOME_TOTAL'])"
   ]
  },
  {
   "cell_type": "code",
   "execution_count": 112,
   "metadata": {},
   "outputs": [
    {
     "data": {
      "text/plain": [
       "0"
      ]
     },
     "execution_count": 112,
     "metadata": {},
     "output_type": "execute_result"
    }
   ],
   "source": [
    "merged_test.duplicated().sum()"
   ]
  },
  {
   "cell_type": "code",
   "execution_count": 113,
   "metadata": {},
   "outputs": [
    {
     "data": {
      "text/plain": [
       "291978"
      ]
     },
     "execution_count": 113,
     "metadata": {},
     "output_type": "execute_result"
    }
   ],
   "source": [
    "merged_test.isnull().sum().sum()"
   ]
  },
  {
   "cell_type": "code",
   "execution_count": null,
   "metadata": {},
   "outputs": [
    {
     "data": {
      "text/plain": [
       "0"
      ]
     },
     "execution_count": 114,
     "metadata": {},
     "output_type": "execute_result"
    }
   ],
   "source": [
    "# handling nulls:\n",
    "from preprocessed_DataClass import handle_missing_values\n",
    "merged_test = handle_missing_values(merged_test)\n",
    "merged_test.isnull().sum().sum()"
   ]
  },
  {
   "cell_type": "code",
   "execution_count": 115,
   "metadata": {},
   "outputs": [
    {
     "data": {
      "text/plain": [
       "['NAME_CONTRACT_TYPE',\n",
       " 'NAME_EDUCATION_TYPE',\n",
       " 'NAME_FAMILY_STATUS',\n",
       " 'OCCUPATION_TYPE',\n",
       " 'NAME_HOUSING_TYPE',\n",
       " 'NAME_INCOME_TYPE',\n",
       " 'ORGANIZATION_TYPE']"
      ]
     },
     "execution_count": 115,
     "metadata": {},
     "output_type": "execute_result"
    }
   ],
   "source": [
    "# Listing the categorical variables\n",
    "merged_test.select_dtypes(include=['object']).columns.tolist()"
   ]
  },
  {
   "cell_type": "code",
   "execution_count": null,
   "metadata": {},
   "outputs": [],
   "source": [
    "# Label encoding ft's as in merged_df\n",
    "from preprocessed_DataClass import label_encode_test\n",
    "merged_test = label_encode_test(merged_test, labelcols, label_encoders)"
   ]
  },
  {
   "cell_type": "code",
   "execution_count": null,
   "metadata": {},
   "outputs": [],
   "source": [
    "# Target encoding ft's as in merged_df\n",
    "from preprocessed_DataClass import target_encode_test\n",
    "merged_test = target_encode_test(merged_test, targ_encoders, target_cols)"
   ]
  },
  {
   "cell_type": "code",
   "execution_count": 118,
   "metadata": {},
   "outputs": [
    {
     "data": {
      "text/plain": [
       "[]"
      ]
     },
     "execution_count": 118,
     "metadata": {},
     "output_type": "execute_result"
    }
   ],
   "source": [
    "# Listing to see if all categorical variables are encoded\n",
    "merged_test.select_dtypes(include=['object']).columns.tolist()"
   ]
  },
  {
   "cell_type": "code",
   "execution_count": null,
   "metadata": {},
   "outputs": [
    {
     "name": "stdout",
     "output_type": "stream",
     "text": [
      "Memory usage of this df is:  12.551193237304688 MB\n",
      "--------------------------------\n",
      "column:  NAME_CONTRACT_TYPE\n",
      "data type before:  int64\n",
      "data type after:  uint8\n",
      "--------------------------------\n",
      "--------------------------------\n",
      "column:  NAME_EDUCATION_TYPE\n",
      "data type before:  int64\n",
      "data type after:  uint8\n",
      "--------------------------------\n",
      "--------------------------------\n",
      "column:  NAME_FAMILY_STATUS\n",
      "data type before:  float64\n",
      "data type after:  float32\n",
      "--------------------------------\n",
      "--------------------------------\n",
      "column:  AMT_INCOME_TOTAL\n",
      "data type before:  float32\n",
      "data type after:  float32\n",
      "--------------------------------\n",
      "--------------------------------\n",
      "column:  EXT_SOURCE_2\n",
      "data type before:  float32\n",
      "data type after:  float32\n",
      "--------------------------------\n",
      "--------------------------------\n",
      "column:  OCCUPATION_TYPE\n",
      "data type before:  float64\n",
      "data type after:  float32\n",
      "--------------------------------\n",
      "--------------------------------\n",
      "column:  SK_ID_CURR\n",
      "data type before:  uint32\n",
      "data type after:  uint32\n",
      "--------------------------------\n",
      "--------------------------------\n",
      "column:  DAYS_BIRTH\n",
      "data type before:  int16\n",
      "data type after:  int16\n",
      "--------------------------------\n",
      "--------------------------------\n",
      "column:  AMT_ANNUITY\n",
      "data type before:  float32\n",
      "data type after:  float32\n",
      "--------------------------------\n",
      "--------------------------------\n",
      "column:  EXT_SOURCE_1\n",
      "data type before:  float32\n",
      "data type after:  float32\n",
      "--------------------------------\n",
      "--------------------------------\n",
      "column:  AMT_CREDIT\n",
      "data type before:  float32\n",
      "data type after:  float32\n",
      "--------------------------------\n",
      "--------------------------------\n",
      "column:  DAYS_EMPLOYED\n",
      "data type before:  int32\n",
      "data type after:  int32\n",
      "--------------------------------\n",
      "--------------------------------\n",
      "column:  NAME_HOUSING_TYPE\n",
      "data type before:  float64\n",
      "data type after:  float32\n",
      "--------------------------------\n",
      "--------------------------------\n",
      "column:  NAME_INCOME_TYPE\n",
      "data type before:  int64\n",
      "data type after:  uint8\n",
      "--------------------------------\n",
      "--------------------------------\n",
      "column:  ORGANIZATION_TYPE\n",
      "data type before:  float64\n",
      "data type after:  float32\n",
      "--------------------------------\n",
      "--------------------------------\n",
      "column:  EXT_SOURCE_3\n",
      "data type before:  float32\n",
      "data type after:  float32\n",
      "--------------------------------\n",
      "--------------------------------\n",
      "column:  MONTHS_BALANCE_mean_x\n",
      "data type before:  float64\n",
      "data type after:  float32\n",
      "--------------------------------\n",
      "--------------------------------\n",
      "column:  MONTHS_BALANCE_min\n",
      "data type before:  float64\n",
      "data type after:  float32\n",
      "--------------------------------\n",
      "--------------------------------\n",
      "column:  MONTHS_BALANCE_max_x\n",
      "data type before:  float64\n",
      "data type after:  int8\n",
      "--------------------------------\n",
      "--------------------------------\n",
      "column:  CNT_INSTALMENT_mean\n",
      "data type before:  float64\n",
      "data type after:  float32\n",
      "--------------------------------\n",
      "--------------------------------\n",
      "column:  CNT_INSTALMENT_min\n",
      "data type before:  float64\n",
      "data type after:  uint8\n",
      "--------------------------------\n",
      "--------------------------------\n",
      "column:  CNT_INSTALMENT_max\n",
      "data type before:  float64\n",
      "data type after:  uint8\n",
      "--------------------------------\n",
      "--------------------------------\n",
      "column:  CNT_INSTALMENT_FUTURE_min\n",
      "data type before:  float64\n",
      "data type after:  uint8\n",
      "--------------------------------\n",
      "--------------------------------\n",
      "column:  SK_DPD_DEF_mean_x\n",
      "data type before:  float64\n",
      "data type after:  float32\n",
      "--------------------------------\n",
      "--------------------------------\n",
      "column:  NAME_CONTRACT_STATUS_count_x\n",
      "data type before:  float64\n",
      "data type after:  uint8\n",
      "--------------------------------\n",
      "--------------------------------\n",
      "column:  INSTALMENT_RATIO_mean\n",
      "data type before:  float32\n",
      "data type after:  float32\n",
      "--------------------------------\n",
      "--------------------------------\n",
      "column:  INSTALMENT_RATIO_max\n",
      "data type before:  float32\n",
      "data type after:  float32\n",
      "--------------------------------\n",
      "--------------------------------\n",
      "column:  MONTHS_BALANCE_mean_y\n",
      "data type before:  float64\n",
      "data type after:  float32\n",
      "--------------------------------\n",
      "--------------------------------\n",
      "column:  MONTHS_BALANCE_max_y\n",
      "data type before:  float64\n",
      "data type after:  int8\n",
      "--------------------------------\n",
      "--------------------------------\n",
      "column:  STATUS_count\n",
      "data type before:  float64\n",
      "data type after:  uint16\n",
      "--------------------------------\n",
      "--------------------------------\n",
      "column:  AMT_APPLICATION_mean\n",
      "data type before:  float32\n",
      "data type after:  float32\n",
      "--------------------------------\n",
      "--------------------------------\n",
      "column:  AMT_APPLICATION_max\n",
      "data type before:  float32\n",
      "data type after:  float32\n",
      "--------------------------------\n",
      "--------------------------------\n",
      "column:  AMT_ANNUITY_mean\n",
      "data type before:  float32\n",
      "data type after:  float32\n",
      "--------------------------------\n",
      "--------------------------------\n",
      "column:  AMT_ANNUITY_max\n",
      "data type before:  float32\n",
      "data type after:  float32\n",
      "--------------------------------\n",
      "--------------------------------\n",
      "column:  NAME_CONTRACT_STATUS_count_y\n",
      "data type before:  float64\n",
      "data type after:  uint8\n",
      "--------------------------------\n",
      "--------------------------------\n",
      "column:  DAYS_DECISION_mean\n",
      "data type before:  float64\n",
      "data type after:  float32\n",
      "--------------------------------\n",
      "--------------------------------\n",
      "column:  CREDIT_INCOME_RATIO\n",
      "data type before:  float32\n",
      "data type after:  float32\n",
      "--------------------------------\n",
      "--------------------------------\n",
      "column:  ANNUITY_CREDIT_RATIO\n",
      "data type before:  float32\n",
      "data type after:  float32\n",
      "--------------------------------\n",
      "--------------------------------\n",
      "column:  ANNUITY_INCOME_RATIO\n",
      "data type before:  float32\n",
      "data type after:  float32\n",
      "--------------------------------\n",
      "--------------------------------\n",
      "column:  EXT_SOURCE_COMBINATION\n",
      "data type before:  float32\n",
      "data type after:  float32\n",
      "--------------------------------\n",
      "--------------------------------\n",
      "column:  EXT_SOURCE_INTERACTION\n",
      "data type before:  float32\n",
      "data type after:  float32\n",
      "--------------------------------\n",
      "--------------------------------\n",
      "column:  AGE_EMPLOYMENT_RATIO\n",
      "data type before:  float64\n",
      "data type after:  float32\n",
      "--------------------------------\n",
      "--------------------------------\n",
      "column:  DEBT_TO_INCOME_RATIO\n",
      "data type before:  float32\n",
      "data type after:  float32\n",
      "--------------------------------\n",
      "--------------------------------\n",
      "column:  LOAN_TO_INCOME_RATIO\n",
      "data type before:  float32\n",
      "data type after:  float32\n",
      "--------------------------------\n",
      "___ memory usage after: __\n",
      "Memory usage is: 6.9728851318359375 MB\n"
     ]
    }
   ],
   "source": [
    "# reducing the size of merged_test\n",
    "from preprocessed_DataClass import red_mem_usage\n",
    "merged_test, _ = red_mem_usage(merged_test)"
   ]
  },
  {
   "cell_type": "code",
   "execution_count": 120,
   "metadata": {},
   "outputs": [
    {
     "name": "stdout",
     "output_type": "stream",
     "text": [
      "<class 'pandas.core.frame.DataFrame'>\n",
      "Int64Index: 48744 entries, 0 to 48743\n",
      "Data columns (total 44 columns):\n",
      " #   Column                        Non-Null Count  Dtype  \n",
      "---  ------                        --------------  -----  \n",
      " 0   NAME_CONTRACT_TYPE            48744 non-null  uint8  \n",
      " 1   NAME_EDUCATION_TYPE           48744 non-null  uint8  \n",
      " 2   NAME_FAMILY_STATUS            48744 non-null  float32\n",
      " 3   AMT_INCOME_TOTAL              48744 non-null  float32\n",
      " 4   EXT_SOURCE_2                  48744 non-null  float32\n",
      " 5   OCCUPATION_TYPE               48744 non-null  float32\n",
      " 6   SK_ID_CURR                    48744 non-null  uint32 \n",
      " 7   DAYS_BIRTH                    48744 non-null  int16  \n",
      " 8   AMT_ANNUITY                   48744 non-null  float32\n",
      " 9   EXT_SOURCE_1                  48744 non-null  float32\n",
      " 10  AMT_CREDIT                    48744 non-null  float32\n",
      " 11  DAYS_EMPLOYED                 48744 non-null  int32  \n",
      " 12  NAME_HOUSING_TYPE             48744 non-null  float32\n",
      " 13  NAME_INCOME_TYPE              48744 non-null  uint8  \n",
      " 14  ORGANIZATION_TYPE             48744 non-null  float32\n",
      " 15  EXT_SOURCE_3                  48744 non-null  float32\n",
      " 16  MONTHS_BALANCE_mean_x         48744 non-null  float32\n",
      " 17  MONTHS_BALANCE_min            48744 non-null  float32\n",
      " 18  MONTHS_BALANCE_max_x          48744 non-null  int8   \n",
      " 19  CNT_INSTALMENT_mean           48744 non-null  float32\n",
      " 20  CNT_INSTALMENT_min            48744 non-null  uint8  \n",
      " 21  CNT_INSTALMENT_max            48744 non-null  uint8  \n",
      " 22  CNT_INSTALMENT_FUTURE_min     48744 non-null  uint8  \n",
      " 23  SK_DPD_DEF_mean_x             48744 non-null  float32\n",
      " 24  NAME_CONTRACT_STATUS_count_x  48744 non-null  uint8  \n",
      " 25  INSTALMENT_RATIO_mean         48744 non-null  float32\n",
      " 26  INSTALMENT_RATIO_max          48744 non-null  float32\n",
      " 27  MONTHS_BALANCE_mean_y         48744 non-null  float32\n",
      " 28  MONTHS_BALANCE_max_y          48744 non-null  int8   \n",
      " 29  STATUS_count                  48744 non-null  uint16 \n",
      " 30  AMT_APPLICATION_mean          48744 non-null  float32\n",
      " 31  AMT_APPLICATION_max           48744 non-null  float32\n",
      " 32  AMT_ANNUITY_mean              48744 non-null  float32\n",
      " 33  AMT_ANNUITY_max               48744 non-null  float32\n",
      " 34  NAME_CONTRACT_STATUS_count_y  48744 non-null  uint8  \n",
      " 35  DAYS_DECISION_mean            48744 non-null  float32\n",
      " 36  CREDIT_INCOME_RATIO           48744 non-null  float32\n",
      " 37  ANNUITY_CREDIT_RATIO          48744 non-null  float32\n",
      " 38  ANNUITY_INCOME_RATIO          48744 non-null  float32\n",
      " 39  EXT_SOURCE_COMBINATION        48744 non-null  float32\n",
      " 40  EXT_SOURCE_INTERACTION        48744 non-null  float32\n",
      " 41  AGE_EMPLOYMENT_RATIO          48744 non-null  float32\n",
      " 42  DEBT_TO_INCOME_RATIO          48744 non-null  float32\n",
      " 43  LOAN_TO_INCOME_RATIO          48744 non-null  float32\n",
      "dtypes: float32(30), int16(1), int32(1), int8(2), uint16(1), uint32(1), uint8(8)\n",
      "memory usage: 7.0 MB\n"
     ]
    }
   ],
   "source": [
    "merged_test.info()"
   ]
  },
  {
   "cell_type": "code",
   "execution_count": 121,
   "metadata": {},
   "outputs": [
    {
     "data": {
      "text/plain": [
       "NAME_CONTRACT_TYPE              10.394706\n",
       "NAME_EDUCATION_TYPE             -0.945788\n",
       "NAME_FAMILY_STATUS               0.646696\n",
       "AMT_INCOME_TOTAL                 5.301189\n",
       "EXT_SOURCE_2                    -0.781122\n",
       "OCCUPATION_TYPE                  1.162234\n",
       "SK_ID_CURR                       0.007560\n",
       "DAYS_BIRTH                      -0.117834\n",
       "AMT_ANNUITY                      1.474985\n",
       "EXT_SOURCE_1                    -0.160081\n",
       "AMT_CREDIT                       1.648831\n",
       "DAYS_EMPLOYED                    1.577525\n",
       "NAME_HOUSING_TYPE                3.511241\n",
       "NAME_INCOME_TYPE                -0.311745\n",
       "ORGANIZATION_TYPE                0.016722\n",
       "EXT_SOURCE_3                    -0.370786\n",
       "MONTHS_BALANCE_mean_x           -0.890548\n",
       "MONTHS_BALANCE_min              -0.065347\n",
       "MONTHS_BALANCE_max_x            -2.401545\n",
       "CNT_INSTALMENT_mean              1.458384\n",
       "CNT_INSTALMENT_min               2.648721\n",
       "CNT_INSTALMENT_max               1.339805\n",
       "CNT_INSTALMENT_FUTURE_min        9.738145\n",
       "SK_DPD_DEF_mean_x               76.943764\n",
       "NAME_CONTRACT_STATUS_count_x     1.906366\n",
       "INSTALMENT_RATIO_mean            6.414012\n",
       "INSTALMENT_RATIO_max             0.985442\n",
       "MONTHS_BALANCE_mean_y           -0.551063\n",
       "MONTHS_BALANCE_max_y           -12.499279\n",
       "STATUS_count                     2.003569\n",
       "AMT_APPLICATION_mean             3.185323\n",
       "AMT_APPLICATION_max              2.124506\n",
       "AMT_ANNUITY_mean                 3.617858\n",
       "AMT_ANNUITY_max                  2.396000\n",
       "NAME_CONTRACT_STATUS_count_y     2.040466\n",
       "DAYS_DECISION_mean              -1.117957\n",
       "CREDIT_INCOME_RATIO              2.006133\n",
       "ANNUITY_CREDIT_RATIO             0.576695\n",
       "ANNUITY_INCOME_RATIO             1.684903\n",
       "EXT_SOURCE_COMBINATION           0.177276\n",
       "EXT_SOURCE_INTERACTION           0.177276\n",
       "AGE_EMPLOYMENT_RATIO            -1.657125\n",
       "DEBT_TO_INCOME_RATIO             2.006133\n",
       "LOAN_TO_INCOME_RATIO             1.409136\n",
       "dtype: float64"
      ]
     },
     "execution_count": 121,
     "metadata": {},
     "output_type": "execute_result"
    }
   ],
   "source": [
    "merged_test.skew()"
   ]
  },
  {
   "cell_type": "markdown",
   "metadata": {},
   "source": [
    "# make prediction"
   ]
  },
  {
   "cell_type": "code",
   "execution_count": 122,
   "metadata": {},
   "outputs": [],
   "source": [
    "# Ensure the test set has the same columns in the same order as the training set\n",
    "feature_columns = xtrain.columns if isinstance(xtrain, pd.DataFrame) else X.columns\n",
    "\n",
    "# Reorder `merged_test` to match the training feature order\n",
    "merged_test = merged_test[feature_columns]"
   ]
  },
  {
   "cell_type": "code",
   "execution_count": 123,
   "metadata": {},
   "outputs": [],
   "source": [
    "# Use the same scaler used for training data\n",
    "merged_test = scaler.transform(merged_test)"
   ]
  },
  {
   "cell_type": "code",
   "execution_count": 124,
   "metadata": {},
   "outputs": [
    {
     "name": "stdout",
     "output_type": "stream",
     "text": [
      "Test Predictions (Probabilities): [0.02620417 0.11974286 0.01232711 ... 0.01474141 0.01667454 0.10964923]\n",
      "Binary Test Predictions (Classes): [0 1 0 ... 0 0 1]\n"
     ]
    }
   ],
   "source": [
    "# Convert merged_test to DMatrix\n",
    "dtest = xgb.DMatrix(merged_test)\n",
    "\n",
    "# Get predictions\n",
    "test_predictions = xgb_model.predict(dtest)\n",
    "\n",
    "# If you want binary predictions (e.g., thresholded at 0.5):\n",
    "binary_predictions = (test_predictions > 0.1).astype(int)\n",
    "\n",
    "# Output predictions\n",
    "print(\"Test Predictions (Probabilities):\", test_predictions)\n",
    "print(\"Binary Test Predictions (Classes):\", binary_predictions)\n"
   ]
  },
  {
   "cell_type": "code",
   "execution_count": 125,
   "metadata": {},
   "outputs": [
    {
     "data": {
      "text/html": [
       "<div>\n",
       "<style scoped>\n",
       "    .dataframe tbody tr th:only-of-type {\n",
       "        vertical-align: middle;\n",
       "    }\n",
       "\n",
       "    .dataframe tbody tr th {\n",
       "        vertical-align: top;\n",
       "    }\n",
       "\n",
       "    .dataframe thead th {\n",
       "        text-align: right;\n",
       "    }\n",
       "</style>\n",
       "<table border=\"1\" class=\"dataframe\">\n",
       "  <thead>\n",
       "    <tr style=\"text-align: right;\">\n",
       "      <th></th>\n",
       "      <th>SK_ID_CURR</th>\n",
       "      <th>Target</th>\n",
       "    </tr>\n",
       "  </thead>\n",
       "  <tbody>\n",
       "    <tr>\n",
       "      <th>0</th>\n",
       "      <td>100001</td>\n",
       "      <td>0.026204</td>\n",
       "    </tr>\n",
       "    <tr>\n",
       "      <th>1</th>\n",
       "      <td>100005</td>\n",
       "      <td>0.119743</td>\n",
       "    </tr>\n",
       "    <tr>\n",
       "      <th>2</th>\n",
       "      <td>100013</td>\n",
       "      <td>0.012327</td>\n",
       "    </tr>\n",
       "    <tr>\n",
       "      <th>3</th>\n",
       "      <td>100028</td>\n",
       "      <td>0.042308</td>\n",
       "    </tr>\n",
       "    <tr>\n",
       "      <th>4</th>\n",
       "      <td>100038</td>\n",
       "      <td>0.124340</td>\n",
       "    </tr>\n",
       "    <tr>\n",
       "      <th>...</th>\n",
       "      <td>...</td>\n",
       "      <td>...</td>\n",
       "    </tr>\n",
       "    <tr>\n",
       "      <th>48739</th>\n",
       "      <td>456221</td>\n",
       "      <td>0.020343</td>\n",
       "    </tr>\n",
       "    <tr>\n",
       "      <th>48740</th>\n",
       "      <td>456222</td>\n",
       "      <td>0.062453</td>\n",
       "    </tr>\n",
       "    <tr>\n",
       "      <th>48741</th>\n",
       "      <td>456223</td>\n",
       "      <td>0.014741</td>\n",
       "    </tr>\n",
       "    <tr>\n",
       "      <th>48742</th>\n",
       "      <td>456224</td>\n",
       "      <td>0.016675</td>\n",
       "    </tr>\n",
       "    <tr>\n",
       "      <th>48743</th>\n",
       "      <td>456250</td>\n",
       "      <td>0.109649</td>\n",
       "    </tr>\n",
       "  </tbody>\n",
       "</table>\n",
       "<p>48744 rows × 2 columns</p>\n",
       "</div>"
      ],
      "text/plain": [
       "       SK_ID_CURR    Target\n",
       "0          100001  0.026204\n",
       "1          100005  0.119743\n",
       "2          100013  0.012327\n",
       "3          100028  0.042308\n",
       "4          100038  0.124340\n",
       "...           ...       ...\n",
       "48739      456221  0.020343\n",
       "48740      456222  0.062453\n",
       "48741      456223  0.014741\n",
       "48742      456224  0.016675\n",
       "48743      456250  0.109649\n",
       "\n",
       "[48744 rows x 2 columns]"
      ]
     },
     "execution_count": 125,
     "metadata": {},
     "output_type": "execute_result"
    }
   ],
   "source": [
    "# setting up for submission\n",
    "submission_df = pd.DataFrame({'SK_ID_CURR': df_application_test['SK_ID_CURR'],\n",
    "                               'Target': test_predictions.flatten()})\n",
    "submission_df "
   ]
  },
  {
   "cell_type": "code",
   "execution_count": 126,
   "metadata": {},
   "outputs": [],
   "source": [
    "# save to csv\n",
    "submission_df.to_csv('submission_class.csv', index = False)"
   ]
  }
 ],
 "metadata": {
  "kernelspec": {
   "display_name": "base",
   "language": "python",
   "name": "python3"
  },
  "language_info": {
   "codemirror_mode": {
    "name": "ipython",
    "version": 3
   },
   "file_extension": ".py",
   "mimetype": "text/x-python",
   "name": "python",
   "nbconvert_exporter": "python",
   "pygments_lexer": "ipython3",
   "version": "3.11.5"
  }
 },
 "nbformat": 4,
 "nbformat_minor": 2
}
